{
 "cells": [
  {
   "cell_type": "markdown",
   "id": "d36b74d2",
   "metadata": {},
   "source": [
    "# **NETTOYAGE DE LA BASE DE DONNÉE DES MANUELS SCOLAIRES**"
   ]
  },
  {
   "cell_type": "code",
   "execution_count": 15,
   "id": "a8645042",
   "metadata": {},
   "outputs": [],
   "source": [
    "import pandas as pd\n",
    "from pathlib import Path\n",
    "import re\n",
    "\n",
    "# Configuration des chemins\n",
    "BASE_DIR = Path('..')\n",
    "RAW_DIR = BASE_DIR / 'data' / 'raw' / 'Article'\n",
    "PROCESSED_DIR = BASE_DIR / 'data' / 'processed' / 'final'\n",
    "PROCESSED_DIR.mkdir(parents=True, exist_ok=True)"
   ]
  },
  {
   "cell_type": "code",
   "execution_count": 16,
   "id": "c0e0595f",
   "metadata": {},
   "outputs": [
    {
     "data": {
      "text/html": [
       "<div>\n",
       "<style scoped>\n",
       "    .dataframe tbody tr th:only-of-type {\n",
       "        vertical-align: middle;\n",
       "    }\n",
       "\n",
       "    .dataframe tbody tr th {\n",
       "        vertical-align: top;\n",
       "    }\n",
       "\n",
       "    .dataframe thead th {\n",
       "        text-align: right;\n",
       "    }\n",
       "</style>\n",
       "<table border=\"1\" class=\"dataframe\">\n",
       "  <thead>\n",
       "    <tr style=\"text-align: right;\">\n",
       "      <th></th>\n",
       "      <th>CLASSE</th>\n",
       "      <th>LIVRES</th>\n",
       "      <th>PRIX</th>\n",
       "    </tr>\n",
       "  </thead>\n",
       "  <tbody>\n",
       "    <tr>\n",
       "      <th>0</th>\n",
       "      <td>Maternelle 1ère année</td>\n",
       "      <td>Langage : Mon cahier d’activités de langage 1è...</td>\n",
       "      <td>1 000</td>\n",
       "    </tr>\n",
       "    <tr>\n",
       "      <th>1</th>\n",
       "      <td>Maternelle 1ère année</td>\n",
       "      <td>Mathématiques : Mon cahier d’activités de math...</td>\n",
       "      <td>1 000</td>\n",
       "    </tr>\n",
       "    <tr>\n",
       "      <th>2</th>\n",
       "      <td>Maternelle 1ère année</td>\n",
       "      <td>Dessin, Peinture, Coloriage : Je pratique le d...</td>\n",
       "      <td>1 000</td>\n",
       "    </tr>\n",
       "    <tr>\n",
       "      <th>3</th>\n",
       "      <td>Maternelle 2ème année</td>\n",
       "      <td>Langage : Les Majors en activité de langage Ma...</td>\n",
       "      <td>1 000</td>\n",
       "    </tr>\n",
       "    <tr>\n",
       "      <th>4</th>\n",
       "      <td>Maternelle 2ème année</td>\n",
       "      <td>Mathématiques : Mon cahier d’activités de math...</td>\n",
       "      <td>1 000</td>\n",
       "    </tr>\n",
       "  </tbody>\n",
       "</table>\n",
       "</div>"
      ],
      "text/plain": [
       "                  CLASSE                                             LIVRES  \\\n",
       "0  Maternelle 1ère année  Langage : Mon cahier d’activités de langage 1è...   \n",
       "1  Maternelle 1ère année  Mathématiques : Mon cahier d’activités de math...   \n",
       "2  Maternelle 1ère année  Dessin, Peinture, Coloriage : Je pratique le d...   \n",
       "3  Maternelle 2ème année  Langage : Les Majors en activité de langage Ma...   \n",
       "4  Maternelle 2ème année  Mathématiques : Mon cahier d’activités de math...   \n",
       "\n",
       "    PRIX  \n",
       "0  1 000  \n",
       "1  1 000  \n",
       "2  1 000  \n",
       "3  1 000  \n",
       "4  1 000  "
      ]
     },
     "execution_count": 16,
     "metadata": {},
     "output_type": "execute_result"
    }
   ],
   "source": [
    "# Lecture du fichier CSV\n",
    "input_file = RAW_DIR / 'manuel_scolaire.csv'\n",
    "df = pd.read_csv(input_file, sep=';')\n",
    "df.head()  # Aperçu brut"
   ]
  },
  {
   "cell_type": "code",
   "execution_count": 17,
   "id": "b51f215e",
   "metadata": {},
   "outputs": [
    {
     "name": "stdout",
     "output_type": "stream",
     "text": [
      "Nombre de lignes: 645\n",
      "\n",
      "Colonnes: ['CLASSE', 'LIVRES', 'PRIX']\n"
     ]
    }
   ],
   "source": [
    "print(f\"Nombre de lignes: {len(df)}\")\n",
    "print(f\"\\nColonnes: {list(df.columns)}\")"
   ]
  },
  {
   "cell_type": "code",
   "execution_count": 18,
   "id": "d7c3f9ef",
   "metadata": {},
   "outputs": [
    {
     "name": "stdout",
     "output_type": "stream",
     "text": [
      "\n",
      "Après correction de la casse:\n",
      "0    Langage : Mon Cahier D’activités De Langage 1è...\n",
      "1    Mathématiques : Mon Cahier D’activités De Math...\n",
      "2    Dessin, Peinture, Coloriage : Je Pratique Le D...\n",
      "3    Langage : Les Majors En Activité De Langage Ma...\n",
      "4    Mathématiques : Mon Cahier D’activités De Math...\n",
      "Name: LIVRES, dtype: object\n"
     ]
    }
   ],
   "source": [
    "# Correction de casse\n",
    "def corriger_casse(texte):\n",
    "    if pd.isna(texte):\n",
    "        return texte\n",
    "    texte = str(texte)\n",
    "    mots = texte.split()\n",
    "    return ' '.join([mot.capitalize() if not mot.isupper() else mot for mot in mots])\n",
    "\n",
    "df['LIVRES'] = df['LIVRES'].apply(corriger_casse)\n",
    "print(\"\\nAprès correction de la casse:\")\n",
    "print(df['LIVRES'].head())"
   ]
  },
  {
   "cell_type": "code",
   "execution_count": 19,
   "id": "638f90bb",
   "metadata": {},
   "outputs": [],
   "source": [
    "# Définition de l'ordre pédagogique\n",
    "ordre_pedagogique = [\n",
    "    # Section Francophones\n",
    "    'Maternelle 1ère année',\n",
    "    'Maternelle 2ème année', \n",
    "    'SIL',\n",
    "    'CP',\n",
    "    'CE I',\n",
    "    'CE II', \n",
    "    'CM I',\n",
    "    'CM II',\n",
    "    '6e', '5e', '4e', '3e', '2de', '1re', 'Tle',\n",
    "    \n",
    "    # Section Anglophones\n",
    "    'Nursery One',\n",
    "    'Nursery Two',\n",
    "    'CLASS I', 'CLASS II', 'CLASS III', 'CLASS IV', 'CLASS V', 'CLASS VI',\n",
    "    'FORM I', 'FORM II', 'FORM III', 'FORM IV', 'FORM V',\n",
    "    'LOWER SIXTH',\n",
    "    'UPPER SIXTH'\n",
    "]"
   ]
  },
  {
   "cell_type": "code",
   "execution_count": 20,
   "id": "effa6ab2",
   "metadata": {},
   "outputs": [
    {
     "name": "stdout",
     "output_type": "stream",
     "text": [
      "\n",
      "Niveaux extraits:\n",
      "NIVEAU\n",
      "Tle                      141\n",
      "FORM I                    64\n",
      "1re                       62\n",
      "4e                        60\n",
      "3e                        60\n",
      "2de                       60\n",
      "CLASS I                   44\n",
      "UPPER SIXTH               26\n",
      "CE I                      22\n",
      "CLASS V                   20\n",
      "CM I                      20\n",
      "FORM V                    16\n",
      "5e                        12\n",
      "SIL                       11\n",
      "CP                        11\n",
      "6e                         4\n",
      "Maternelle 2ème année      3\n",
      "Nursery One                3\n",
      "Nursery Two                3\n",
      "Maternelle 1ère année      3\n",
      "Name: count, dtype: int64\n"
     ]
    }
   ],
   "source": [
    "# Extraction du niveau\n",
    "def extraire_niveau(classe_text):\n",
    "    if pd.isna(classe_text):\n",
    "        return None\n",
    "    classe_text = str(classe_text).strip()\n",
    "    for niveau in ordre_pedagogique:\n",
    "        if niveau.lower() in classe_text.lower():\n",
    "            return niveau\n",
    "    return classe_text\n",
    "\n",
    "df['NIVEAU'] = df['CLASSE'].apply(extraire_niveau)\n",
    "print(\"\\nNiveaux extraits:\")\n",
    "print(df['NIVEAU'].value_counts())"
   ]
  },
  {
   "cell_type": "code",
   "execution_count": 21,
   "id": "04bd155d",
   "metadata": {},
   "outputs": [],
   "source": [
    "# Création d’un mapping pour l’ordre de tri\n",
    "ordre_mapping = {niveau: i for i, niveau in enumerate(ordre_pedagogique)}\n",
    "\n",
    "def get_ordre_tri(niveau):\n",
    "    return ordre_mapping.get(niveau, len(ordre_pedagogique))\n",
    "\n",
    "df['ORDRE_TRI'] = df['NIVEAU'].apply(get_ordre_tri)"
   ]
  },
  {
   "cell_type": "code",
   "execution_count": 22,
   "id": "865d6fe1",
   "metadata": {},
   "outputs": [
    {
     "name": "stdout",
     "output_type": "stream",
     "text": [
      "\n",
      "Après tri pédagogique:\n",
      "                  CLASSE                 NIVEAU  \\\n",
      "0  Maternelle 1ère année  Maternelle 1ère année   \n",
      "1  Maternelle 1ère année  Maternelle 1ère année   \n",
      "2  Maternelle 1ère année  Maternelle 1ère année   \n",
      "3  Maternelle 2ème année  Maternelle 2ème année   \n",
      "4  Maternelle 2ème année  Maternelle 2ème année   \n",
      "5  Maternelle 2ème année  Maternelle 2ème année   \n",
      "6                    SIL                    SIL   \n",
      "7                    SIL                    SIL   \n",
      "8                    SIL                    SIL   \n",
      "9                    SIL                    SIL   \n",
      "\n",
      "                                              LIVRES  \n",
      "0  Dessin, Peinture, Coloriage : Je Pratique Le D...  \n",
      "1  Langage : Mon Cahier D’activités De Langage 1è...  \n",
      "2  Mathématiques : Mon Cahier D’activités De Math...  \n",
      "3  Dessin, Peinture, Coloriage : Je Pratique Le D...  \n",
      "4  Langage : Les Majors En Activité De Langage Ma...  \n",
      "5  Mathématiques : Mon Cahier D’activités De Math...  \n",
      "6  Anglais : LIVRET D’ACTIVITE D’ANGLAIS ((GLOBAL...  \n",
      "7  Anglais: INCLUSIVE ENGLISH SIL (GLOBAL INDUSTR...  \n",
      "8       EDUCATION A LA CITOYENNETE (SIL/CP) (NATHAN)  \n",
      "9        Ecriture : Graphisme Sil (AFRICA Education)  \n"
     ]
    }
   ],
   "source": [
    "# Tri final\n",
    "df_sorted = df.sort_values(['ORDRE_TRI', 'CLASSE', 'LIVRES']).reset_index(drop=True)\n",
    "print(\"\\nAprès tri pédagogique:\")\n",
    "print(df_sorted[['CLASSE', 'NIVEAU', 'LIVRES']].head(10))"
   ]
  },
  {
   "cell_type": "code",
   "execution_count": 23,
   "id": "7d95616f",
   "metadata": {},
   "outputs": [],
   "source": [
    "# Génération du code unique\n",
    "def generer_code(CLASSE, titre):\n",
    "    base = (CLASSE[:3].upper() if isinstance(CLASSE, str) else 'XXX')\n",
    "    identifiant = abs(hash(titre)) % 10000\n",
    "    return f\"{base}_{identifiant}\"\n",
    "\n",
    "df_sorted['code'] = df_sorted.apply(lambda row: generer_code(row['CLASSE'], row['LIVRES']), axis=1)\n",
    "\n",
    "# Renommage final\n",
    "df_sorted['designation'] = df_sorted['LIVRES']\n",
    "df_sorted['type_article'] = 'Livre'"
   ]
  },
  {
   "cell_type": "code",
   "execution_count": 24,
   "id": "368a168a",
   "metadata": {},
   "outputs": [],
   "source": [
    "# Nettoyage des prix (en entiers)\n",
    "def nettoyer_prix(val):\n",
    "    if pd.isna(val):\n",
    "        return 0\n",
    "    val = str(val)\n",
    "    val = re.sub(r'[^\\d]', '', val)\n",
    "    try:\n",
    "        return int(val)\n",
    "    except ValueError:\n",
    "        return 0\n",
    "\n",
    "df_sorted['prix'] = df_sorted['PRIX'].apply(nettoyer_prix)"
   ]
  },
  {
   "cell_type": "code",
   "execution_count": 25,
   "id": "d56753eb",
   "metadata": {},
   "outputs": [],
   "source": [
    "# === AJOUT DES COLONNES POUR STRUCTURE GLOBALE ===\n",
    "df_final['nature'] = 'Homologué'  \n",
    "df_final['ville'] = None          # Pas de ville (prix identique dans tout le Cameroun)"
   ]
  },
  {
   "cell_type": "code",
   "execution_count": 26,
   "id": "ca63abb5",
   "metadata": {},
   "outputs": [
    {
     "name": "stdout",
     "output_type": "stream",
     "text": [
      "\n",
      "DataFrame final:\n",
      "       code                                        designation  prix  \\\n",
      "0   MAT_645  Dessin, Peinture, Coloriage : Je Pratique Le D...  1000   \n",
      "1  MAT_5216  Langage : Mon Cahier D’activités De Langage 1è...  1000   \n",
      "2  MAT_9498  Mathématiques : Mon Cahier D’activités De Math...  1000   \n",
      "3   MAT_645  Dessin, Peinture, Coloriage : Je Pratique Le D...  1000   \n",
      "4  MAT_4169  Langage : Les Majors En Activité De Langage Ma...  1000   \n",
      "\n",
      "  type_article     nature                 classe ville  \n",
      "0       manuel  Homologué  Maternelle 1ère année  None  \n",
      "1       manuel  Homologué  Maternelle 1ère année  None  \n",
      "2       manuel  Homologué  Maternelle 1ère année  None  \n",
      "3       manuel  Homologué  Maternelle 2ème année  None  \n",
      "4       manuel  Homologué  Maternelle 2ème année  None  \n",
      "\n",
      "Nombre de lignes finales: 645\n"
     ]
    }
   ],
   "source": [
    "# Sélection finale des colonnes\n",
    "colonnes_finales = ['code', 'designation', 'prix', 'type_article', 'nature', 'classe', 'ville']\n",
    "df_final = df_final[colonnes_finales]\n",
    "\n",
    "print(\"\\nDataFrame final:\")\n",
    "print(df_final.head())\n",
    "print(f\"\\nNombre de lignes finales: {len(df_final)}\")"
   ]
  },
  {
   "cell_type": "code",
   "execution_count": 27,
   "id": "be4041f7",
   "metadata": {},
   "outputs": [
    {
     "name": "stdout",
     "output_type": "stream",
     "text": [
      "Colonnes : ['code', 'designation', 'prix', 'type_article', 'nature', 'classe', 'ville']\n"
     ]
    }
   ],
   "source": [
    "print(f\"Colonnes : {list(df_final.columns)}\")"
   ]
  },
  {
   "cell_type": "code",
   "execution_count": 28,
   "id": "21c4f7aa",
   "metadata": {},
   "outputs": [
    {
     "name": "stdout",
     "output_type": "stream",
     "text": [
      "\n",
      "✅ Fichier sauvegardé: ../data/processed/final/manuel_final.csv\n"
     ]
    }
   ],
   "source": [
    "# Export final\n",
    "output_file = PROCESSED_DIR / 'manuel_final.csv'\n",
    "df_final.to_csv(output_file, index=False, encoding='utf-8')\n",
    "print(f\"\\n✅ Fichier sauvegardé: {output_file}\")"
   ]
  },
  {
   "cell_type": "code",
   "execution_count": 29,
   "id": "ee640151",
   "metadata": {},
   "outputs": [
    {
     "name": "stdout",
     "output_type": "stream",
     "text": [
      "\n",
      "Section Francophone (469 livres):\n"
     ]
    },
    {
     "data": {
      "text/html": [
       "<div>\n",
       "<style scoped>\n",
       "    .dataframe tbody tr th:only-of-type {\n",
       "        vertical-align: middle;\n",
       "    }\n",
       "\n",
       "    .dataframe tbody tr th {\n",
       "        vertical-align: top;\n",
       "    }\n",
       "\n",
       "    .dataframe thead th {\n",
       "        text-align: right;\n",
       "    }\n",
       "</style>\n",
       "<table border=\"1\" class=\"dataframe\">\n",
       "  <thead>\n",
       "    <tr style=\"text-align: right;\">\n",
       "      <th></th>\n",
       "      <th>code</th>\n",
       "      <th>designation</th>\n",
       "      <th>prix</th>\n",
       "      <th>type_article</th>\n",
       "      <th>nature</th>\n",
       "      <th>classe</th>\n",
       "      <th>ville</th>\n",
       "    </tr>\n",
       "  </thead>\n",
       "  <tbody>\n",
       "    <tr>\n",
       "      <th>0</th>\n",
       "      <td>MAT_645</td>\n",
       "      <td>Dessin, Peinture, Coloriage : Je Pratique Le D...</td>\n",
       "      <td>1000</td>\n",
       "      <td>manuel</td>\n",
       "      <td>Homologué</td>\n",
       "      <td>Maternelle 1ère année</td>\n",
       "      <td>None</td>\n",
       "    </tr>\n",
       "    <tr>\n",
       "      <th>1</th>\n",
       "      <td>MAT_5216</td>\n",
       "      <td>Langage : Mon Cahier D’activités De Langage 1è...</td>\n",
       "      <td>1000</td>\n",
       "      <td>manuel</td>\n",
       "      <td>Homologué</td>\n",
       "      <td>Maternelle 1ère année</td>\n",
       "      <td>None</td>\n",
       "    </tr>\n",
       "    <tr>\n",
       "      <th>2</th>\n",
       "      <td>MAT_9498</td>\n",
       "      <td>Mathématiques : Mon Cahier D’activités De Math...</td>\n",
       "      <td>1000</td>\n",
       "      <td>manuel</td>\n",
       "      <td>Homologué</td>\n",
       "      <td>Maternelle 1ère année</td>\n",
       "      <td>None</td>\n",
       "    </tr>\n",
       "    <tr>\n",
       "      <th>3</th>\n",
       "      <td>MAT_645</td>\n",
       "      <td>Dessin, Peinture, Coloriage : Je Pratique Le D...</td>\n",
       "      <td>1000</td>\n",
       "      <td>manuel</td>\n",
       "      <td>Homologué</td>\n",
       "      <td>Maternelle 2ème année</td>\n",
       "      <td>None</td>\n",
       "    </tr>\n",
       "    <tr>\n",
       "      <th>4</th>\n",
       "      <td>MAT_4169</td>\n",
       "      <td>Langage : Les Majors En Activité De Langage Ma...</td>\n",
       "      <td>1000</td>\n",
       "      <td>manuel</td>\n",
       "      <td>Homologué</td>\n",
       "      <td>Maternelle 2ème année</td>\n",
       "      <td>None</td>\n",
       "    </tr>\n",
       "  </tbody>\n",
       "</table>\n",
       "</div>"
      ],
      "text/plain": [
       "       code                                        designation  prix  \\\n",
       "0   MAT_645  Dessin, Peinture, Coloriage : Je Pratique Le D...  1000   \n",
       "1  MAT_5216  Langage : Mon Cahier D’activités De Langage 1è...  1000   \n",
       "2  MAT_9498  Mathématiques : Mon Cahier D’activités De Math...  1000   \n",
       "3   MAT_645  Dessin, Peinture, Coloriage : Je Pratique Le D...  1000   \n",
       "4  MAT_4169  Langage : Les Majors En Activité De Langage Ma...  1000   \n",
       "\n",
       "  type_article     nature                 classe ville  \n",
       "0       manuel  Homologué  Maternelle 1ère année  None  \n",
       "1       manuel  Homologué  Maternelle 1ère année  None  \n",
       "2       manuel  Homologué  Maternelle 1ère année  None  \n",
       "3       manuel  Homologué  Maternelle 2ème année  None  \n",
       "4       manuel  Homologué  Maternelle 2ème année  None  "
      ]
     },
     "execution_count": 29,
     "metadata": {},
     "output_type": "execute_result"
    }
   ],
   "source": [
    "francophones = df_final[df_final['classe'].str.contains('Maternelle|SIL|CP|CE|CM|6e|5e|4e|3e|2de|1re|Tle|Terminale', na=False)]\n",
    "anglophones = df_final[df_final['classe'].str.contains('Nursery|CLASS|FORM|SIXTH', na=False)]\n",
    "\n",
    "print(f\"\\nSection Francophone ({len(francophones)} livres):\")\n",
    "francophones.head()"
   ]
  },
  {
   "cell_type": "code",
   "execution_count": 30,
   "id": "85fc39c6",
   "metadata": {},
   "outputs": [
    {
     "name": "stdout",
     "output_type": "stream",
     "text": [
      "\n",
      "Section Anglophone (176 livres):\n"
     ]
    },
    {
     "data": {
      "text/html": [
       "<div>\n",
       "<style scoped>\n",
       "    .dataframe tbody tr th:only-of-type {\n",
       "        vertical-align: middle;\n",
       "    }\n",
       "\n",
       "    .dataframe tbody tr th {\n",
       "        vertical-align: top;\n",
       "    }\n",
       "\n",
       "    .dataframe thead th {\n",
       "        text-align: right;\n",
       "    }\n",
       "</style>\n",
       "<table border=\"1\" class=\"dataframe\">\n",
       "  <thead>\n",
       "    <tr style=\"text-align: right;\">\n",
       "      <th></th>\n",
       "      <th>code</th>\n",
       "      <th>designation</th>\n",
       "      <th>prix</th>\n",
       "      <th>type_article</th>\n",
       "      <th>nature</th>\n",
       "      <th>classe</th>\n",
       "      <th>ville</th>\n",
       "    </tr>\n",
       "  </thead>\n",
       "  <tbody>\n",
       "    <tr>\n",
       "      <th>469</th>\n",
       "      <td>NUR_5837</td>\n",
       "      <td>Drawing And Coloring: INNOVATIVE DRAWING AND C...</td>\n",
       "      <td>1000</td>\n",
       "      <td>manuel</td>\n",
       "      <td>Homologué</td>\n",
       "      <td>Nursery One</td>\n",
       "      <td>None</td>\n",
       "    </tr>\n",
       "    <tr>\n",
       "      <th>470</th>\n",
       "      <td>NUR_8907</td>\n",
       "      <td>Language: LANGUAGE ACTIVITY BOOK NURSERY 1 (AT...</td>\n",
       "      <td>1000</td>\n",
       "      <td>manuel</td>\n",
       "      <td>Homologué</td>\n",
       "      <td>Nursery One</td>\n",
       "      <td>None</td>\n",
       "    </tr>\n",
       "    <tr>\n",
       "      <th>471</th>\n",
       "      <td>NUR_4206</td>\n",
       "      <td>Mathematics: ELEMENTARY MATHEMATICS ACTIVITY B...</td>\n",
       "      <td>1000</td>\n",
       "      <td>manuel</td>\n",
       "      <td>Homologué</td>\n",
       "      <td>Nursery One</td>\n",
       "      <td>None</td>\n",
       "    </tr>\n",
       "    <tr>\n",
       "      <th>472</th>\n",
       "      <td>NUR_6050</td>\n",
       "      <td>Drawing And Coloring: ANUCAM DRAWING AND COLOU...</td>\n",
       "      <td>1000</td>\n",
       "      <td>manuel</td>\n",
       "      <td>Homologué</td>\n",
       "      <td>Nursery Two</td>\n",
       "      <td>None</td>\n",
       "    </tr>\n",
       "    <tr>\n",
       "      <th>473</th>\n",
       "      <td>NUR_4752</td>\n",
       "      <td>Language: LANGUAGE ACTIVITY BOOK NURSERY 2 (AT...</td>\n",
       "      <td>1000</td>\n",
       "      <td>manuel</td>\n",
       "      <td>Homologué</td>\n",
       "      <td>Nursery Two</td>\n",
       "      <td>None</td>\n",
       "    </tr>\n",
       "  </tbody>\n",
       "</table>\n",
       "</div>"
      ],
      "text/plain": [
       "         code                                        designation  prix  \\\n",
       "469  NUR_5837  Drawing And Coloring: INNOVATIVE DRAWING AND C...  1000   \n",
       "470  NUR_8907  Language: LANGUAGE ACTIVITY BOOK NURSERY 1 (AT...  1000   \n",
       "471  NUR_4206  Mathematics: ELEMENTARY MATHEMATICS ACTIVITY B...  1000   \n",
       "472  NUR_6050  Drawing And Coloring: ANUCAM DRAWING AND COLOU...  1000   \n",
       "473  NUR_4752  Language: LANGUAGE ACTIVITY BOOK NURSERY 2 (AT...  1000   \n",
       "\n",
       "    type_article     nature       classe ville  \n",
       "469       manuel  Homologué  Nursery One  None  \n",
       "470       manuel  Homologué  Nursery One  None  \n",
       "471       manuel  Homologué  Nursery One  None  \n",
       "472       manuel  Homologué  Nursery Two  None  \n",
       "473       manuel  Homologué  Nursery Two  None  "
      ]
     },
     "execution_count": 30,
     "metadata": {},
     "output_type": "execute_result"
    }
   ],
   "source": [
    "print(f\"\\nSection Anglophone ({len(anglophones)} livres):\")\n",
    "anglophones.head()"
   ]
  }
 ],
 "metadata": {
  "kernelspec": {
   "display_name": ".venv",
   "language": "python",
   "name": "python3"
  },
  "language_info": {
   "codemirror_mode": {
    "name": "ipython",
    "version": 3
   },
   "file_extension": ".py",
   "mimetype": "text/x-python",
   "name": "python",
   "nbconvert_exporter": "python",
   "pygments_lexer": "ipython3",
   "version": "3.9.20"
  }
 },
 "nbformat": 4,
 "nbformat_minor": 5
}
