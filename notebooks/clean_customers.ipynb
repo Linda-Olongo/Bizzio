{
 "cells": [
  {
   "cell_type": "markdown",
   "id": "c27f48fb",
   "metadata": {},
   "source": [
    "# **NETTOYAGE DE LA BASE DE DONNÉE DES CLIENTS**"
   ]
  },
  {
   "cell_type": "markdown",
   "id": "a8003cab",
   "metadata": {},
   "source": [
    "## **1- Parsing des contacts téléphoniques depuis le fichier vCard**"
   ]
  },
  {
   "cell_type": "markdown",
   "id": "1d0e59bf",
   "metadata": {},
   "source": [
    "Traitement des contacts téléphoniques (suppressions des caractères spéciaux, des doublons...)"
   ]
  },
  {
   "cell_type": "code",
   "execution_count": 1,
   "id": "22736cb2",
   "metadata": {},
   "outputs": [],
   "source": [
    "from pathlib import Path\n",
    "import re\n",
    "import pandas as pd\n",
    "import unicodedata"
   ]
  },
  {
   "cell_type": "code",
   "execution_count": 2,
   "id": "5da9817a",
   "metadata": {},
   "outputs": [
    {
     "name": "stdout",
     "output_type": "stream",
     "text": [
      "VCF existe : True\n",
      "Répertoire de sortie existe : True\n"
     ]
    }
   ],
   "source": [
    "# Dossier racine du projet\n",
    "BASE_DIR = Path('..')\n",
    "\n",
    "# Dossiers\n",
    "RAW_CLIENTS_DIR = BASE_DIR / 'data' / 'raw' / 'Clients'\n",
    "PROCESSED_DIR = BASE_DIR / 'data' / 'processed'\n",
    "\n",
    "# Fichiers\n",
    "VCF_FILE = RAW_CLIENTS_DIR / 'contact.vcf'\n",
    "CSV_FILE = PROCESSED_DIR / 'contacts.csv'\n",
    "\n",
    "# Vérification\n",
    "print(f\"VCF existe : {VCF_FILE.exists()}\")\n",
    "print(f\"Répertoire de sortie existe : {PROCESSED_DIR.exists()}\")"
   ]
  },
  {
   "cell_type": "code",
   "execution_count": 3,
   "id": "f865b250",
   "metadata": {},
   "outputs": [],
   "source": [
    "# Lire le contenu du fichier\n",
    "with VCF_FILE.open(\"r\", encoding=\"utf-8\") as file:\n",
    "    vcf_data = file.read()\n",
    "\n",
    "# Extraction\n",
    "vcards = vcf_data.strip().split(\"BEGIN:VCARD\")[1:]\n",
    "contacts = []\n",
    "\n",
    "for card in vcards:\n",
    "    name_match = re.search(r'FN:(.+)', card)\n",
    "    tel_match = re.search(r'TEL[^:]*:(.+)', card)\n",
    "    if name_match and tel_match:\n",
    "        name = name_match.group(1).strip()\n",
    "        phone = tel_match.group(1).strip().replace(\" \", \"\")\n",
    "        contacts.append((name, phone))\n",
    "\n",
    "# Création du DataFrame\n",
    "df = pd.DataFrame(contacts, columns=[\"Nom\", \"Téléphone\"])\n",
    "df = df.drop_duplicates()"
   ]
  },
  {
   "cell_type": "code",
   "execution_count": 4,
   "id": "46ba68c1",
   "metadata": {},
   "outputs": [],
   "source": [
    "# Fonction pour retirer les accents\n",
    "def enlever_accents(texte):\n",
    "    if not isinstance(texte, str):\n",
    "        return texte\n",
    "    texte = texte.replace(\"œ\", \"oe\").replace(\"Œ\", \"Oe\")\n",
    "    texte = unicodedata.normalize('NFKD', texte)\n",
    "    return ''.join([c for c in texte if not unicodedata.combining(c)])\n",
    "\n",
    "def nettoyer_nom(nom):\n",
    "    if not nom or nom.strip() == \"\":\n",
    "        return \"(none)\"\n",
    "\n",
    "    # Cas particuliers invalides\n",
    "    if any(x in nom for x in [\"Kərij Client\", \"+237\", \"... Client\"]):\n",
    "        return \"(none)\"\n",
    "\n",
    "    # Supprimer les titres (M, Me, R, Dr, DG, etc.)\n",
    "    titres = r'^(M(?:e)?\\.?|Mr\\.?|Dr\\.?|Mme\\.?|Madame|Me|Monsieur|DG\\.?|Pr\\.?|Ministre\\.?|R)\\b[\\s\\.]*'\n",
    "    nom = re.sub(titres, '', nom, flags=re.IGNORECASE)\n",
    "\n",
    "    # Supprimer les caractères non-alphanumériques sauf tiret/espace\n",
    "    nom = re.sub(r'[^\\w\\s\\-]', '', nom)\n",
    "\n",
    "    # Supprimer les numéros infiltrés\n",
    "    nom = re.sub(r'\\b237\\d{8,9}\\b', '', nom)\n",
    "\n",
    "    # Nettoyage final\n",
    "    nom = ' '.join(nom.split())\n",
    "    return nom.title() if nom else \"(none)\"\n",
    "\n",
    "\n",
    "# Fonction de formatage des numéros\n",
    "def format_numero(numero):\n",
    "    numero = numero.replace(\" \", \"\").replace(\"+\", \"\")\n",
    "    if numero.startswith(\"237\"):\n",
    "        reste = numero[3:]\n",
    "        if not reste.startswith(\"6\") and len(reste) in [8, 9]:\n",
    "            reste = \"6\" + reste\n",
    "        return \"+237\" + reste[:9]\n",
    "    if numero.startswith(\"6\") and len(numero) >= 8:\n",
    "        return \"+237\" + numero[:9]\n",
    "    return \"+\" + numero if not numero.startswith(\"+\") else numero\n"
   ]
  },
  {
   "cell_type": "code",
   "execution_count": 5,
   "id": "eb13d3df",
   "metadata": {},
   "outputs": [],
   "source": [
    "# Nettoyage des noms et des téléphones\n",
    "df['Nom'] = df['Nom'].apply(lambda x: nettoyer_nom(str(x)) if not str(x).isdigit() else \"(none)\")\n",
    "df['Téléphone'] = df['Téléphone'].apply(format_numero)\n",
    "\n",
    "# Suppression des doublons\n",
    "df = df.drop_duplicates()\n",
    "\n",
    "# Tri alphabétique par nom\n",
    "df = df.sort_values(by='Nom', key=lambda x: x.str.lower().map(enlever_accents)).reset_index(drop=True)"
   ]
  },
  {
   "cell_type": "code",
   "execution_count": 6,
   "id": "1c14f2ec",
   "metadata": {},
   "outputs": [
    {
     "name": "stdout",
     "output_type": "stream",
     "text": [
      "\n",
      "Nombre total de contacts uniques après nettoyage : 2103\n"
     ]
    }
   ],
   "source": [
    "# Affichage infos\n",
    "print(f\"\\nNombre total de contacts uniques après nettoyage : {len(df)}\")"
   ]
  },
  {
   "cell_type": "code",
   "execution_count": 7,
   "id": "8584ddca",
   "metadata": {},
   "outputs": [
    {
     "data": {
      "text/html": [
       "<div>\n",
       "<style scoped>\n",
       "    .dataframe tbody tr th:only-of-type {\n",
       "        vertical-align: middle;\n",
       "    }\n",
       "\n",
       "    .dataframe tbody tr th {\n",
       "        vertical-align: top;\n",
       "    }\n",
       "\n",
       "    .dataframe thead th {\n",
       "        text-align: right;\n",
       "    }\n",
       "</style>\n",
       "<table border=\"1\" class=\"dataframe\">\n",
       "  <thead>\n",
       "    <tr style=\"text-align: right;\">\n",
       "      <th></th>\n",
       "      <th>Nom</th>\n",
       "      <th>Téléphone</th>\n",
       "    </tr>\n",
       "  </thead>\n",
       "  <tbody>\n",
       "    <tr>\n",
       "      <th>0</th>\n",
       "      <td>(none)</td>\n",
       "      <td>+237680160775</td>\n",
       "    </tr>\n",
       "    <tr>\n",
       "      <th>1</th>\n",
       "      <td>(none)</td>\n",
       "      <td>+237697591972</td>\n",
       "    </tr>\n",
       "    <tr>\n",
       "      <th>2</th>\n",
       "      <td>(none)</td>\n",
       "      <td>+237699784663</td>\n",
       "    </tr>\n",
       "    <tr>\n",
       "      <th>3</th>\n",
       "      <td>(none)</td>\n",
       "      <td>+237693573749</td>\n",
       "    </tr>\n",
       "    <tr>\n",
       "      <th>4</th>\n",
       "      <td>(none)</td>\n",
       "      <td>+237699362631</td>\n",
       "    </tr>\n",
       "  </tbody>\n",
       "</table>\n",
       "</div>"
      ],
      "text/plain": [
       "      Nom      Téléphone\n",
       "0  (none)  +237680160775\n",
       "1  (none)  +237697591972\n",
       "2  (none)  +237699784663\n",
       "3  (none)  +237693573749\n",
       "4  (none)  +237699362631"
      ]
     },
     "execution_count": 7,
     "metadata": {},
     "output_type": "execute_result"
    }
   ],
   "source": [
    "# Visualisation\n",
    "df.head()"
   ]
  },
  {
   "cell_type": "code",
   "execution_count": 8,
   "id": "44f82b1a",
   "metadata": {},
   "outputs": [
    {
     "data": {
      "text/html": [
       "<div>\n",
       "<style scoped>\n",
       "    .dataframe tbody tr th:only-of-type {\n",
       "        vertical-align: middle;\n",
       "    }\n",
       "\n",
       "    .dataframe tbody tr th {\n",
       "        vertical-align: top;\n",
       "    }\n",
       "\n",
       "    .dataframe thead th {\n",
       "        text-align: right;\n",
       "    }\n",
       "</style>\n",
       "<table border=\"1\" class=\"dataframe\">\n",
       "  <thead>\n",
       "    <tr style=\"text-align: right;\">\n",
       "      <th></th>\n",
       "      <th>Nom</th>\n",
       "      <th>Téléphone</th>\n",
       "    </tr>\n",
       "  </thead>\n",
       "  <tbody>\n",
       "    <tr>\n",
       "      <th>2098</th>\n",
       "      <td>Zita Bbs</td>\n",
       "      <td>+237656479727</td>\n",
       "    </tr>\n",
       "    <tr>\n",
       "      <th>2099</th>\n",
       "      <td>Zita Bbs 2</td>\n",
       "      <td>+237656283664</td>\n",
       "    </tr>\n",
       "    <tr>\n",
       "      <th>2100</th>\n",
       "      <td>Zoa Commercial</td>\n",
       "      <td>+237693964689</td>\n",
       "    </tr>\n",
       "    <tr>\n",
       "      <th>2101</th>\n",
       "      <td>Zoboussi</td>\n",
       "      <td>+237675845542</td>\n",
       "    </tr>\n",
       "    <tr>\n",
       "      <th>2102</th>\n",
       "      <td>Zoni</td>\n",
       "      <td>+237677845220</td>\n",
       "    </tr>\n",
       "  </tbody>\n",
       "</table>\n",
       "</div>"
      ],
      "text/plain": [
       "                 Nom      Téléphone\n",
       "2098        Zita Bbs  +237656479727\n",
       "2099      Zita Bbs 2  +237656283664\n",
       "2100  Zoa Commercial  +237693964689\n",
       "2101        Zoboussi  +237675845542\n",
       "2102            Zoni  +237677845220"
      ]
     },
     "execution_count": 8,
     "metadata": {},
     "output_type": "execute_result"
    }
   ],
   "source": [
    "df.tail()"
   ]
  },
  {
   "cell_type": "code",
   "execution_count": 9,
   "id": "dca8b717",
   "metadata": {},
   "outputs": [
    {
     "name": "stdout",
     "output_type": "stream",
     "text": [
      "\n",
      "✅ Fichier enregistré : ../data/processed/contacts.csv\n"
     ]
    }
   ],
   "source": [
    "# Sauvegarde\n",
    "df.to_csv(CSV_FILE, index=False)\n",
    "print(f\"\\n✅ Fichier enregistré : {CSV_FILE}\")"
   ]
  },
  {
   "cell_type": "markdown",
   "id": "152e2c4c",
   "metadata": {},
   "source": [
    "## **2- Consolidation des fichiers clients**"
   ]
  },
  {
   "cell_type": "code",
   "execution_count": 10,
   "id": "bc825b96",
   "metadata": {},
   "outputs": [],
   "source": [
    "import random\n",
    "import string\n",
    "from collections import OrderedDict\n",
    "\n",
    "# Configuration des chemins\n",
    "BASE_DIR = Path('..')\n",
    "RAW_CLIENTS_DIR = BASE_DIR / 'data' / 'raw' / 'Clients'\n",
    "PROCESSED_DIR = BASE_DIR / 'data' / 'processed'"
   ]
  },
  {
   "cell_type": "code",
   "execution_count": 11,
   "id": "5993a56e",
   "metadata": {},
   "outputs": [
    {
     "name": "stdout",
     "output_type": "stream",
     "text": [
      "=== CHARGEMENT DES FICHIERS ===\n",
      "✅ Chargé : clients_2022.csv (84 lignes, 8 colonnes)\n",
      "   Colonnes : ['nom', 'alias', 'telephone', 'telephone_secondaire', 'commande', 'adresse', 'ville', 'nb_commandes']\n",
      "✅ Chargé : clients_2023.csv (180 lignes, 8 colonnes)\n",
      "   Colonnes : ['nom', 'alias', 'telephone', 'telephone_secondaire', 'commande', 'adresse', 'ville', 'nb_commandes']\n",
      "✅ Chargé : clients_2024.csv (123 lignes, 8 colonnes)\n",
      "   Colonnes : ['nom', 'alias', 'telephone', 'telephone_secondaire', 'commande', 'adresse', 'ville', 'nb_commandes']\n",
      "✅ Chargé : clients(v1).csv (101 lignes, 6 colonnes)\n",
      "   Colonnes : ['client_id', 'nom', 'numero', 'nb_proformas', 'ville', 'alias']\n",
      "✅ Chargé : contacts.csv (2103 lignes, 2 colonnes)\n",
      "   Colonnes : ['Nom', 'Téléphone']\n",
      "✅ Chargé : Client(01).csv (9585 lignes)\n"
     ]
    }
   ],
   "source": [
    "# Fichiers sources\n",
    "files = {\n",
    "    \"clients_2022\": PROCESSED_DIR / \"clients_2022.csv\",\n",
    "    \"clients_2023\": PROCESSED_DIR / \"clients_2023.csv\",\n",
    "    \"clients_2024\": PROCESSED_DIR / \"clients_2024.csv\",\n",
    "    \"clients_v1\": PROCESSED_DIR / \"clients(v1).csv\",\n",
    "    \"contacts\": PROCESSED_DIR / \"contacts.csv\",\n",
    "    \"client_machine\": RAW_CLIENTS_DIR / \"Client(01).csv\"\n",
    "}\n",
    "\n",
    "def load_client_file(filepath):\n",
    "    \"\"\"Charge un fichier client avec gestion d'erreurs\"\"\"\n",
    "    try:\n",
    "        df = pd.read_csv(filepath)\n",
    "        print(f\"✅ Chargé : {filepath.name} ({df.shape[0]} lignes, {df.shape[1]} colonnes)\")\n",
    "        print(f\"   Colonnes : {list(df.columns)}\")\n",
    "        return df\n",
    "    except Exception as e:\n",
    "        print(f\"❌ Erreur chargement {filepath.name}: {e}\")\n",
    "        return pd.DataFrame()\n",
    "    \n",
    "# Chargement des fichiers\n",
    "print(\"=== CHARGEMENT DES FICHIERS ===\")\n",
    "df_22 = load_client_file(files[\"clients_2022\"])\n",
    "df_23 = load_client_file(files[\"clients_2023\"])\n",
    "df_24 = load_client_file(files[\"clients_2024\"])\n",
    "df_v1 = load_client_file(files[\"clients_v1\"])\n",
    "df_contacts = load_client_file(files[\"contacts\"])\n",
    "\n",
    "# Chargement fichier machine avec séparateur spécifique\n",
    "try:\n",
    "    df_machine = pd.read_csv(files[\"client_machine\"], sep=\";\", names=[\"nom\", \"telephone\"])\n",
    "    print(f\"✅ Chargé : {files['client_machine'].name} ({df_machine.shape[0]} lignes)\")\n",
    "except Exception as e:\n",
    "    print(f\"❌ Erreur chargement machine: {e}\")\n",
    "    df_machine = pd.DataFrame()"
   ]
  },
  {
   "cell_type": "code",
   "execution_count": 12,
   "id": "c58cf18b",
   "metadata": {},
   "outputs": [],
   "source": [
    "# Fonctions de nettoyage\n",
    "def nettoyer_nom(nom):\n",
    "    \"\"\"Nettoie et formate les noms\"\"\"\n",
    "    if pd.isna(nom) or nom == \"\" or str(nom).strip() == \"\":\n",
    "        return \"(none)\"\n",
    "    \n",
    "    nom = str(nom).strip()\n",
    "    \n",
    "    # Cas particuliers invalides\n",
    "    if any(x in nom for x in [\"Kərij Client\", \"+237\", \"... Client\"]):\n",
    "        return \"(none)\"\n",
    "    \n",
    "    # Correction des noms commençant par 0\n",
    "    if nom.startswith(\"0\") and len(nom) > 1:\n",
    "        nom = \"O\" + nom[1:]\n",
    "    \n",
    "    # Supprimer les titres (M, Me, R, Dr, DG, etc.)\n",
    "    titres = r'^(M(?:e)?\\.?|Mr\\.?|Dr\\.?|Mme\\.?|Madame|Me|Monsieur|DG\\.?|Pr\\.?|Ministre\\.?|R)\\b[\\s\\.]*'\n",
    "    nom = re.sub(titres, '', nom, flags=re.IGNORECASE)\n",
    "    \n",
    "    # Supprimer les caractères non-alphanumériques sauf tiret/espace\n",
    "    nom = re.sub(r'[^\\w\\s\\-]', '', nom)\n",
    "    \n",
    "    # Supprimer les numéros infiltrés\n",
    "    nom = re.sub(r'\\b237\\d{8,9}\\b', '', nom)\n",
    "    \n",
    "    # Normalisation Unicode et suppression des accents\n",
    "    nom = unicodedata.normalize(\"NFKD\", nom).encode(\"ascii\", \"ignore\").decode(\"utf-8\")\n",
    "    \n",
    "    # Nettoyage final\n",
    "    nom = ' '.join(nom.split()).strip().title()\n",
    "    \n",
    "    # Vérifier qu'il reste au moins une lettre\n",
    "    return nom if nom and any(c.isalpha() for c in nom) else \"(none)\"\n",
    "\n",
    "def formater_numero(tel):\n",
    "    \"\"\"Formate les numéros de téléphone\"\"\"\n",
    "    if pd.isna(tel) or tel == \"\":\n",
    "        return \"\"\n",
    "    \n",
    "    tel = str(tel).replace(\" \", \"\").replace(\"+\", \"\").replace(\"-\", \"\").replace(\"(\", \"\").replace(\")\", \"\")\n",
    "    \n",
    "    # Supprimer les caractères non-numériques\n",
    "    tel = re.sub(r'[^\\d]', '', tel)\n",
    "    \n",
    "    if not tel:\n",
    "        return \"\"\n",
    "    \n",
    "    # Formatage selon les règles du Cameroun\n",
    "    if tel.startswith(\"237\") and len(tel) >= 12:\n",
    "        return \"+237\" + tel[3:12]\n",
    "    elif tel.startswith(\"237\") and len(tel) >= 9:\n",
    "        reste = tel[3:]\n",
    "        if not reste.startswith(\"6\") and len(reste) in [8, 9]:\n",
    "            reste = \"6\" + reste\n",
    "        return \"+237\" + reste[:9]\n",
    "    elif tel.startswith(\"6\") and len(tel) >= 8:\n",
    "        return \"+237\" + tel[:9]\n",
    "    elif len(tel) >= 8 and not tel.startswith(\"6\"):\n",
    "        return \"+237\" + \"6\" + tel[:8]\n",
    "    \n",
    "    return \"\""
   ]
  },
  {
   "cell_type": "code",
   "execution_count": 13,
   "id": "3dfd5c50",
   "metadata": {},
   "outputs": [
    {
     "name": "stdout",
     "output_type": "stream",
     "text": [
      "\n",
      "=== STANDARDISATION DES COLONNES ===\n",
      "\n",
      "--- Standardisation clients_2022 ---\n",
      "Colonnes avant : ['nom', 'alias', 'telephone', 'telephone_secondaire', 'commande', 'adresse', 'ville', 'nb_commandes']\n",
      "Colonnes après : ['nom', 'telephone', 'telephone_secondaire', 'adresse', 'ville', 'commande', 'nb_commandes', 'alias']\n",
      "Lignes : 84\n",
      "\n",
      "--- Standardisation clients_2023 ---\n",
      "Colonnes avant : ['nom', 'alias', 'telephone', 'telephone_secondaire', 'commande', 'adresse', 'ville', 'nb_commandes']\n",
      "Colonnes après : ['nom', 'telephone', 'telephone_secondaire', 'adresse', 'ville', 'commande', 'nb_commandes', 'alias']\n",
      "Lignes : 180\n",
      "\n",
      "--- Standardisation clients_2024 ---\n",
      "Colonnes avant : ['nom', 'alias', 'telephone', 'telephone_secondaire', 'commande', 'adresse', 'ville', 'nb_commandes']\n",
      "Colonnes après : ['nom', 'telephone', 'telephone_secondaire', 'adresse', 'ville', 'commande', 'nb_commandes', 'alias']\n",
      "Lignes : 123\n",
      "\n",
      "--- Standardisation clients_v1 ---\n",
      "Colonnes avant : ['client_id', 'nom', 'numero', 'nb_proformas', 'ville', 'alias']\n",
      "Colonnes après : ['nom', 'telephone', 'telephone_secondaire', 'adresse', 'ville', 'commande', 'nb_commandes', 'alias']\n",
      "Lignes : 101\n",
      "\n",
      "--- Standardisation contacts ---\n",
      "Colonnes avant : ['Nom', 'Téléphone']\n",
      "Colonnes après : ['nom', 'telephone', 'telephone_secondaire', 'adresse', 'ville', 'commande', 'nb_commandes', 'alias']\n",
      "Lignes : 2103\n"
     ]
    }
   ],
   "source": [
    "# Standardisation des colonnes\n",
    "colonnes_standard = [\"nom\", \"telephone\", \"telephone_secondaire\", \"adresse\", \"ville\", \"commande\", \"nb_commandes\", \"alias\"]\n",
    "\n",
    "def standardiser_colonnes(df, source_name):\n",
    "    \"\"\"Standardise les colonnes d'un DataFrame\"\"\"\n",
    "    print(f\"\\n--- Standardisation {source_name} ---\")\n",
    "    print(f\"Colonnes avant : {list(df.columns)}\")\n",
    "    \n",
    "    # Mappage des colonnes selon les différents formats\n",
    "    if source_name == \"contacts\":\n",
    "        df = df.rename(columns={\"Nom\": \"nom\", \"Téléphone\": \"telephone\"})\n",
    "    \n",
    "    # Ajouter les colonnes manquantes\n",
    "    for col in colonnes_standard:\n",
    "        if col not in df.columns:\n",
    "            df[col] = \"\"\n",
    "    \n",
    "    # Sélectionner uniquement les colonnes standard\n",
    "    df = df[colonnes_standard].copy()\n",
    "    \n",
    "    print(f\"Colonnes après : {list(df.columns)}\")\n",
    "    print(f\"Lignes : {len(df)}\")\n",
    "    \n",
    "    return df\n",
    "\n",
    "# Standardisation des DataFrames\n",
    "print(\"\\n=== STANDARDISATION DES COLONNES ===\")\n",
    "df_22_std = standardiser_colonnes(df_22, \"clients_2022\") if not df_22.empty else pd.DataFrame(columns=colonnes_standard)\n",
    "df_23_std = standardiser_colonnes(df_23, \"clients_2023\") if not df_23.empty else pd.DataFrame(columns=colonnes_standard)\n",
    "df_24_std = standardiser_colonnes(df_24, \"clients_2024\") if not df_24.empty else pd.DataFrame(columns=colonnes_standard)\n",
    "df_v1_std = standardiser_colonnes(df_v1, \"clients_v1\") if not df_v1.empty else pd.DataFrame(columns=colonnes_standard)\n",
    "df_contacts_std = standardiser_colonnes(df_contacts, \"contacts\") if not df_contacts.empty else pd.DataFrame(columns=colonnes_standard)\n",
    "\n",
    "# Traitement du fichier machine\n",
    "if not df_machine.empty:\n",
    "    df_machine_std = pd.DataFrame(columns=colonnes_standard)\n",
    "    df_machine_std[\"nom\"] = df_machine[\"nom\"]\n",
    "    df_machine_std[\"telephone\"] = df_machine[\"telephone\"]\n",
    "    df_machine_std = df_machine_std.fillna(\"\")\n",
    "else:\n",
    "    df_machine_std = pd.DataFrame(columns=colonnes_standard)"
   ]
  },
  {
   "cell_type": "code",
   "execution_count": 14,
   "id": "ee7bd0ea",
   "metadata": {},
   "outputs": [
    {
     "name": "stdout",
     "output_type": "stream",
     "text": [
      "\n",
      "=== CONCATÉNATION ===\n",
      "Total lignes avant nettoyage : 12176\n"
     ]
    }
   ],
   "source": [
    "# Concaténation de tous les DataFrames\n",
    "print(\"\\n=== CONCATÉNATION ===\")\n",
    "df_all_clients = pd.concat([\n",
    "    df_22_std,\n",
    "    df_23_std,\n",
    "    df_24_std,\n",
    "    df_v1_std,\n",
    "    df_contacts_std,\n",
    "    df_machine_std\n",
    "], ignore_index=True)\n",
    "\n",
    "print(f\"Total lignes avant nettoyage : {len(df_all_clients)}\")"
   ]
  },
  {
   "cell_type": "code",
   "execution_count": 15,
   "id": "6a6dda49",
   "metadata": {},
   "outputs": [
    {
     "name": "stdout",
     "output_type": "stream",
     "text": [
      "\n",
      "=== NETTOYAGE DES DONNÉES ===\n",
      "Lignes après suppression des téléphones invalides : 12024\n"
     ]
    }
   ],
   "source": [
    "# Nettoyage des données\n",
    "print(\"\\n=== NETTOYAGE DES DONNÉES ===\")\n",
    "df_all_clients[\"nom\"] = df_all_clients[\"nom\"].apply(nettoyer_nom)\n",
    "df_all_clients[\"telephone\"] = df_all_clients[\"telephone\"].apply(formater_numero)\n",
    "df_all_clients[\"telephone_secondaire\"] = df_all_clients[\"telephone_secondaire\"].apply(formater_numero)\n",
    "\n",
    "# Supprimer les lignes sans numéro de téléphone valide\n",
    "df_all_clients = df_all_clients[df_all_clients[\"telephone\"] != \"\"].reset_index(drop=True)\n",
    "print(f\"Lignes après suppression des téléphones invalides : {len(df_all_clients)}\")"
   ]
  },
  {
   "cell_type": "code",
   "execution_count": 16,
   "id": "709c70d3",
   "metadata": {},
   "outputs": [
    {
     "name": "stdout",
     "output_type": "stream",
     "text": [
      "\n",
      "=== GROUPEMENT PAR NUMÉRO ===\n",
      "Clients uniques après groupement : 11018\n"
     ]
    }
   ],
   "source": [
    "# Remplir les valeurs manquantes\n",
    "df_all_clients = df_all_clients.fillna(\"\")\n",
    "\n",
    "# Groupement par numéro de téléphone\n",
    "print(\"\\n=== GROUPEMENT PAR NUMÉRO ===\")\n",
    "def consolider_valeurs(serie, separateur=\" | \"):\n",
    "    \"\"\"Consolide les valeurs non-vides d'une série\"\"\"\n",
    "    valeurs = [str(v).strip() for v in serie if pd.notna(v) and str(v).strip() != \"\"]\n",
    "    valeurs_uniques = list(OrderedDict.fromkeys(valeurs))\n",
    "    return separateur.join(valeurs_uniques) if valeurs_uniques else \"\"\n",
    "\n",
    "def consolider_telephones_secondaires(serie):\n",
    "    \"\"\"Consolide les téléphones secondaires\"\"\"\n",
    "    telephones = [str(v).strip() for v in serie if pd.notna(v) and str(v).strip() != \"\" and str(v).strip() != \"0\"]\n",
    "    telephones_uniques = list(OrderedDict.fromkeys(telephones))\n",
    "    return \", \".join(telephones_uniques) if telephones_uniques else \"\"\n",
    "\n",
    "def consolider_commandes_avec_historique(serie):\n",
    "    \"\"\"Consolide les commandes en gardant l'ordre chronologique\"\"\"\n",
    "    commandes = []\n",
    "    for v in serie:\n",
    "        if pd.notna(v) and str(v).strip() != \"\":\n",
    "            commandes.append(str(v).strip())\n",
    "    \n",
    "    if not commandes:\n",
    "        return \"\"\n",
    "    \n",
    "    # Numéroter les commandes pour créer un historique\n",
    "    commandes_numerotees = []\n",
    "    for i, cmd in enumerate(commandes, 1):\n",
    "        commandes_numerotees.append(f\"Cmd{i}: {cmd}\")\n",
    "    \n",
    "    return \" | \".join(commandes_numerotees)\n",
    "\n",
    "# Groupement avec conservation de l'historique\n",
    "grouped = df_all_clients.groupby(\"telephone\").agg({\n",
    "    \"nom\": lambda noms: list(noms),\n",
    "    \"telephone_secondaire\": consolider_telephones_secondaires,\n",
    "    \"adresse\": lambda x: consolider_valeurs(x, \" | \"),\n",
    "    \"ville\": lambda x: consolider_valeurs(x, \" | \"),\n",
    "    \"commande\": consolider_commandes_avec_historique,\n",
    "    \"nb_commandes\": lambda x: sum(pd.to_numeric(x, errors='coerce').fillna(0).astype(int)),\n",
    "    \"alias\": lambda x: consolider_valeurs(x, \", \")\n",
    "}).reset_index()\n",
    "\n",
    "print(f\"Clients uniques après groupement : {len(grouped)}\")"
   ]
  },
  {
   "cell_type": "code",
   "execution_count": 17,
   "id": "fb1e1e89",
   "metadata": {},
   "outputs": [
    {
     "name": "stdout",
     "output_type": "stream",
     "text": [
      "\n",
      "=== EXTRACTION NOMS ET ALIAS ===\n"
     ]
    }
   ],
   "source": [
    "# Gestion des noms principaux et alias\n",
    "def extraire_nom_principal_et_alias(noms_list):\n",
    "    \"\"\"Extrait le nom principal et les alias\"\"\"\n",
    "    noms_valides = [n for n in noms_list if n != \"(none)\" and n.strip() != \"\"]\n",
    "    \n",
    "    if not noms_valides:\n",
    "        return \"(none)\", \"\"\n",
    "    \n",
    "    # Le nom principal est le premier nom alphabétiquement (plus stable)\n",
    "    nom_principal = sorted(set(noms_valides), key=lambda x: x.lower())[0]\n",
    "    \n",
    "    # Les alias sont les autres noms\n",
    "    autres_noms = sorted(set(noms_valides) - {nom_principal})\n",
    "    alias = \", \".join(autres_noms) if autres_noms else \"\"\n",
    "    \n",
    "    return nom_principal, alias\n",
    "\n",
    "print(\"\\n=== EXTRACTION NOMS ET ALIAS ===\")\n",
    "noms_et_alias = grouped[\"nom\"].apply(extraire_nom_principal_et_alias)\n",
    "grouped[\"nom\"] = [x[0] for x in noms_et_alias]\n",
    "grouped[\"alias_calcule\"] = [x[1] for x in noms_et_alias]"
   ]
  },
  {
   "cell_type": "code",
   "execution_count": 18,
   "id": "1236980d",
   "metadata": {},
   "outputs": [],
   "source": [
    "# Fusion des alias existants et calculés\n",
    "def fusionner_alias(alias_existant, alias_calcule):\n",
    "    \"\"\"Fusionne les alias existants et calculés\"\"\"\n",
    "    alias_list = []\n",
    "    \n",
    "    if alias_existant and alias_existant.strip():\n",
    "        alias_list.extend([a.strip() for a in alias_existant.split(\",\")])\n",
    "    \n",
    "    if alias_calcule and alias_calcule.strip():\n",
    "        alias_list.extend([a.strip() for a in alias_calcule.split(\",\")])\n",
    "    \n",
    "    alias_uniques = list(OrderedDict.fromkeys([a for a in alias_list if a]))\n",
    "    return \", \".join(alias_uniques) if alias_uniques else \"\"\n",
    "\n",
    "grouped[\"alias_final\"] = grouped.apply(\n",
    "    lambda row: fusionner_alias(row[\"alias\"], row[\"alias_calcule\"]), \n",
    "    axis=1\n",
    ")\n",
    "\n",
    "# Création du DataFrame final\n",
    "final = grouped[[\n",
    "    \"nom\", \"telephone\", \"telephone_secondaire\", \"adresse\", \"ville\", \"commande\", \"nb_commandes\", \"alias_final\"\n",
    "]].rename(columns={\n",
    "    \"commande\": \"historique_commandes\",\n",
    "    \"alias_final\": \"alias\"\n",
    "}).copy()\n",
    "\n",
    "# Ajout des codes clients uniques\n",
    "def generer_code_client():\n",
    "    \"\"\"Génère un code client unique\"\"\"\n",
    "    return \"CLT\" + ''.join(random.choices(string.ascii_uppercase + string.digits, k=5))\n",
    "\n",
    "final.insert(0, \"code_client\", [generer_code_client() for _ in range(len(final))])\n",
    "\n",
    "# Tri par nom\n",
    "final = final.sort_values(by=\"nom\", key=lambda x: x.str.lower()).reset_index(drop=True)"
   ]
  },
  {
   "cell_type": "code",
   "execution_count": 19,
   "id": "3de240ff",
   "metadata": {},
   "outputs": [],
   "source": [
    "# === NORMALISATION DES VILLES ===\n",
    "normalisation_ville = {\n",
    "    \"dla\": \"Douala\",\n",
    "    \"douala\": \"Douala\",\n",
    "    \"dla.\": \"Douala\",\n",
    "    \"yde\": \"Yaoundé\",\n",
    "    \"yaounde\": \"Yaoundé\",\n",
    "    \"yaoundé\": \"Yaoundé\",\n",
    "    \"yde.\": \"Yaoundé\"\n",
    "}\n",
    "\n",
    "final[\"ville\"] = final[\"ville\"].astype(str).str.strip().str.lower().map(normalisation_ville).fillna(final[\"ville\"])"
   ]
  },
  {
   "cell_type": "code",
   "execution_count": 20,
   "id": "8d578984",
   "metadata": {},
   "outputs": [],
   "source": [
    "# Fusion des alias existants et calculés\n",
    "def fusionner_alias(alias_existant, alias_calcule):\n",
    "    \"\"\"Fusionne les alias existants et calculés\"\"\"\n",
    "    alias_list = []\n",
    "    \n",
    "    if alias_existant and alias_existant.strip():\n",
    "        alias_list.extend([a.strip() for a in alias_existant.split(\",\")])\n",
    "    \n",
    "    if alias_calcule and alias_calcule.strip():\n",
    "        alias_list.extend([a.strip() for a in alias_calcule.split(\",\")])\n",
    "    \n",
    "    alias_uniques = list(OrderedDict.fromkeys([a for a in alias_list if a]))\n",
    "    return \", \".join(alias_uniques) if alias_uniques else \"\"\n",
    "\n",
    "grouped[\"alias_final\"] = grouped.apply(\n",
    "    lambda row: fusionner_alias(row[\"alias\"], row[\"alias_calcule\"]), \n",
    "    axis=1\n",
    ")\n",
    "\n",
    "# Création du DataFrame final\n",
    "final = grouped[[\n",
    "    \"nom\", \"telephone\", \"telephone_secondaire\", \"adresse\", \"ville\", \"commande\", \"nb_commandes\", \"alias_final\"\n",
    "]].rename(columns={\n",
    "    \"commande\": \"historique_commandes\",\n",
    "    \"alias_final\": \"alias\"\n",
    "}).copy()\n",
    "\n",
    "# Ajout des codes clients uniques\n",
    "def generer_code_client():\n",
    "    \"\"\"Génère un code client unique\"\"\"\n",
    "    return \"CLT\" + ''.join(random.choices(string.ascii_uppercase + string.digits, k=5))\n",
    "\n",
    "final.insert(0, \"code_client\", [generer_code_client() for _ in range(len(final))])\n",
    "\n",
    "# Tri par nom\n",
    "final = final.sort_values(by=\"nom\", key=lambda x: x.str.lower()).reset_index(drop=True)"
   ]
  },
  {
   "cell_type": "code",
   "execution_count": 21,
   "id": "f543ee9e",
   "metadata": {},
   "outputs": [
    {
     "name": "stdout",
     "output_type": "stream",
     "text": [
      "\n",
      "=== STATISTIQUES FINALES ===\n",
      "\n",
      "✅ Total clients uniques : 11018\n",
      "\n",
      "✅ Clients avec nom valide : 9914\n",
      "\n",
      "✅ Clients avec téléphone secondaire : 11\n",
      "\n",
      "✅ Clients ayant passé commande : 333\n",
      "\n",
      "✅ Clients avec historique de commandes : 333\n",
      "\n",
      "✅ Clients avec alias : 260\n"
     ]
    }
   ],
   "source": [
    "# Statistiques finales\n",
    "print(\"\\n=== STATISTIQUES FINALES ===\")\n",
    "print(f\"\\n✅ Total clients uniques : {len(final)}\")\n",
    "print(f\"\\n✅ Clients avec nom valide : {(final['nom'] != '(none)').sum()}\")\n",
    "print(f\"\\n✅ Clients avec téléphone secondaire : {(final['telephone_secondaire'] != '').sum()}\")\n",
    "print(f\"\\n✅ Clients ayant passé commande : {(final['nb_commandes'] > 0).sum()}\")\n",
    "print(f\"\\n✅ Clients avec historique de commandes : {(final['historique_commandes'] != '').sum()}\")\n",
    "print(f\"\\n✅ Clients avec alias : {(final['alias'] != '').sum()}\")"
   ]
  },
  {
   "cell_type": "code",
   "execution_count": 22,
   "id": "2a37fc12",
   "metadata": {},
   "outputs": [
    {
     "name": "stdout",
     "output_type": "stream",
     "text": [
      "\n",
      "✅ Répartition par ville :\n",
      "  : 10685\n",
      "  Yaoundé: 245\n",
      "  Douala: 86\n",
      "  Nanga: 1\n",
      "  Tonga: 1\n"
     ]
    }
   ],
   "source": [
    "print(\"\\n✅ Répartition par ville :\")\n",
    "villes = final[\"ville\"].value_counts().head(10)\n",
    "for ville, count in villes.items():\n",
    "    print(f\"  {ville}: {count}\")"
   ]
  },
  {
   "cell_type": "code",
   "execution_count": 23,
   "id": "970d77e0",
   "metadata": {},
   "outputs": [
    {
     "name": "stdout",
     "output_type": "stream",
     "text": [
      "\n",
      "✅ Exemples de clients avec téléphones secondaires :\n",
      "  Akon Anne Paule: +237697151583 | +237658641752\n",
      "  Chantal Fassel: +237677582408 | +237633614249\n",
      "  Client: +237695329696 | +237691409057\n",
      "  Denise Ngoumou: +237673265846 | +237696218739\n",
      "  Deutcha: +237654818407 | +237698221364\n"
     ]
    }
   ],
   "source": [
    "print(\"\\n✅ Exemples de clients avec téléphones secondaires :\")\n",
    "clients_tel_sec = final[final[\"telephone_secondaire\"] != \"\"].head(5)\n",
    "for _, client in clients_tel_sec.iterrows():\n",
    "    print(f\"  {client['nom']}: {client['telephone']} | {client['telephone_secondaire']}\")"
   ]
  },
  {
   "cell_type": "code",
   "execution_count": 24,
   "id": "7ea48dbe",
   "metadata": {},
   "outputs": [
    {
     "name": "stdout",
     "output_type": "stream",
     "text": [
      "\n",
      "✅ Exemples d'historiques de commandes :\n",
      "  Aandjou Carine: Cmd1: Maternelle 1, 5ème | Cmd2: FOURNITURES...\n",
      "  Abang Arie: Cmd1: (None), FOURNITURES...\n",
      "  Abassa: Cmd1: 6ème, Form 2 | Cmd2: 5e/FORM 3...\n"
     ]
    }
   ],
   "source": [
    "print(\"\\n✅ Exemples d'historiques de commandes :\")\n",
    "clients_hist = final[final[\"historique_commandes\"] != \"\"].head(3)\n",
    "for _, client in clients_hist.iterrows():\n",
    "    print(f\"  {client['nom']}: {client['historique_commandes'][:100]}...\")"
   ]
  },
  {
   "cell_type": "code",
   "execution_count": 25,
   "id": "f28faf9a",
   "metadata": {},
   "outputs": [
    {
     "name": "stdout",
     "output_type": "stream",
     "text": [
      "\n",
      "✅ Fichier sauvegardé : ../data/processed/final/clients_final.csv\n"
     ]
    }
   ],
   "source": [
    "# Sauvegarde\n",
    "output_file = PROCESSED_DIR / 'final' /  \"clients_final.csv\"\n",
    "final.to_csv(output_file, index=False, encoding='utf-8')\n",
    "print(f\"\\n✅ Fichier sauvegardé : {output_file}\")"
   ]
  },
  {
   "cell_type": "code",
   "execution_count": 26,
   "id": "c985c2a6",
   "metadata": {},
   "outputs": [
    {
     "name": "stdout",
     "output_type": "stream",
     "text": [
      "\n",
      "=== STATISTIQUES FINALES ===\n",
      "\n",
      "✅ Total clients uniques : 11018\n",
      "\n",
      "✅ Clients avec nom valide : 9914\n",
      "\n",
      "✅ Clients avec téléphone secondaire : 11\n",
      "\n",
      "✅ Clients ayant passé commande : 333\n",
      "\n",
      "✅ Clients avec historique de commandes : 333\n",
      "\n",
      "✅ Clients avec alias : 260\n"
     ]
    }
   ],
   "source": [
    "# Statistiques finales\n",
    "print(\"\\n=== STATISTIQUES FINALES ===\")\n",
    "print(f\"\\n✅ Total clients uniques : {len(final)}\")\n",
    "print(f\"\\n✅ Clients avec nom valide : {(final['nom'] != '(none)').sum()}\")\n",
    "print(f\"\\n✅ Clients avec téléphone secondaire : {(final['telephone_secondaire'] != '').sum()}\")\n",
    "print(f\"\\n✅ Clients ayant passé commande : {(final['nb_commandes'] > 0).sum()}\")\n",
    "print(f\"\\n✅ Clients avec historique de commandes : {(final['historique_commandes'] != '').sum()}\")\n",
    "print(f\"\\n✅ Clients avec alias : {(final['alias'] != '').sum()}\")"
   ]
  },
  {
   "cell_type": "code",
   "execution_count": 27,
   "id": "1d2bb15b",
   "metadata": {},
   "outputs": [
    {
     "name": "stdout",
     "output_type": "stream",
     "text": [
      "\n",
      "✅ Répartition par ville :\n",
      "  : 10685\n",
      "  Yaoundé: 245\n",
      "  Douala: 86\n",
      "  Nanga: 1\n",
      "  Tonga: 1\n"
     ]
    }
   ],
   "source": [
    "print(\"\\n✅ Répartition par ville :\")\n",
    "villes = final[\"ville\"].value_counts().head(10)\n",
    "for ville, count in villes.items():\n",
    "    print(f\"  {ville}: {count}\")"
   ]
  },
  {
   "cell_type": "code",
   "execution_count": 28,
   "id": "3d527f85",
   "metadata": {},
   "outputs": [
    {
     "name": "stdout",
     "output_type": "stream",
     "text": [
      "\n",
      "✅ Exemples de clients avec téléphones secondaires :\n",
      "  Akon Anne Paule: +237697151583 | +237658641752\n",
      "  Chantal Fassel: +237677582408 | +237633614249\n",
      "  Client: +237695329696 | +237691409057\n",
      "  Denise Ngoumou: +237673265846 | +237696218739\n",
      "  Deutcha: +237654818407 | +237698221364\n"
     ]
    }
   ],
   "source": [
    "print(\"\\n✅ Exemples de clients avec téléphones secondaires :\")\n",
    "clients_tel_sec = final[final[\"telephone_secondaire\"] != \"\"].head(5)\n",
    "for _, client in clients_tel_sec.iterrows():\n",
    "    print(f\"  {client['nom']}: {client['telephone']} | {client['telephone_secondaire']}\")"
   ]
  },
  {
   "cell_type": "code",
   "execution_count": 29,
   "id": "cb14099b",
   "metadata": {},
   "outputs": [
    {
     "name": "stdout",
     "output_type": "stream",
     "text": [
      "\n",
      "✅ Exemples d'historiques de commandes :\n",
      "  Aandjou Carine: Cmd1: Maternelle 1, 5ème | Cmd2: FOURNITURES...\n",
      "  Abang Arie: Cmd1: (None), FOURNITURES...\n",
      "  Abassa: Cmd1: 6ème, Form 2 | Cmd2: 5e/FORM 3...\n"
     ]
    }
   ],
   "source": [
    "print(\"\\n✅ Exemples d'historiques de commandes :\")\n",
    "clients_hist = final[final[\"historique_commandes\"] != \"\"].head(3)\n",
    "for _, client in clients_hist.iterrows():\n",
    "    print(f\"  {client['nom']}: {client['historique_commandes'][:100]}...\")"
   ]
  },
  {
   "cell_type": "code",
   "execution_count": 30,
   "id": "77489c22",
   "metadata": {},
   "outputs": [
    {
     "name": "stdout",
     "output_type": "stream",
     "text": [
      "\n",
      "✅ Fichier sauvegardé : ../data/processed/final/clients_final.csv\n"
     ]
    }
   ],
   "source": [
    "# Sauvegarde\n",
    "output_file = PROCESSED_DIR / 'final' /  \"clients_final.csv\"\n",
    "final.to_csv(output_file, index=False, encoding='utf-8')\n",
    "print(f\"\\n✅ Fichier sauvegardé : {output_file}\")"
   ]
  },
  {
   "cell_type": "code",
   "execution_count": 31,
   "id": "2503700b",
   "metadata": {},
   "outputs": [
    {
     "name": "stdout",
     "output_type": "stream",
     "text": [
      "\n",
      "=== APERÇU DES DONNÉES FINALES ===\n"
     ]
    },
    {
     "data": {
      "text/html": [
       "<div>\n",
       "<style scoped>\n",
       "    .dataframe tbody tr th:only-of-type {\n",
       "        vertical-align: middle;\n",
       "    }\n",
       "\n",
       "    .dataframe tbody tr th {\n",
       "        vertical-align: top;\n",
       "    }\n",
       "\n",
       "    .dataframe thead th {\n",
       "        text-align: right;\n",
       "    }\n",
       "</style>\n",
       "<table border=\"1\" class=\"dataframe\">\n",
       "  <thead>\n",
       "    <tr style=\"text-align: right;\">\n",
       "      <th></th>\n",
       "      <th>code_client</th>\n",
       "      <th>nom</th>\n",
       "      <th>telephone</th>\n",
       "      <th>telephone_secondaire</th>\n",
       "      <th>adresse</th>\n",
       "      <th>ville</th>\n",
       "      <th>historique_commandes</th>\n",
       "      <th>nb_commandes</th>\n",
       "      <th>alias</th>\n",
       "    </tr>\n",
       "  </thead>\n",
       "  <tbody>\n",
       "    <tr>\n",
       "      <th>0</th>\n",
       "      <td>CLTLGOSS</td>\n",
       "      <td>(none)</td>\n",
       "      <td>+237696235900</td>\n",
       "      <td></td>\n",
       "      <td></td>\n",
       "      <td></td>\n",
       "      <td></td>\n",
       "      <td>0</td>\n",
       "      <td></td>\n",
       "    </tr>\n",
       "    <tr>\n",
       "      <th>1</th>\n",
       "      <td>CLT0AZM5</td>\n",
       "      <td>(none)</td>\n",
       "      <td>+237691050207</td>\n",
       "      <td></td>\n",
       "      <td></td>\n",
       "      <td></td>\n",
       "      <td></td>\n",
       "      <td>0</td>\n",
       "      <td></td>\n",
       "    </tr>\n",
       "    <tr>\n",
       "      <th>2</th>\n",
       "      <td>CLTMEIWI</td>\n",
       "      <td>(none)</td>\n",
       "      <td>+237691052624</td>\n",
       "      <td></td>\n",
       "      <td></td>\n",
       "      <td></td>\n",
       "      <td></td>\n",
       "      <td>0</td>\n",
       "      <td></td>\n",
       "    </tr>\n",
       "    <tr>\n",
       "      <th>3</th>\n",
       "      <td>CLTJFVCA</td>\n",
       "      <td>(none)</td>\n",
       "      <td>+237691062029</td>\n",
       "      <td></td>\n",
       "      <td></td>\n",
       "      <td></td>\n",
       "      <td></td>\n",
       "      <td>0</td>\n",
       "      <td></td>\n",
       "    </tr>\n",
       "    <tr>\n",
       "      <th>4</th>\n",
       "      <td>CLTKVCGO</td>\n",
       "      <td>(none)</td>\n",
       "      <td>+237698363790</td>\n",
       "      <td></td>\n",
       "      <td></td>\n",
       "      <td></td>\n",
       "      <td></td>\n",
       "      <td>0</td>\n",
       "      <td></td>\n",
       "    </tr>\n",
       "  </tbody>\n",
       "</table>\n",
       "</div>"
      ],
      "text/plain": [
       "  code_client     nom      telephone telephone_secondaire adresse ville  \\\n",
       "0    CLTLGOSS  (none)  +237696235900                                      \n",
       "1    CLT0AZM5  (none)  +237691050207                                      \n",
       "2    CLTMEIWI  (none)  +237691052624                                      \n",
       "3    CLTJFVCA  (none)  +237691062029                                      \n",
       "4    CLTKVCGO  (none)  +237698363790                                      \n",
       "\n",
       "  historique_commandes  nb_commandes alias  \n",
       "0                                  0        \n",
       "1                                  0        \n",
       "2                                  0        \n",
       "3                                  0        \n",
       "4                                  0        "
      ]
     },
     "execution_count": 31,
     "metadata": {},
     "output_type": "execute_result"
    }
   ],
   "source": [
    "# Affichage des premières lignes pour vérification\n",
    "print(\"\\n=== APERÇU DES DONNÉES FINALES ===\")\n",
    "final.head()"
   ]
  },
  {
   "cell_type": "code",
   "execution_count": 32,
   "id": "16d67c5d",
   "metadata": {},
   "outputs": [
    {
     "data": {
      "text/html": [
       "<div>\n",
       "<style scoped>\n",
       "    .dataframe tbody tr th:only-of-type {\n",
       "        vertical-align: middle;\n",
       "    }\n",
       "\n",
       "    .dataframe tbody tr th {\n",
       "        vertical-align: top;\n",
       "    }\n",
       "\n",
       "    .dataframe thead th {\n",
       "        text-align: right;\n",
       "    }\n",
       "</style>\n",
       "<table border=\"1\" class=\"dataframe\">\n",
       "  <thead>\n",
       "    <tr style=\"text-align: right;\">\n",
       "      <th></th>\n",
       "      <th>code_client</th>\n",
       "      <th>nom</th>\n",
       "      <th>telephone</th>\n",
       "      <th>telephone_secondaire</th>\n",
       "      <th>adresse</th>\n",
       "      <th>ville</th>\n",
       "      <th>historique_commandes</th>\n",
       "      <th>nb_commandes</th>\n",
       "      <th>alias</th>\n",
       "    </tr>\n",
       "  </thead>\n",
       "  <tbody>\n",
       "    <tr>\n",
       "      <th>11013</th>\n",
       "      <td>CLT58QJK</td>\n",
       "      <td>Zorel Melvin</td>\n",
       "      <td>+237698218030</td>\n",
       "      <td></td>\n",
       "      <td></td>\n",
       "      <td></td>\n",
       "      <td></td>\n",
       "      <td>0</td>\n",
       "      <td></td>\n",
       "    </tr>\n",
       "    <tr>\n",
       "      <th>11014</th>\n",
       "      <td>CLT41P84</td>\n",
       "      <td>Zouliatou</td>\n",
       "      <td>+237699510064</td>\n",
       "      <td></td>\n",
       "      <td></td>\n",
       "      <td></td>\n",
       "      <td></td>\n",
       "      <td>0</td>\n",
       "      <td></td>\n",
       "    </tr>\n",
       "    <tr>\n",
       "      <th>11015</th>\n",
       "      <td>CLTEOPZC</td>\n",
       "      <td>Zounkaraneni</td>\n",
       "      <td>+237693498789</td>\n",
       "      <td></td>\n",
       "      <td></td>\n",
       "      <td></td>\n",
       "      <td></td>\n",
       "      <td>0</td>\n",
       "      <td></td>\n",
       "    </tr>\n",
       "    <tr>\n",
       "      <th>11016</th>\n",
       "      <td>CLTRYVTG</td>\n",
       "      <td>Zounkifili</td>\n",
       "      <td>+237697168921</td>\n",
       "      <td></td>\n",
       "      <td></td>\n",
       "      <td></td>\n",
       "      <td></td>\n",
       "      <td>0</td>\n",
       "      <td></td>\n",
       "    </tr>\n",
       "    <tr>\n",
       "      <th>11017</th>\n",
       "      <td>CLT79MYJ</td>\n",
       "      <td>Zra</td>\n",
       "      <td>+237690549509</td>\n",
       "      <td></td>\n",
       "      <td></td>\n",
       "      <td></td>\n",
       "      <td></td>\n",
       "      <td>0</td>\n",
       "      <td></td>\n",
       "    </tr>\n",
       "  </tbody>\n",
       "</table>\n",
       "</div>"
      ],
      "text/plain": [
       "      code_client           nom      telephone telephone_secondaire adresse  \\\n",
       "11013    CLT58QJK  Zorel Melvin  +237698218030                                \n",
       "11014    CLT41P84     Zouliatou  +237699510064                                \n",
       "11015    CLTEOPZC  Zounkaraneni  +237693498789                                \n",
       "11016    CLTRYVTG    Zounkifili  +237697168921                                \n",
       "11017    CLT79MYJ           Zra  +237690549509                                \n",
       "\n",
       "      ville historique_commandes  nb_commandes alias  \n",
       "11013                                        0        \n",
       "11014                                        0        \n",
       "11015                                        0        \n",
       "11016                                        0        \n",
       "11017                                        0        "
      ]
     },
     "execution_count": 32,
     "metadata": {},
     "output_type": "execute_result"
    }
   ],
   "source": [
    "final.tail()"
   ]
  }
 ],
 "metadata": {
  "kernelspec": {
   "display_name": ".venv",
   "language": "python",
   "name": "python3"
  },
  "language_info": {
   "codemirror_mode": {
    "name": "ipython",
    "version": 3
   },
   "file_extension": ".py",
   "mimetype": "text/x-python",
   "name": "python",
   "nbconvert_exporter": "python",
   "pygments_lexer": "ipython3",
   "version": "3.9.20"
  }
 },
 "nbformat": 4,
 "nbformat_minor": 5
}
