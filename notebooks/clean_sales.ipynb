{
 "cells": [
  {
   "cell_type": "markdown",
   "id": "95981877",
   "metadata": {},
   "source": [
    "# **NETTOYAGE DE LA BASE DE DONNÉE DES VENTES**"
   ]
  },
  {
   "cell_type": "code",
   "execution_count": 1,
   "id": "e1a37352",
   "metadata": {},
   "outputs": [],
   "source": [
    "import pandas as pd\n",
    "import random\n",
    "import string\n",
    "from pathlib import Path\n",
    "import re\n",
    "import unicodedata"
   ]
  },
  {
   "cell_type": "code",
   "execution_count": 2,
   "id": "2078dd45",
   "metadata": {},
   "outputs": [],
   "source": [
    "# === CONFIGURATION DES CHEMINS ===\n",
    "BASE_DIR = Path('..')\n",
    "PROCESSED_DIR = BASE_DIR / 'data' / 'processed'\n",
    "FINAL_DIR = PROCESSED_DIR / 'final'\n",
    "FINAL_DIR.mkdir(parents=True, exist_ok=True)\n",
    "\n",
    "# === DÉFINITION DES FICHIERS D'ENTRÉE ===\n",
    "fichiers_ventes = [\n",
    "    {'fichier': 'ventes_2022.csv', 'annee': 2022},\n",
    "    {'fichier': 'ventes_2023.csv', 'annee': 2023},\n",
    "    {'fichier': 'ventes_2024.csv', 'annee': 2024}\n",
    "]"
   ]
  },
  {
   "cell_type": "code",
   "execution_count": 4,
   "id": "6bdb5cbc",
   "metadata": {},
   "outputs": [],
   "source": [
    "# === FONCTIONS UTILES ===\n",
    "def formater_numero(tel):\n",
    "    if pd.isna(tel) or tel == \"\":\n",
    "        return \"\"\n",
    "    tel = str(tel).replace(\" \", \"\").replace(\"+\", \"\").replace(\"-\", \"\").replace(\"(\", \"\").replace(\")\", \"\")\n",
    "    tel = re.sub(r'[^\\d]', '', tel)\n",
    "    if not tel:\n",
    "        return \"\"\n",
    "    if tel.startswith(\"237\") and len(tel) >= 12:\n",
    "        return \"+237\" + tel[3:12]\n",
    "    elif tel.startswith(\"237\") and len(tel) >= 9:\n",
    "        reste = tel[3:]\n",
    "        if not reste.startswith(\"6\") and len(reste) in [8, 9]:\n",
    "            reste = \"6\" + reste\n",
    "        return \"+237\" + reste[:9]\n",
    "    elif tel.startswith(\"6\") and len(tel) >= 8:\n",
    "        return \"+237\" + tel[:9]\n",
    "    elif len(tel) >= 8 and not tel.startswith(\"6\"):\n",
    "        return \"+237\" + \"6\" + tel[:8]\n",
    "    return \"\"\n",
    "\n",
    "def generer_client_id():\n",
    "    return \"CLT\" + ''.join(random.choices(string.ascii_uppercase + string.digits, k=5))\n",
    "\n",
    "def generer_vente_id():\n",
    "    return \"VTE\" + ''.join(random.choices(string.ascii_uppercase + string.digits, k=5))\n",
    "\n",
    "def normaliser_nom(nom):\n",
    "    if pd.isna(nom) or nom == \"\":\n",
    "        return \"\"\n",
    "    nom_normalise = unicodedata.normalize('NFD', str(nom).lower())\n",
    "    nom_normalise = ''.join(c for c in nom_normalise if unicodedata.category(c) != 'Mn')\n",
    "    nom_normalise = re.sub(r'\\s+', ' ', nom_normalise.strip())\n",
    "    return nom_normalise"
   ]
  },
  {
   "cell_type": "code",
   "execution_count": 5,
   "id": "f5aa7198",
   "metadata": {},
   "outputs": [
    {
     "name": "stdout",
     "output_type": "stream",
     "text": [
      "=== CONSOLIDATION DES VENTES ===\n",
      "✅ ventes_2022.csv chargé (102 lignes)\n",
      "✅ ventes_2023.csv chargé (307 lignes)\n",
      "✅ ventes_2024.csv chargé (240 lignes)\n",
      "✅ Total ventes consolidées : 649 lignes\n"
     ]
    }
   ],
   "source": [
    "# === CONSOLIDATION DES VENTES ===\n",
    "print(\"=== CONSOLIDATION DES VENTES ===\")\n",
    "dataframes_consolides = []\n",
    "for config in fichiers_ventes:\n",
    "    fichier_path = PROCESSED_DIR / config['fichier']\n",
    "    annee = config['annee']\n",
    "    if fichier_path.exists():\n",
    "        df = pd.read_csv(fichier_path)\n",
    "        df.insert(0, 'annee', annee)\n",
    "        dataframes_consolides.append(df)\n",
    "        print(f\"✅ {config['fichier']} chargé ({len(df)} lignes)\")\n",
    "    else:\n",
    "        print(f\"⚠️ Fichier introuvable : {fichier_path}\")\n",
    "\n",
    "if not dataframes_consolides:\n",
    "    raise FileNotFoundError(\"Aucun fichier de ventes trouvé pour consolidation.\")\n",
    "\n",
    "df_ventes = pd.concat(dataframes_consolides, ignore_index=True)\n",
    "print(f\"✅ Total ventes consolidées : {len(df_ventes)} lignes\")"
   ]
  },
  {
   "cell_type": "code",
   "execution_count": 6,
   "id": "33bf9698",
   "metadata": {},
   "outputs": [],
   "source": [
    "# === CHARGEMENT DES CLIENTS FINAUX ===\n",
    "CLIENTS_FILE = FINAL_DIR / 'clients_final.csv'\n",
    "if not CLIENTS_FILE.exists():\n",
    "    raise FileNotFoundError(f\"Fichier clients requis introuvable : {CLIENTS_FILE}\")\n",
    "\n",
    "df_clients = pd.read_csv(CLIENTS_FILE, dtype={\"telephone\": str, \"telephone_secondaire\": str})"
   ]
  },
  {
   "cell_type": "code",
   "execution_count": 7,
   "id": "3cd93861",
   "metadata": {},
   "outputs": [],
   "source": [
    "# === STANDARDISATION DES NUMÉROS ===\n",
    "df_ventes[\"telephone_original\"] = df_ventes[\"telephone\"].copy()\n",
    "df_ventes[\"telephone\"] = df_ventes[\"telephone\"].apply(formater_numero)\n",
    "\n",
    "# === MAPPING TÉLÉPHONE -> CLIENT ===\n",
    "telephone_to_client = {}\n",
    "for _, client in df_clients.iterrows():\n",
    "    tel_principal = client.get(\"telephone\", \"\")\n",
    "    if pd.notna(tel_principal) and str(tel_principal).strip():\n",
    "        telephone_to_client[str(tel_principal).strip()] = {\n",
    "            \"code_client\": client.get(\"code_client\", \"\"),\n",
    "            \"nom\": client.get(\"nom\", \"\")\n",
    "        }"
   ]
  },
  {
   "cell_type": "code",
   "execution_count": 8,
   "id": "c522c91c",
   "metadata": {},
   "outputs": [],
   "source": [
    "# === TRAITEMENT DES CLIENTS SANS NUMÉRO ===\n",
    "ventes_sans_numero = df_ventes[(df_ventes[\"telephone\"] == \"\") | (df_ventes[\"telephone\"].isna())].copy()\n",
    "nom_to_client_id = {}\n",
    "clients_sans_numero_info = {}\n",
    "\n",
    "if len(ventes_sans_numero) > 0:\n",
    "    for _, vente in ventes_sans_numero.iterrows():\n",
    "        nom_original = vente.get(\"nom\", \"\")\n",
    "        if pd.notna(nom_original) and str(nom_original).strip():\n",
    "            nom_normalise = normaliser_nom(nom_original)\n",
    "            if nom_normalise not in nom_to_client_id:\n",
    "                nouveau_client_id = generer_client_id()\n",
    "                nom_to_client_id[nom_normalise] = nouveau_client_id\n",
    "                clients_sans_numero_info[nouveau_client_id] = {\n",
    "                    \"code_client\": nouveau_client_id,\n",
    "                    \"nom\": nom_original,\n",
    "                    \"telephone\": \"\",\n",
    "                    \"telephone_secondaire\": \"\",\n",
    "                    \"adresse\": vente.get(\"adresse\", \"\"),\n",
    "                    \"ville\": vente.get(\"ville\", \"\"),\n",
    "                    \"historique_commandes\": \"\",\n",
    "                    \"nb_commandes\": 0,\n",
    "                    \"alias\": \"\"\n",
    "                }"
   ]
  },
  {
   "cell_type": "code",
   "execution_count": 9,
   "id": "7a5f0849",
   "metadata": {},
   "outputs": [],
   "source": [
    "# === ASSOCIATION DES VENTES AVEC CLIENTS ===\n",
    "def associer_client(row):\n",
    "    telephone_vente = row.get(\"telephone\", \"\")\n",
    "    nom_vente = row.get(\"nom\", \"\")\n",
    "    if telephone_vente and telephone_vente in telephone_to_client:\n",
    "        client_info = telephone_to_client[telephone_vente]\n",
    "        return client_info[\"code_client\"], client_info[\"nom\"]\n",
    "    elif pd.notna(nom_vente) and str(nom_vente).strip():\n",
    "        nom_normalise = normaliser_nom(nom_vente)\n",
    "        if nom_normalise in nom_to_client_id:\n",
    "            return nom_to_client_id[nom_normalise], nom_vente\n",
    "        else:\n",
    "            new_id = generer_client_id()\n",
    "            nom_to_client_id[nom_normalise] = new_id\n",
    "            return new_id, nom_vente\n",
    "    else:\n",
    "        return generer_client_id(), \"\"\n",
    "\n",
    "ids_noms = df_ventes.apply(associer_client, axis=1)\n",
    "df_ventes[\"client_id\"] = [i[0] for i in ids_noms]\n",
    "df_ventes[\"nom\"] = [i[1] for i in ids_noms]\n",
    "df_ventes[\"vente_id\"] = [generer_vente_id() for _ in range(len(df_ventes))]"
   ]
  },
  {
   "cell_type": "code",
   "execution_count": 10,
   "id": "274a29c7",
   "metadata": {},
   "outputs": [
    {
     "name": "stdout",
     "output_type": "stream",
     "text": [
      "💾 Fichier exporté : ../data/processed/final/nouveaux_clients_sans_numero.csv (84 clients)\n"
     ]
    }
   ],
   "source": [
    "# === EXPORT DES NOUVEAUX CLIENTS SANS NUMÉRO ===\n",
    "if clients_sans_numero_info:\n",
    "    for client_id in clients_sans_numero_info:\n",
    "        clients_sans_numero_info[client_id][\"nb_commandes\"] = len(df_ventes[df_ventes[\"client_id\"] == client_id])\n",
    "    df_nouveaux_clients_sans_numero = pd.DataFrame(clients_sans_numero_info.values())\n",
    "    output_clients_sans_numero = FINAL_DIR / \"nouveaux_clients_sans_numero.csv\"\n",
    "    df_nouveaux_clients_sans_numero.to_csv(output_clients_sans_numero, index=False, encoding=\"utf-8\")\n",
    "    print(f\"💾 Fichier exporté : {output_clients_sans_numero} ({len(df_nouveaux_clients_sans_numero)} clients)\")"
   ]
  },
  {
   "cell_type": "code",
   "execution_count": 11,
   "id": "fcb685c6",
   "metadata": {},
   "outputs": [
    {
     "name": "stdout",
     "output_type": "stream",
     "text": [
      "💾 Fichier ventes sauvegardé : ../data/processed/final/ventes_final.csv\n"
     ]
    }
   ],
   "source": [
    "# === EXPORT DES VENTES ===\n",
    "colonnes_finales = [\"vente_id\",\"client_id\",\"nom\",\"telephone\",\"commande\",\"montant\",\"adresse\",\"frais_livraison\",\"bon_fidelite\",\"ville\",\"annee\"]\n",
    "for col in colonnes_finales:\n",
    "    if col not in df_ventes.columns:\n",
    "        df_ventes[col] = \"\"\n",
    "df_ventes_final = df_ventes[colonnes_finales].copy()\n",
    "VENTES_FILE = FINAL_DIR / \"ventes_final.csv\"\n",
    "df_ventes_final.to_csv(VENTES_FILE, index=False, encoding=\"utf-8\")\n",
    "print(f\"💾 Fichier ventes sauvegardé : {VENTES_FILE}\")"
   ]
  },
  {
   "cell_type": "code",
   "execution_count": 12,
   "id": "75e51db8",
   "metadata": {},
   "outputs": [
    {
     "name": "stdout",
     "output_type": "stream",
     "text": [
      "💾 Fichier factures sauvegardé : ../data/processed/final/factures_final.csv\n"
     ]
    }
   ],
   "source": [
    "# === EXPORT FACTURES ===\n",
    "df_ventes[\"montant\"] = pd.to_numeric(df_ventes[\"montant\"], errors=\"coerce\").fillna(0)\n",
    "factures = df_ventes[[\"vente_id\",\"client_id\",\"montant\",\"ville\",\"annee\"]].copy()\n",
    "factures.rename(columns={\"vente_id\":\"facture_id\",\"montant\":\"montant_total\"}, inplace=True)\n",
    "factures[\"date_facture\"] = pd.to_datetime(factures[\"annee\"].astype(str) + \"-01-01\")\n",
    "factures[\"mode_paiement\"] = \"Inconnu\"\n",
    "factures = factures[[\"facture_id\",\"date_facture\",\"client_id\",\"montant_total\",\"ville\",\"mode_paiement\"]]\n",
    "FACTURES_FILE = FINAL_DIR / \"factures_final.csv\"\n",
    "factures.to_csv(FACTURES_FILE, index=False, encoding=\"utf-8\")\n",
    "print(f\"💾 Fichier factures sauvegardé : {FACTURES_FILE}\")"
   ]
  }
 ],
 "metadata": {
  "kernelspec": {
   "display_name": ".venv",
   "language": "python",
   "name": "python3"
  },
  "language_info": {
   "codemirror_mode": {
    "name": "ipython",
    "version": 3
   },
   "file_extension": ".py",
   "mimetype": "text/x-python",
   "name": "python",
   "nbconvert_exporter": "python",
   "pygments_lexer": "ipython3",
   "version": "3.9.20"
  }
 },
 "nbformat": 4,
 "nbformat_minor": 5
}
