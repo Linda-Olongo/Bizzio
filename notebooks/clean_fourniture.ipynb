{
 "cells": [
  {
   "cell_type": "markdown",
   "id": "943ce499",
   "metadata": {},
   "source": [
    "# **NETTOYAGE DE LA BASE DE DONNÉE DES FOURNITURES**"
   ]
  },
  {
   "cell_type": "code",
   "execution_count": 1,
   "id": "7814f54d",
   "metadata": {},
   "outputs": [],
   "source": [
    "# Import des libraires necessaires\n",
    "import pandas as pd\n",
    "import numpy as np\n",
    "import os\n",
    "from pathlib import Path"
   ]
  },
  {
   "cell_type": "markdown",
   "id": "112963c4",
   "metadata": {},
   "source": [
    "## 1. CHARGEMENT DES DONNÉES"
   ]
  },
  {
   "cell_type": "code",
   "execution_count": 2,
   "id": "4ec8101a",
   "metadata": {},
   "outputs": [],
   "source": [
    "# Configuration des chemins\n",
    "BASE_DIR = Path('..')\n",
    "RAW_DIR = BASE_DIR / 'data' / 'raw' / 'Article'\n",
    "PROCESSED_DIR = BASE_DIR / 'data' / 'processed' / 'final'\n",
    "PROCESSED_DIR.mkdir(parents=True, exist_ok=True)"
   ]
  },
  {
   "cell_type": "code",
   "execution_count": 3,
   "id": "0d87726e",
   "metadata": {},
   "outputs": [
    {
     "name": "stdout",
     "output_type": "stream",
     "text": [
      "✅ Yaoundé: 187 articles chargés\n",
      "Colonnes: ['DESIGNATIONS', 'PRIX']\n",
      "\n",
      "Aperçu Yaoundé:\n"
     ]
    },
    {
     "data": {
      "text/html": [
       "<div>\n",
       "<style scoped>\n",
       "    .dataframe tbody tr th:only-of-type {\n",
       "        vertical-align: middle;\n",
       "    }\n",
       "\n",
       "    .dataframe tbody tr th {\n",
       "        vertical-align: top;\n",
       "    }\n",
       "\n",
       "    .dataframe thead th {\n",
       "        text-align: right;\n",
       "    }\n",
       "</style>\n",
       "<table border=\"1\" class=\"dataframe\">\n",
       "  <thead>\n",
       "    <tr style=\"text-align: right;\">\n",
       "      <th></th>\n",
       "      <th>DESIGNATIONS</th>\n",
       "      <th>PRIX</th>\n",
       "    </tr>\n",
       "  </thead>\n",
       "  <tbody>\n",
       "    <tr>\n",
       "      <th>0</th>\n",
       "      <td>Cahiers de dessin 16 pages petit format</td>\n",
       "      <td>300</td>\n",
       "    </tr>\n",
       "    <tr>\n",
       "      <th>1</th>\n",
       "      <td>Cahiers de dessin 32 pages petit format</td>\n",
       "      <td>500</td>\n",
       "    </tr>\n",
       "    <tr>\n",
       "      <th>2</th>\n",
       "      <td>Cahiers de dessin 32 pages grand format</td>\n",
       "      <td>1000</td>\n",
       "    </tr>\n",
       "    <tr>\n",
       "      <th>3</th>\n",
       "      <td>Paquet de cahier de dessin petit format</td>\n",
       "      <td>2 000</td>\n",
       "    </tr>\n",
       "    <tr>\n",
       "      <th>4</th>\n",
       "      <td>Paquet de cahier de dessin grand format</td>\n",
       "      <td>3 500</td>\n",
       "    </tr>\n",
       "  </tbody>\n",
       "</table>\n",
       "</div>"
      ],
      "text/plain": [
       "                              DESIGNATIONS   PRIX\n",
       "0  Cahiers de dessin 16 pages petit format    300\n",
       "1  Cahiers de dessin 32 pages petit format    500\n",
       "2  Cahiers de dessin 32 pages grand format   1000\n",
       "3  Paquet de cahier de dessin petit format  2 000\n",
       "4  Paquet de cahier de dessin grand format  3 500"
      ]
     },
     "execution_count": 3,
     "metadata": {},
     "output_type": "execute_result"
    }
   ],
   "source": [
    "# Charger les données de Yaoundé\n",
    "input_file = RAW_DIR / 'fourniture_yaoundé.csv'\n",
    "input_file_1 = RAW_DIR / 'fourniture_douala.csv'\n",
    "\n",
    "df_yaoundé = pd.read_csv(input_file, sep=\";\")\n",
    "print(f\"✅ Yaoundé: {len(df_yaoundé)} articles chargés\")\n",
    "print(f\"Colonnes: {list(df_yaoundé.columns)}\")\n",
    "print(\"\\nAperçu Yaoundé:\")\n",
    "df_yaoundé.head()"
   ]
  },
  {
   "cell_type": "code",
   "execution_count": 4,
   "id": "2bb37d45",
   "metadata": {},
   "outputs": [
    {
     "name": "stdout",
     "output_type": "stream",
     "text": [
      "\n",
      "✅ Douala: 61 articles chargés\n",
      "Colonnes: ['DESIGNATIONS', 'PRIX']\n",
      "\n",
      "Aperçu Douala:\n"
     ]
    },
    {
     "data": {
      "text/html": [
       "<div>\n",
       "<style scoped>\n",
       "    .dataframe tbody tr th:only-of-type {\n",
       "        vertical-align: middle;\n",
       "    }\n",
       "\n",
       "    .dataframe tbody tr th {\n",
       "        vertical-align: top;\n",
       "    }\n",
       "\n",
       "    .dataframe thead th {\n",
       "        text-align: right;\n",
       "    }\n",
       "</style>\n",
       "<table border=\"1\" class=\"dataframe\">\n",
       "  <thead>\n",
       "    <tr style=\"text-align: right;\">\n",
       "      <th></th>\n",
       "      <th>DESIGNATIONS</th>\n",
       "      <th>PRIX</th>\n",
       "    </tr>\n",
       "  </thead>\n",
       "  <tbody>\n",
       "    <tr>\n",
       "      <th>0</th>\n",
       "      <td>Couvertures cahiers</td>\n",
       "      <td>100</td>\n",
       "    </tr>\n",
       "    <tr>\n",
       "      <th>1</th>\n",
       "      <td>Couvertures cahiers transparentes</td>\n",
       "      <td>100</td>\n",
       "    </tr>\n",
       "    <tr>\n",
       "      <th>2</th>\n",
       "      <td>Couvre-livres Adhésif rouleau (A)</td>\n",
       "      <td>1500</td>\n",
       "    </tr>\n",
       "    <tr>\n",
       "      <th>3</th>\n",
       "      <td>Couvre-livres Adhésif rouleau (B)</td>\n",
       "      <td>2000</td>\n",
       "    </tr>\n",
       "    <tr>\n",
       "      <th>4</th>\n",
       "      <td>Crayon BIC HB</td>\n",
       "      <td>1 500</td>\n",
       "    </tr>\n",
       "  </tbody>\n",
       "</table>\n",
       "</div>"
      ],
      "text/plain": [
       "                        DESIGNATIONS   PRIX\n",
       "0                Couvertures cahiers    100\n",
       "1  Couvertures cahiers transparentes    100\n",
       "2  Couvre-livres Adhésif rouleau (A)   1500\n",
       "3  Couvre-livres Adhésif rouleau (B)   2000\n",
       "4                      Crayon BIC HB  1 500"
      ]
     },
     "execution_count": 4,
     "metadata": {},
     "output_type": "execute_result"
    }
   ],
   "source": [
    "# Charger les données de Douala\n",
    "df_douala = pd.read_csv(input_file_1, sep=\";\")\n",
    "print(f\"\\n✅ Douala: {len(df_douala)} articles chargés\")\n",
    "print(f\"Colonnes: {list(df_douala.columns)}\")\n",
    "print(\"\\nAperçu Douala:\")\n",
    "df_douala.head()"
   ]
  },
  {
   "cell_type": "markdown",
   "id": "ca5cb17d",
   "metadata": {},
   "source": [
    "## 2. NETTOYAGE ET STANDARDISATION"
   ]
  },
  {
   "cell_type": "code",
   "execution_count": 5,
   "id": "f7dcab52",
   "metadata": {},
   "outputs": [],
   "source": [
    "def nettoyer_designation(designation):\n",
    "    \"\"\"Nettoie et standardise les désignations\"\"\"\n",
    "    if pd.isna(designation):\n",
    "        return \"Article sans nom\"\n",
    "    \n",
    "    # Convertir en string et nettoyer\n",
    "    designation = str(designation).strip()\n",
    "    \n",
    "    # Supprimer les caractères spéciaux en début/fin\n",
    "    designation = designation.strip(\".,;-_\")\n",
    "    \n",
    "    # Remplacer les espaces multiples par un seul\n",
    "    designation = ' '.join(designation.split())\n",
    "    \n",
    "    # Capitaliser la première lettre\n",
    "    if designation:\n",
    "        designation = designation[0].upper() + designation[1:]\n",
    "    \n",
    "    return designation\n",
    "\n",
    "def nettoyer_prix(prix):\n",
    "    \"\"\"Convertit le prix en entier (francs CFA)\"\"\"\n",
    "    if pd.isna(prix):\n",
    "        return 0\n",
    "    \n",
    "    # Convertir en string d'abord\n",
    "    prix_str = str(prix).strip()\n",
    "    \n",
    "    # Supprimer les espaces et caractères non numériques sauf les chiffres\n",
    "    prix_str = ''.join(c for c in prix_str if c.isdigit())\n",
    "    \n",
    "    try:\n",
    "        return int(prix_str) if prix_str else 0\n",
    "    except (ValueError, TypeError):\n",
    "        return 0\n",
    "\n",
    "def generer_code_article(designation, ville, index):\n",
    "    \"\"\"Génère un code unique pour chaque article\"\"\"\n",
    "    # Prendre les 3 premiers caractères de la désignation\n",
    "    code_base = ''.join(c for c in designation[:3] if c.isalpha()).upper()\n",
    "    if len(code_base) < 2:\n",
    "        code_base = \"ART\"\n",
    "    \n",
    "    # Ajouter la ville et l'index\n",
    "    ville_code = ville[0].upper()  # Y pour Yaoundé, D pour Douala\n",
    "    return f\"F{code_base}{ville_code}{index:03d}\""
   ]
  },
  {
   "cell_type": "code",
   "execution_count": 6,
   "id": "adcf852a",
   "metadata": {},
   "outputs": [
    {
     "name": "stdout",
     "output_type": "stream",
     "text": [
      "Avant nettoyage: 187 articles\n",
      "Après nettoyage: 187 articles\n",
      "Prix nuls supprimés: 0\n"
     ]
    }
   ],
   "source": [
    "# Nettoyer Yaoundé\n",
    "df_yaoundé_clean = df_yaoundé.copy()\n",
    "df_yaoundé_clean['DESIGNATIONS'] = df_yaoundé_clean['DESIGNATIONS'].apply(nettoyer_designation)\n",
    "df_yaoundé_clean['PRIX'] = df_yaoundé_clean['PRIX'].apply(nettoyer_prix)\n",
    "df_yaoundé_clean['ville'] = 'Yaoundé'\n",
    "\n",
    "print(f\"Avant nettoyage: {len(df_yaoundé)} articles\")\n",
    "print(f\"Après nettoyage: {len(df_yaoundé_clean)} articles\")\n",
    "print(f\"Prix nuls supprimés: {len(df_yaoundé_clean[df_yaoundé_clean['PRIX'] == 0])}\")"
   ]
  },
  {
   "cell_type": "code",
   "execution_count": 7,
   "id": "50146fde",
   "metadata": {},
   "outputs": [
    {
     "name": "stdout",
     "output_type": "stream",
     "text": [
      "Avant nettoyage: 61 articles\n",
      "Après nettoyage: 61 articles\n",
      "Prix nuls supprimés: 0\n"
     ]
    }
   ],
   "source": [
    "# Nettoyer Douala\n",
    "df_douala_clean = df_douala.copy()\n",
    "df_douala_clean['DESIGNATIONS'] = df_douala_clean['DESIGNATIONS'].apply(nettoyer_designation)\n",
    "df_douala_clean['PRIX'] = df_douala_clean['PRIX'].apply(nettoyer_prix)\n",
    "df_douala_clean['ville'] = 'Douala'\n",
    "\n",
    "print(f\"Avant nettoyage: {len(df_douala)} articles\")\n",
    "print(f\"Après nettoyage: {len(df_douala_clean)} articles\")\n",
    "print(f\"Prix nuls supprimés: {len(df_douala_clean[df_douala_clean['PRIX'] == 0])}\")"
   ]
  },
  {
   "cell_type": "code",
   "execution_count": 8,
   "id": "2d7d0b36",
   "metadata": {},
   "outputs": [
    {
     "name": "stdout",
     "output_type": "stream",
     "text": [
      "\n",
      "📋 Exemples de données nettoyées:\n",
      "\n",
      "Yaoundé (5 premiers):\n"
     ]
    },
    {
     "data": {
      "text/html": [
       "<div>\n",
       "<style scoped>\n",
       "    .dataframe tbody tr th:only-of-type {\n",
       "        vertical-align: middle;\n",
       "    }\n",
       "\n",
       "    .dataframe tbody tr th {\n",
       "        vertical-align: top;\n",
       "    }\n",
       "\n",
       "    .dataframe thead th {\n",
       "        text-align: right;\n",
       "    }\n",
       "</style>\n",
       "<table border=\"1\" class=\"dataframe\">\n",
       "  <thead>\n",
       "    <tr style=\"text-align: right;\">\n",
       "      <th></th>\n",
       "      <th>DESIGNATIONS</th>\n",
       "      <th>PRIX</th>\n",
       "      <th>ville</th>\n",
       "    </tr>\n",
       "  </thead>\n",
       "  <tbody>\n",
       "    <tr>\n",
       "      <th>0</th>\n",
       "      <td>Cahiers de dessin 16 pages petit format</td>\n",
       "      <td>300</td>\n",
       "      <td>Yaoundé</td>\n",
       "    </tr>\n",
       "    <tr>\n",
       "      <th>1</th>\n",
       "      <td>Cahiers de dessin 32 pages petit format</td>\n",
       "      <td>500</td>\n",
       "      <td>Yaoundé</td>\n",
       "    </tr>\n",
       "    <tr>\n",
       "      <th>2</th>\n",
       "      <td>Cahiers de dessin 32 pages grand format</td>\n",
       "      <td>1000</td>\n",
       "      <td>Yaoundé</td>\n",
       "    </tr>\n",
       "    <tr>\n",
       "      <th>3</th>\n",
       "      <td>Paquet de cahier de dessin petit format</td>\n",
       "      <td>2000</td>\n",
       "      <td>Yaoundé</td>\n",
       "    </tr>\n",
       "    <tr>\n",
       "      <th>4</th>\n",
       "      <td>Paquet de cahier de dessin grand format</td>\n",
       "      <td>3500</td>\n",
       "      <td>Yaoundé</td>\n",
       "    </tr>\n",
       "  </tbody>\n",
       "</table>\n",
       "</div>"
      ],
      "text/plain": [
       "                              DESIGNATIONS  PRIX    ville\n",
       "0  Cahiers de dessin 16 pages petit format   300  Yaoundé\n",
       "1  Cahiers de dessin 32 pages petit format   500  Yaoundé\n",
       "2  Cahiers de dessin 32 pages grand format  1000  Yaoundé\n",
       "3  Paquet de cahier de dessin petit format  2000  Yaoundé\n",
       "4  Paquet de cahier de dessin grand format  3500  Yaoundé"
      ]
     },
     "execution_count": 8,
     "metadata": {},
     "output_type": "execute_result"
    }
   ],
   "source": [
    "# Afficher quelques exemples de nettoyage\n",
    "print(\"\\n📋 Exemples de données nettoyées:\")\n",
    "print(\"\\nYaoundé (5 premiers):\")\n",
    "df_yaoundé_clean[['DESIGNATIONS', 'PRIX', 'ville']].head()"
   ]
  },
  {
   "cell_type": "code",
   "execution_count": 9,
   "id": "b666b48c",
   "metadata": {},
   "outputs": [
    {
     "name": "stdout",
     "output_type": "stream",
     "text": [
      "\n",
      "Douala (5 premiers):\n"
     ]
    },
    {
     "data": {
      "text/html": [
       "<div>\n",
       "<style scoped>\n",
       "    .dataframe tbody tr th:only-of-type {\n",
       "        vertical-align: middle;\n",
       "    }\n",
       "\n",
       "    .dataframe tbody tr th {\n",
       "        vertical-align: top;\n",
       "    }\n",
       "\n",
       "    .dataframe thead th {\n",
       "        text-align: right;\n",
       "    }\n",
       "</style>\n",
       "<table border=\"1\" class=\"dataframe\">\n",
       "  <thead>\n",
       "    <tr style=\"text-align: right;\">\n",
       "      <th></th>\n",
       "      <th>DESIGNATIONS</th>\n",
       "      <th>PRIX</th>\n",
       "      <th>ville</th>\n",
       "    </tr>\n",
       "  </thead>\n",
       "  <tbody>\n",
       "    <tr>\n",
       "      <th>0</th>\n",
       "      <td>Couvertures cahiers</td>\n",
       "      <td>100</td>\n",
       "      <td>Douala</td>\n",
       "    </tr>\n",
       "    <tr>\n",
       "      <th>1</th>\n",
       "      <td>Couvertures cahiers transparentes</td>\n",
       "      <td>100</td>\n",
       "      <td>Douala</td>\n",
       "    </tr>\n",
       "    <tr>\n",
       "      <th>2</th>\n",
       "      <td>Couvre-livres Adhésif rouleau (A)</td>\n",
       "      <td>1500</td>\n",
       "      <td>Douala</td>\n",
       "    </tr>\n",
       "    <tr>\n",
       "      <th>3</th>\n",
       "      <td>Couvre-livres Adhésif rouleau (B)</td>\n",
       "      <td>2000</td>\n",
       "      <td>Douala</td>\n",
       "    </tr>\n",
       "    <tr>\n",
       "      <th>4</th>\n",
       "      <td>Crayon BIC HB</td>\n",
       "      <td>1500</td>\n",
       "      <td>Douala</td>\n",
       "    </tr>\n",
       "  </tbody>\n",
       "</table>\n",
       "</div>"
      ],
      "text/plain": [
       "                        DESIGNATIONS  PRIX   ville\n",
       "0                Couvertures cahiers   100  Douala\n",
       "1  Couvertures cahiers transparentes   100  Douala\n",
       "2  Couvre-livres Adhésif rouleau (A)  1500  Douala\n",
       "3  Couvre-livres Adhésif rouleau (B)  2000  Douala\n",
       "4                      Crayon BIC HB  1500  Douala"
      ]
     },
     "execution_count": 9,
     "metadata": {},
     "output_type": "execute_result"
    }
   ],
   "source": [
    "print(\"\\nDouala (5 premiers):\")\n",
    "df_douala_clean[['DESIGNATIONS', 'PRIX', 'ville']].head()"
   ]
  },
  {
   "cell_type": "markdown",
   "id": "25c1d581",
   "metadata": {},
   "source": [
    "## 3. STANDARDISATION DES COLONNES"
   ]
  },
  {
   "cell_type": "code",
   "execution_count": 10,
   "id": "b3f34240",
   "metadata": {},
   "outputs": [
    {
     "name": "stdout",
     "output_type": "stream",
     "text": [
      "✅ Colonnes standardisées\n"
     ]
    }
   ],
   "source": [
    "# Renommer les colonnes pour correspondre au schéma de base\n",
    "df_yaoundé_clean = df_yaoundé_clean.rename(columns={\n",
    "    'DESIGNATIONS': 'designation',\n",
    "    'PRIX': 'prix'\n",
    "})\n",
    "\n",
    "df_douala_clean = df_douala_clean.rename(columns={\n",
    "    'DESIGNATIONS': 'designation', \n",
    "    'PRIX': 'prix'\n",
    "})\n",
    "\n",
    "print(\"✅ Colonnes standardisées\")"
   ]
  },
  {
   "cell_type": "markdown",
   "id": "e13465dd",
   "metadata": {},
   "source": [
    "## 4. GÉNÉRATION DES CODES ARTICLES"
   ]
  },
  {
   "cell_type": "code",
   "execution_count": 11,
   "id": "0163d636",
   "metadata": {},
   "outputs": [
    {
     "name": "stdout",
     "output_type": "stream",
     "text": [
      "Articles uniques identifiés: 244\n",
      "✅ 244 codes générés\n"
     ]
    }
   ],
   "source": [
    "# Fusionner temporairement pour créer une liste unique d'articles\n",
    "df_combined = pd.concat([\n",
    "    df_yaoundé_clean[['designation']].assign(ville='Yaoundé'),\n",
    "    df_douala_clean[['designation']].assign(ville='Douala')\n",
    "], ignore_index=True)\n",
    "\n",
    "# Identifier les articles uniques par désignation\n",
    "articles_uniques = df_combined['designation'].unique()\n",
    "print(f\"Articles uniques identifiés: {len(articles_uniques)}\")\n",
    "\n",
    "# Créer un mapping designation -> code\n",
    "code_mapping = {}\n",
    "for i, designation in enumerate(articles_uniques, 1):\n",
    "    code_mapping[designation] = f\"FOUR{i:04d}\"\n",
    "\n",
    "print(f\"✅ {len(code_mapping)} codes générés\")"
   ]
  },
  {
   "cell_type": "code",
   "execution_count": 12,
   "id": "fa06c9f3",
   "metadata": {},
   "outputs": [
    {
     "name": "stdout",
     "output_type": "stream",
     "text": [
      "\n",
      "📋 Aperçu avec codes:\n",
      "\n",
      "Yaoundé:\n",
      "\n",
      "Douala:\n"
     ]
    },
    {
     "data": {
      "text/html": [
       "<div>\n",
       "<style scoped>\n",
       "    .dataframe tbody tr th:only-of-type {\n",
       "        vertical-align: middle;\n",
       "    }\n",
       "\n",
       "    .dataframe tbody tr th {\n",
       "        vertical-align: top;\n",
       "    }\n",
       "\n",
       "    .dataframe thead th {\n",
       "        text-align: right;\n",
       "    }\n",
       "</style>\n",
       "<table border=\"1\" class=\"dataframe\">\n",
       "  <thead>\n",
       "    <tr style=\"text-align: right;\">\n",
       "      <th></th>\n",
       "      <th>code</th>\n",
       "      <th>designation</th>\n",
       "      <th>prix</th>\n",
       "      <th>ville</th>\n",
       "    </tr>\n",
       "  </thead>\n",
       "  <tbody>\n",
       "    <tr>\n",
       "      <th>0</th>\n",
       "      <td>FOUR0185</td>\n",
       "      <td>Couvertures cahiers</td>\n",
       "      <td>100</td>\n",
       "      <td>Douala</td>\n",
       "    </tr>\n",
       "    <tr>\n",
       "      <th>1</th>\n",
       "      <td>FOUR0186</td>\n",
       "      <td>Couvertures cahiers transparentes</td>\n",
       "      <td>100</td>\n",
       "      <td>Douala</td>\n",
       "    </tr>\n",
       "    <tr>\n",
       "      <th>2</th>\n",
       "      <td>FOUR0187</td>\n",
       "      <td>Couvre-livres Adhésif rouleau (A)</td>\n",
       "      <td>1500</td>\n",
       "      <td>Douala</td>\n",
       "    </tr>\n",
       "    <tr>\n",
       "      <th>3</th>\n",
       "      <td>FOUR0188</td>\n",
       "      <td>Couvre-livres Adhésif rouleau (B)</td>\n",
       "      <td>2000</td>\n",
       "      <td>Douala</td>\n",
       "    </tr>\n",
       "    <tr>\n",
       "      <th>4</th>\n",
       "      <td>FOUR0189</td>\n",
       "      <td>Crayon BIC HB</td>\n",
       "      <td>1500</td>\n",
       "      <td>Douala</td>\n",
       "    </tr>\n",
       "  </tbody>\n",
       "</table>\n",
       "</div>"
      ],
      "text/plain": [
       "       code                        designation  prix   ville\n",
       "0  FOUR0185                Couvertures cahiers   100  Douala\n",
       "1  FOUR0186  Couvertures cahiers transparentes   100  Douala\n",
       "2  FOUR0187  Couvre-livres Adhésif rouleau (A)  1500  Douala\n",
       "3  FOUR0188  Couvre-livres Adhésif rouleau (B)  2000  Douala\n",
       "4  FOUR0189                      Crayon BIC HB  1500  Douala"
      ]
     },
     "execution_count": 12,
     "metadata": {},
     "output_type": "execute_result"
    }
   ],
   "source": [
    "# Appliquer les codes aux dataframes\n",
    "df_yaoundé_clean['code'] = df_yaoundé_clean['designation'].map(code_mapping)\n",
    "df_douala_clean['code'] = df_douala_clean['designation'].map(code_mapping)\n",
    "\n",
    "print(\"\\n📋 Aperçu avec codes:\")\n",
    "print(\"\\nYaoundé:\")\n",
    "df_yaoundé_clean[['code', 'designation', 'prix', 'ville']].head()\n",
    "\n",
    "print(\"\\nDouala:\")\n",
    "df_douala_clean[['code', 'designation', 'prix', 'ville']].head()"
   ]
  },
  {
   "cell_type": "markdown",
   "id": "525ed2bc",
   "metadata": {},
   "source": [
    "## 5. CRÉATION DES TABLES FINALES"
   ]
  },
  {
   "cell_type": "code",
   "execution_count": 13,
   "id": "d61dd50a",
   "metadata": {},
   "outputs": [
    {
     "name": "stdout",
     "output_type": "stream",
     "text": [
      "✅ Table articles_fournitures: 244 articles\n"
     ]
    }
   ],
   "source": [
    "# Table articles_fournitures (articles uniques)\n",
    "articles_fournitures = []\n",
    "for designation, code in code_mapping.items():\n",
    "    # Prendre le premier prix trouvé (ou faire une moyenne)\n",
    "    prix_yaoundé = df_yaoundé_clean[df_yaoundé_clean['designation'] == designation]['prix'].iloc[0] \\\n",
    "                   if len(df_yaoundé_clean[df_yaoundé_clean['designation'] == designation]) > 0 else 0\n",
    "    \n",
    "    articles_fournitures.append({\n",
    "        'code': code,\n",
    "        'designation': designation,\n",
    "        'prix': prix_yaoundé,  # Prix de base (Yaoundé)\n",
    "        'type_article': 'fourniture'\n",
    "    })\n",
    "\n",
    "df_articles_fournitures = pd.DataFrame(articles_fournitures)\n",
    "print(f\"✅ Table articles_fournitures: {len(df_articles_fournitures)} articles\")"
   ]
  },
  {
   "cell_type": "code",
   "execution_count": 14,
   "id": "90b9fe7e",
   "metadata": {},
   "outputs": [
    {
     "name": "stdout",
     "output_type": "stream",
     "text": [
      "✅ Table prix_fournitures_ville: 248 entrées\n"
     ]
    }
   ],
   "source": [
    "# Table prix_fournitures_ville (prix par ville)\n",
    "prix_par_ville = []\n",
    "\n",
    "# Ajouter les prix de Yaoundé\n",
    "for _, row in df_yaoundé_clean.iterrows():\n",
    "    prix_par_ville.append({\n",
    "        'code': row['code'],\n",
    "        'ville': 'Yaoundé',\n",
    "        'prix': row['prix']\n",
    "    })\n",
    "\n",
    "# Ajouter les prix de Douala\n",
    "for _, row in df_douala_clean.iterrows():\n",
    "    prix_par_ville.append({\n",
    "        'code': row['code'],\n",
    "        'ville': 'Douala', \n",
    "        'prix': row['prix']\n",
    "    })\n",
    "\n",
    "df_prix_ville = pd.DataFrame(prix_par_ville)\n",
    "print(f\"✅ Table prix_fournitures_ville: {len(df_prix_ville)} entrées\")"
   ]
  },
  {
   "cell_type": "markdown",
   "id": "44a14753",
   "metadata": {},
   "source": [
    "## 6. VÉRIFICATIONS ET STATISTIQUES"
   ]
  },
  {
   "cell_type": "code",
   "execution_count": 15,
   "id": "4dd7cca6",
   "metadata": {},
   "outputs": [
    {
     "name": "stdout",
     "output_type": "stream",
     "text": [
      "\n",
      "📈 Statistiques finales:\n",
      "\n",
      "• Articles uniques: 244\n",
      "\n",
      "• Prix par ville: 248\n",
      "\n",
      "• Villes: ['Yaoundé' 'Douala']\n"
     ]
    }
   ],
   "source": [
    "print(\"\\n📈 Statistiques finales:\")\n",
    "print(f\"\\n• Articles uniques: {len(df_articles_fournitures)}\")\n",
    "print(f\"\\n• Prix par ville: {len(df_prix_ville)}\")\n",
    "print(f\"\\n• Villes: {df_prix_ville['ville'].unique()}\")"
   ]
  },
  {
   "cell_type": "code",
   "execution_count": 16,
   "id": "a6d93fc3",
   "metadata": {},
   "outputs": [
    {
     "name": "stdout",
     "output_type": "stream",
     "text": [
      "• Doublons articles: 0\n",
      "• Doublons prix-ville: 3\n"
     ]
    }
   ],
   "source": [
    "# Vérifier les doublons\n",
    "doublons_articles = df_articles_fournitures['code'].duplicated().sum()\n",
    "doublons_prix = df_prix_ville[['code', 'ville']].duplicated().sum()\n",
    "print(f\"• Doublons articles: {doublons_articles}\")\n",
    "print(f\"• Doublons prix-ville: {doublons_prix}\")"
   ]
  },
  {
   "cell_type": "markdown",
   "id": "a0ac5426",
   "metadata": {},
   "source": [
    "## 7. SAUVEGARDE DES FICHIERS FINAUX"
   ]
  },
  {
   "cell_type": "code",
   "execution_count": 17,
   "id": "6a7a0631",
   "metadata": {},
   "outputs": [
    {
     "name": "stdout",
     "output_type": "stream",
     "text": [
      "✅ Fichier sauvegardé: ../data/processed/final/fournitures_final.csv\n",
      "✅ Fichier sauvegardé: ../data/processed/final/prix_fournitures_ville_final.csv\n"
     ]
    }
   ],
   "source": [
    "# Sauvegarder les articles fournitures\n",
    "df_articles_fournitures.to_csv(PROCESSED_DIR / \"fournitures_final.csv\", index=False)\n",
    "print(f\"✅ Fichier sauvegardé: {PROCESSED_DIR / 'fournitures_final.csv'}\")\n",
    "\n",
    "# Sauvegarde des prix par ville\n",
    "df_prix_ville.to_csv(PROCESSED_DIR / \"prix_fournitures_ville_final.csv\", index=False)\n",
    "print(f\"✅ Fichier sauvegardé: {PROCESSED_DIR / 'prix_fournitures_ville_final.csv'}\")"
   ]
  },
  {
   "cell_type": "code",
   "execution_count": 18,
   "id": "80575474",
   "metadata": {},
   "outputs": [
    {
     "name": "stdout",
     "output_type": "stream",
     "text": [
      "\n",
      "Articles fournitures:\n"
     ]
    },
    {
     "data": {
      "text/html": [
       "<div>\n",
       "<style scoped>\n",
       "    .dataframe tbody tr th:only-of-type {\n",
       "        vertical-align: middle;\n",
       "    }\n",
       "\n",
       "    .dataframe tbody tr th {\n",
       "        vertical-align: top;\n",
       "    }\n",
       "\n",
       "    .dataframe thead th {\n",
       "        text-align: right;\n",
       "    }\n",
       "</style>\n",
       "<table border=\"1\" class=\"dataframe\">\n",
       "  <thead>\n",
       "    <tr style=\"text-align: right;\">\n",
       "      <th></th>\n",
       "      <th>code</th>\n",
       "      <th>designation</th>\n",
       "      <th>prix</th>\n",
       "      <th>type_article</th>\n",
       "    </tr>\n",
       "  </thead>\n",
       "  <tbody>\n",
       "    <tr>\n",
       "      <th>0</th>\n",
       "      <td>FOUR0001</td>\n",
       "      <td>Cahiers de dessin 16 pages petit format</td>\n",
       "      <td>300</td>\n",
       "      <td>fourniture</td>\n",
       "    </tr>\n",
       "    <tr>\n",
       "      <th>1</th>\n",
       "      <td>FOUR0002</td>\n",
       "      <td>Cahiers de dessin 32 pages petit format</td>\n",
       "      <td>500</td>\n",
       "      <td>fourniture</td>\n",
       "    </tr>\n",
       "    <tr>\n",
       "      <th>2</th>\n",
       "      <td>FOUR0003</td>\n",
       "      <td>Cahiers de dessin 32 pages grand format</td>\n",
       "      <td>1000</td>\n",
       "      <td>fourniture</td>\n",
       "    </tr>\n",
       "    <tr>\n",
       "      <th>3</th>\n",
       "      <td>FOUR0004</td>\n",
       "      <td>Paquet de cahier de dessin petit format</td>\n",
       "      <td>2000</td>\n",
       "      <td>fourniture</td>\n",
       "    </tr>\n",
       "    <tr>\n",
       "      <th>4</th>\n",
       "      <td>FOUR0005</td>\n",
       "      <td>Paquet de cahier de dessin grand format</td>\n",
       "      <td>3500</td>\n",
       "      <td>fourniture</td>\n",
       "    </tr>\n",
       "    <tr>\n",
       "      <th>5</th>\n",
       "      <td>FOUR0006</td>\n",
       "      <td>Cahiers double ligne banane</td>\n",
       "      <td>200</td>\n",
       "      <td>fourniture</td>\n",
       "    </tr>\n",
       "    <tr>\n",
       "      <th>6</th>\n",
       "      <td>FOUR0007</td>\n",
       "      <td>Cahiers double ligne 32 pages</td>\n",
       "      <td>200</td>\n",
       "      <td>fourniture</td>\n",
       "    </tr>\n",
       "    <tr>\n",
       "      <th>7</th>\n",
       "      <td>FOUR0008</td>\n",
       "      <td>Paquet cahiers double ligne banane</td>\n",
       "      <td>4000</td>\n",
       "      <td>fourniture</td>\n",
       "    </tr>\n",
       "    <tr>\n",
       "      <th>8</th>\n",
       "      <td>FOUR0009</td>\n",
       "      <td>Paquet de cahiers double ligne 32 pages</td>\n",
       "      <td>2000</td>\n",
       "      <td>fourniture</td>\n",
       "    </tr>\n",
       "    <tr>\n",
       "      <th>9</th>\n",
       "      <td>FOUR0010</td>\n",
       "      <td>Cahiers de 50 pages</td>\n",
       "      <td>250</td>\n",
       "      <td>fourniture</td>\n",
       "    </tr>\n",
       "  </tbody>\n",
       "</table>\n",
       "</div>"
      ],
      "text/plain": [
       "       code                              designation  prix type_article\n",
       "0  FOUR0001  Cahiers de dessin 16 pages petit format   300   fourniture\n",
       "1  FOUR0002  Cahiers de dessin 32 pages petit format   500   fourniture\n",
       "2  FOUR0003  Cahiers de dessin 32 pages grand format  1000   fourniture\n",
       "3  FOUR0004  Paquet de cahier de dessin petit format  2000   fourniture\n",
       "4  FOUR0005  Paquet de cahier de dessin grand format  3500   fourniture\n",
       "5  FOUR0006              Cahiers double ligne banane   200   fourniture\n",
       "6  FOUR0007            Cahiers double ligne 32 pages   200   fourniture\n",
       "7  FOUR0008       Paquet cahiers double ligne banane  4000   fourniture\n",
       "8  FOUR0009  Paquet de cahiers double ligne 32 pages  2000   fourniture\n",
       "9  FOUR0010                      Cahiers de 50 pages   250   fourniture"
      ]
     },
     "execution_count": 18,
     "metadata": {},
     "output_type": "execute_result"
    }
   ],
   "source": [
    "# Afficher un aperçu final\n",
    "print(\"\\nArticles fournitures:\")\n",
    "df_articles_fournitures.head(10)"
   ]
  },
  {
   "cell_type": "code",
   "execution_count": 19,
   "id": "537b2418",
   "metadata": {},
   "outputs": [
    {
     "name": "stdout",
     "output_type": "stream",
     "text": [
      "\n",
      "Prix par ville:\n"
     ]
    },
    {
     "data": {
      "text/html": [
       "<div>\n",
       "<style scoped>\n",
       "    .dataframe tbody tr th:only-of-type {\n",
       "        vertical-align: middle;\n",
       "    }\n",
       "\n",
       "    .dataframe tbody tr th {\n",
       "        vertical-align: top;\n",
       "    }\n",
       "\n",
       "    .dataframe thead th {\n",
       "        text-align: right;\n",
       "    }\n",
       "</style>\n",
       "<table border=\"1\" class=\"dataframe\">\n",
       "  <thead>\n",
       "    <tr style=\"text-align: right;\">\n",
       "      <th></th>\n",
       "      <th>code</th>\n",
       "      <th>ville</th>\n",
       "      <th>prix</th>\n",
       "    </tr>\n",
       "  </thead>\n",
       "  <tbody>\n",
       "    <tr>\n",
       "      <th>0</th>\n",
       "      <td>FOUR0001</td>\n",
       "      <td>Yaoundé</td>\n",
       "      <td>300</td>\n",
       "    </tr>\n",
       "    <tr>\n",
       "      <th>1</th>\n",
       "      <td>FOUR0002</td>\n",
       "      <td>Yaoundé</td>\n",
       "      <td>500</td>\n",
       "    </tr>\n",
       "    <tr>\n",
       "      <th>2</th>\n",
       "      <td>FOUR0003</td>\n",
       "      <td>Yaoundé</td>\n",
       "      <td>1000</td>\n",
       "    </tr>\n",
       "    <tr>\n",
       "      <th>3</th>\n",
       "      <td>FOUR0004</td>\n",
       "      <td>Yaoundé</td>\n",
       "      <td>2000</td>\n",
       "    </tr>\n",
       "    <tr>\n",
       "      <th>4</th>\n",
       "      <td>FOUR0005</td>\n",
       "      <td>Yaoundé</td>\n",
       "      <td>3500</td>\n",
       "    </tr>\n",
       "    <tr>\n",
       "      <th>5</th>\n",
       "      <td>FOUR0006</td>\n",
       "      <td>Yaoundé</td>\n",
       "      <td>200</td>\n",
       "    </tr>\n",
       "    <tr>\n",
       "      <th>6</th>\n",
       "      <td>FOUR0007</td>\n",
       "      <td>Yaoundé</td>\n",
       "      <td>200</td>\n",
       "    </tr>\n",
       "    <tr>\n",
       "      <th>7</th>\n",
       "      <td>FOUR0008</td>\n",
       "      <td>Yaoundé</td>\n",
       "      <td>4000</td>\n",
       "    </tr>\n",
       "    <tr>\n",
       "      <th>8</th>\n",
       "      <td>FOUR0009</td>\n",
       "      <td>Yaoundé</td>\n",
       "      <td>2000</td>\n",
       "    </tr>\n",
       "    <tr>\n",
       "      <th>9</th>\n",
       "      <td>FOUR0010</td>\n",
       "      <td>Yaoundé</td>\n",
       "      <td>250</td>\n",
       "    </tr>\n",
       "  </tbody>\n",
       "</table>\n",
       "</div>"
      ],
      "text/plain": [
       "       code    ville  prix\n",
       "0  FOUR0001  Yaoundé   300\n",
       "1  FOUR0002  Yaoundé   500\n",
       "2  FOUR0003  Yaoundé  1000\n",
       "3  FOUR0004  Yaoundé  2000\n",
       "4  FOUR0005  Yaoundé  3500\n",
       "5  FOUR0006  Yaoundé   200\n",
       "6  FOUR0007  Yaoundé   200\n",
       "7  FOUR0008  Yaoundé  4000\n",
       "8  FOUR0009  Yaoundé  2000\n",
       "9  FOUR0010  Yaoundé   250"
      ]
     },
     "execution_count": 19,
     "metadata": {},
     "output_type": "execute_result"
    }
   ],
   "source": [
    "print(\"\\nPrix par ville:\")\n",
    "df_prix_ville.head(10)"
   ]
  }
 ],
 "metadata": {
  "kernelspec": {
   "display_name": ".venv",
   "language": "python",
   "name": "python3"
  },
  "language_info": {
   "codemirror_mode": {
    "name": "ipython",
    "version": 3
   },
   "file_extension": ".py",
   "mimetype": "text/x-python",
   "name": "python",
   "nbconvert_exporter": "python",
   "pygments_lexer": "ipython3",
   "version": "3.9.20"
  }
 },
 "nbformat": 4,
 "nbformat_minor": 5
}
