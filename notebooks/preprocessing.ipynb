{
 "cells": [
  {
   "cell_type": "markdown",
   "id": "37e122ee",
   "metadata": {},
   "source": [
    "# **MODULE DE PREPROCESSING**"
   ]
  },
  {
   "cell_type": "markdown",
   "id": "d32a0765",
   "metadata": {},
   "source": [
    "## **1. Collecte et indexation des proformas**"
   ]
  },
  {
   "cell_type": "markdown",
   "id": "07a12fba",
   "metadata": {},
   "source": [
    "Cette étape permet de construire une liste claire et traçable des fichiers proformas disponibles, en attribuant à chaque fichier un identifiant unique (hash) et en enregistrant ses informations techniques (nom, taille, chemin). Cet inventaire servira de base de référence pour suivre les documents analysés, détecter les doublons, et faciliter les audits de traitement."
   ]
  },
  {
   "cell_type": "code",
   "execution_count": 3,
   "id": "de519514",
   "metadata": {},
   "outputs": [
    {
     "name": "stdout",
     "output_type": "stream",
     "text": [
      "Dossier BASE_DIR existe: True\n",
      "Dossier factures existe: True\n",
      "Dossier processed existe: True\n",
      "Dossier mapping existe: True\n",
      "\n",
      "Répertoire de travail actuel: /Users/admin/Desktop/bizzio/notebooks\n"
     ]
    }
   ],
   "source": [
    "# 1.1 Configuration des chemins\n",
    "from pathlib import Path\n",
    "\n",
    "# Définition du dossier racine du projet\n",
    "BASE_DIR = Path('..') \n",
    "\n",
    "# Définition des sous-dossiers utiles\n",
    "RAW_FACTURES_DIR = BASE_DIR / 'data' / 'raw' / 'factures'\n",
    "PROCESSED_DIR = BASE_DIR / 'data' / 'processed'\n",
    "MAPPING_DIR = BASE_DIR / 'data' / 'mapping'\n",
    "\n",
    "# Vérification des dossiers\n",
    "print(f\"Dossier BASE_DIR existe: {BASE_DIR.exists()}\")\n",
    "print(f\"Dossier factures existe: {RAW_FACTURES_DIR.exists()}\")\n",
    "print(f\"Dossier processed existe: {PROCESSED_DIR.exists()}\")\n",
    "print(f\"Dossier mapping existe: {MAPPING_DIR.exists()}\")\n",
    "\n",
    "# Répertoire de travail courant \n",
    "print(f\"\\nRépertoire de travail actuel: {Path.cwd()}\")"
   ]
  },
  {
   "cell_type": "code",
   "execution_count": 4,
   "id": "bdbe7137",
   "metadata": {},
   "outputs": [],
   "source": [
    "# 1.2 Import des librairies utiles\n",
    "import hashlib\n",
    "import pandas as pd\n",
    "import numpy as np\n",
    "import fitz  # PyMuPDF\n",
    "import re\n",
    "from tqdm import tqdm\n",
    "import matplotlib.pyplot as plt\n",
    "import seaborn as sns\n",
    "import os\n",
    "from glob import glob"
   ]
  },
  {
   "cell_type": "code",
   "execution_count": 5,
   "id": "1fc0d560",
   "metadata": {},
   "outputs": [
    {
     "name": "stdout",
     "output_type": "stream",
     "text": [
      "754 fichiers PDF détectés.\n"
     ]
    }
   ],
   "source": [
    "# 1.3 Lister tous les fichiers PDF dans le dossier\n",
    "pdf_files = [f for f in RAW_FACTURES_DIR.glob(\"*.pdf\") if f.is_file()]\n",
    "print(f\"{len(pdf_files)} fichiers PDF détectés.\")"
   ]
  },
  {
   "cell_type": "code",
   "execution_count": 6,
   "id": "08a43eeb",
   "metadata": {},
   "outputs": [],
   "source": [
    "# 1.4 Générer un identifiant unique (hash MD5) par fichier\n",
    "def generate_file_id(filepath):\n",
    "    with open(filepath, \"rb\") as f:\n",
    "        return hashlib.md5(f.read()).hexdigest()"
   ]
  },
  {
   "cell_type": "code",
   "execution_count": 7,
   "id": "192007f4",
   "metadata": {},
   "outputs": [],
   "source": [
    "# 1.5 Création de l’inventaire\n",
    "inventory = []\n",
    "for file in pdf_files:\n",
    "    file_id = generate_file_id(file)\n",
    "    inventory.append({\n",
    "        \"file_name\": file.name,\n",
    "        \"file_path\": str(file.relative_to(BASE_DIR)),\n",
    "        \"file_id\": file_id,\n",
    "        \"file_size_kb\": round(file.stat().st_size / 1024, 2)\n",
    "    })\n",
    "\n",
    "df_inventory = pd.DataFrame(inventory)"
   ]
  },
  {
   "cell_type": "code",
   "execution_count": 8,
   "id": "645344e1",
   "metadata": {},
   "outputs": [
    {
     "data": {
      "text/html": [
       "<div>\n",
       "<style scoped>\n",
       "    .dataframe tbody tr th:only-of-type {\n",
       "        vertical-align: middle;\n",
       "    }\n",
       "\n",
       "    .dataframe tbody tr th {\n",
       "        vertical-align: top;\n",
       "    }\n",
       "\n",
       "    .dataframe thead th {\n",
       "        text-align: right;\n",
       "    }\n",
       "</style>\n",
       "<table border=\"1\" class=\"dataframe\">\n",
       "  <thead>\n",
       "    <tr style=\"text-align: right;\">\n",
       "      <th></th>\n",
       "      <th>file_name</th>\n",
       "      <th>file_path</th>\n",
       "      <th>file_id</th>\n",
       "      <th>file_size_kb</th>\n",
       "    </tr>\n",
       "  </thead>\n",
       "  <tbody>\n",
       "    <tr>\n",
       "      <th>0</th>\n",
       "      <td>Facture Mr Serge-BBS-406Créer le07.09.2022 A ...</td>\n",
       "      <td>data/raw/factures/Facture Mr Serge-BBS-406Cré...</td>\n",
       "      <td>119ab8cf28c3c3ec953f075e1acaba7d</td>\n",
       "      <td>285.41</td>\n",
       "    </tr>\n",
       "    <tr>\n",
       "      <th>1</th>\n",
       "      <td>Facture Ecole Chantal-BBS-280Créer le09.09.20...</td>\n",
       "      <td>data/raw/factures/Facture Ecole Chantal-BBS-28...</td>\n",
       "      <td>323aae9a7a19144a52684b78039bbd85</td>\n",
       "      <td>291.85</td>\n",
       "    </tr>\n",
       "    <tr>\n",
       "      <th>2</th>\n",
       "      <td>Facture Mr sachaux paul-BBS-242Créer le01.07....</td>\n",
       "      <td>data/raw/factures/Facture Mr sachaux paul-BBS-...</td>\n",
       "      <td>090d3df91e09f6c02e2d372239205ac2</td>\n",
       "      <td>280.88</td>\n",
       "    </tr>\n",
       "    <tr>\n",
       "      <th>3</th>\n",
       "      <td>Facture Mme Kemka-BBS-418Créer le09.09.2022 A...</td>\n",
       "      <td>data/raw/factures/Facture Mme Kemka-BBS-418Cre...</td>\n",
       "      <td>df92186bf240f64974ff5f9a08af3d6a</td>\n",
       "      <td>279.46</td>\n",
       "    </tr>\n",
       "    <tr>\n",
       "      <th>4</th>\n",
       "      <td>Facture M. Zacharie Hotamie-BBS-473Créer le13...</td>\n",
       "      <td>data/raw/factures/Facture M. Zacharie Hotamie-...</td>\n",
       "      <td>b5c132dde28a98104bdd2dbe9999a61a</td>\n",
       "      <td>244.23</td>\n",
       "    </tr>\n",
       "  </tbody>\n",
       "</table>\n",
       "</div>"
      ],
      "text/plain": [
       "                                           file_name  \\\n",
       "0  Facture Mr Serge-BBS-406Créer le07.09.2022 A ...   \n",
       "1  Facture Ecole Chantal-BBS-280Créer le09.09.20...   \n",
       "2  Facture Mr sachaux paul-BBS-242Créer le01.07....   \n",
       "3  Facture Mme Kemka-BBS-418Créer le09.09.2022 A...   \n",
       "4  Facture M. Zacharie Hotamie-BBS-473Créer le13...   \n",
       "\n",
       "                                           file_path  \\\n",
       "0  data/raw/factures/Facture Mr Serge-BBS-406Cré...   \n",
       "1  data/raw/factures/Facture Ecole Chantal-BBS-28...   \n",
       "2  data/raw/factures/Facture Mr sachaux paul-BBS-...   \n",
       "3  data/raw/factures/Facture Mme Kemka-BBS-418Cre...   \n",
       "4  data/raw/factures/Facture M. Zacharie Hotamie-...   \n",
       "\n",
       "                            file_id  file_size_kb  \n",
       "0  119ab8cf28c3c3ec953f075e1acaba7d        285.41  \n",
       "1  323aae9a7a19144a52684b78039bbd85        291.85  \n",
       "2  090d3df91e09f6c02e2d372239205ac2        280.88  \n",
       "3  df92186bf240f64974ff5f9a08af3d6a        279.46  \n",
       "4  b5c132dde28a98104bdd2dbe9999a61a        244.23  "
      ]
     },
     "execution_count": 8,
     "metadata": {},
     "output_type": "execute_result"
    }
   ],
   "source": [
    "# 1.6 Export du fichier d'inventaire\n",
    "output_path = PROCESSED_DIR / \"proformas_extrait.csv\"\n",
    "\n",
    "parasites_path = MAPPING_DIR / \"parasites.txt\"\n",
    "\n",
    "df_inventory.to_csv(output_path, index=False)\n",
    "df_inventory.head()"
   ]
  },
  {
   "cell_type": "markdown",
   "id": "ebb8dcb4",
   "metadata": {},
   "source": [
    "## **2. Extraction automatique des lignes de commande**"
   ]
  },
  {
   "cell_type": "markdown",
   "id": "d198b22d",
   "metadata": {},
   "source": [
    "Cette étape permet d’**extraire automatiquement** les lignes de commande contenues dans les proformas PDF, en associant à chaque ligne les informations essentielles : **client, date, article, quantité, prix et total**. Chaque ligne est liée à un proforma_id unique, ce qui permet de tracer l’origine du document, de regrouper ou de vérifier les données plus tard. Le résultat brut est un fichier proformas_extraits.csv, essentiel pour les étapes de nettoyage, de croisement avec les ventes 2023, et de normalisation."
   ]
  },
  {
   "cell_type": "code",
   "execution_count": 9,
   "id": "771f744d",
   "metadata": {},
   "outputs": [],
   "source": [
    "# 2.0 Charger les mots parasites\n",
    "def charger_mots_parasites(path=MAPPING_DIR / \"parasites.txt\"):\n",
    "    with open(path, encoding=\"utf-8\") as f:\n",
    "        return [ligne.strip().lower() for ligne in f if ligne.strip()]\n",
    "\n",
    "parasites = charger_mots_parasites()"
   ]
  },
  {
   "cell_type": "code",
   "execution_count": 10,
   "id": "35042e8e",
   "metadata": {},
   "outputs": [],
   "source": [
    "# 2.1 Fonction d'extraction d'en-tête (extrait Ville Livraison)\n",
    "def extraire_entete_facture(texte):\n",
    "    infos = {\n",
    "        'date': None,\n",
    "        'numero_facture': None,\n",
    "        'client_nom': None,\n",
    "        'client_telephone': None,\n",
    "        'agence': None\n",
    "    }\n",
    "    match_date = re.search(r'DATE:\\s*(\\d{2}/\\d{2}/\\d{4})', texte)\n",
    "    if match_date:\n",
    "        infos['date'] = match_date.group(1)\n",
    "\n",
    "    match_facture = re.search(r'FACTURE:\\s*(BBS-\\d+)', texte)\n",
    "    if match_facture:\n",
    "        infos['numero_facture'] = match_facture.group(1)\n",
    "\n",
    "    match_client = re.search(r'DOIT:\\s*(.+?)(?:\\n|Telephone|Code)', texte, re.DOTALL)\n",
    "    if match_client:\n",
    "        infos['client_nom'] = match_client.group(1).strip()\n",
    "\n",
    "    match_tel = re.search(r'Telephone:\\s*(\\d+)', texte)\n",
    "    if match_tel:\n",
    "        infos['client_telephone'] = match_tel.group(1)\n",
    "\n",
    "    match_ville = re.search(r'Ville Livraison\\s*:?[\\s\\-]*([A-ZÉ]+)', texte, re.IGNORECASE)\n",
    "    if match_ville:\n",
    "        infos['agence'] = match_ville.group(1).capitalize()\n",
    "\n",
    "    return infos"
   ]
  },
  {
   "cell_type": "code",
   "execution_count": 11,
   "id": "48618a3a",
   "metadata": {},
   "outputs": [],
   "source": [
    "# 2.2 Extraction des lignes produits avec filtre sur designation parasite\n",
    "def extraire_lignes_produits(texte, parasites):\n",
    "    lignes_produits = []\n",
    "    lignes = texte.split(\"\\n\")\n",
    "    i = 0\n",
    "    while i < len(lignes) - 4:\n",
    "        code = lignes[i].strip()\n",
    "        designation = lignes[i+1].strip()\n",
    "        quantite = lignes[i+2].strip()\n",
    "        pu = lignes[i+3].strip()\n",
    "        total = lignes[i+4].strip()\n",
    "\n",
    "        if any(p in designation.lower() for p in parasites):\n",
    "            i += 1\n",
    "            continue\n",
    "\n",
    "        if re.match(r\"[a-zA-Z]\\d{3,5}\", code):\n",
    "            try:\n",
    "                qte = int(quantite)\n",
    "                pu_val = float(pu.replace(\"FCFA\", \"\").replace(\" \", \"\").replace(\",\", \".\"))\n",
    "                total_val = float(total.replace(\"FCFA\", \"\").replace(\" \", \"\").replace(\",\", \".\"))\n",
    "            except:\n",
    "                i += 1\n",
    "                continue\n",
    "\n",
    "            lignes_produits.append({\n",
    "                \"code_article\": code,\n",
    "                \"designation\": designation,\n",
    "                \"quantite\": qte,\n",
    "                \"prix_unitaire\": pu_val,\n",
    "                \"total_ligne\": total_val,\n",
    "                \"type_ligne\": \"produit\"\n",
    "            })\n",
    "            i += 5\n",
    "        else:\n",
    "            i += 1\n",
    "    return lignes_produits"
   ]
  },
  {
   "cell_type": "code",
   "execution_count": 12,
   "id": "dc9d3994",
   "metadata": {},
   "outputs": [
    {
     "name": "stderr",
     "output_type": "stream",
     "text": [
      "📄 Extraction brute des factures: 100%|██████████| 754/754 [00:05<00:00, 150.25it/s]\n"
     ]
    }
   ],
   "source": [
    "# 2.3 Boucle principale d’extraction PDF\n",
    "pdf_files = list(RAW_FACTURES_DIR.glob(\"*.pdf\"))\n",
    "extracted_data = []\n",
    "\n",
    "for file in tqdm(pdf_files, desc=\"📄 Extraction brute des factures\"):\n",
    "    file_id = generate_file_id(file)\n",
    "    try:\n",
    "        with fitz.open(file) as doc:\n",
    "            texte = \"\"\n",
    "            for page in doc:\n",
    "                texte += page.get_text()\n",
    "\n",
    "            entete = extraire_entete_facture(texte)\n",
    "            lignes = extraire_lignes_produits(texte, parasites)\n",
    "\n",
    "            for ligne in lignes:\n",
    "                extracted_data.append({\n",
    "                    \"proforma_id\": file_id,\n",
    "                    \"client\": entete[\"client_nom\"],\n",
    "                    \"date\": entete[\"date\"],\n",
    "                    \"numero_facture\": entete[\"numero_facture\"],\n",
    "                    \"telephone\": entete[\"client_telephone\"],\n",
    "                    \"agence\": entete[\"agence\"],\n",
    "                    **ligne\n",
    "                })\n",
    "\n",
    "    except Exception as e:\n",
    "        print(f\"Erreur dans {file.name} : {e}\")\n",
    "        continue\n",
    "\n",
    "df_extrait = pd.DataFrame(extracted_data)"
   ]
  },
  {
   "cell_type": "code",
   "execution_count": 13,
   "id": "ccd27184",
   "metadata": {},
   "outputs": [
    {
     "data": {
      "text/html": [
       "<div>\n",
       "<style scoped>\n",
       "    .dataframe tbody tr th:only-of-type {\n",
       "        vertical-align: middle;\n",
       "    }\n",
       "\n",
       "    .dataframe tbody tr th {\n",
       "        vertical-align: top;\n",
       "    }\n",
       "\n",
       "    .dataframe thead th {\n",
       "        text-align: right;\n",
       "    }\n",
       "</style>\n",
       "<table border=\"1\" class=\"dataframe\">\n",
       "  <thead>\n",
       "    <tr style=\"text-align: right;\">\n",
       "      <th></th>\n",
       "      <th>proforma_id</th>\n",
       "      <th>client</th>\n",
       "      <th>date</th>\n",
       "      <th>numero_facture</th>\n",
       "      <th>telephone</th>\n",
       "      <th>agence</th>\n",
       "      <th>code_article</th>\n",
       "      <th>designation</th>\n",
       "      <th>quantite</th>\n",
       "      <th>prix_unitaire</th>\n",
       "      <th>total_ligne</th>\n",
       "      <th>type_ligne</th>\n",
       "    </tr>\n",
       "  </thead>\n",
       "  <tbody>\n",
       "    <tr>\n",
       "      <th>0</th>\n",
       "      <td>119ab8cf28c3c3ec953f075e1acaba7d</td>\n",
       "      <td>Mr Serge</td>\n",
       "      <td>07/09/2022</td>\n",
       "      <td>BBS-406</td>\n",
       "      <td>None</td>\n",
       "      <td>Yaounde</td>\n",
       "      <td>b083</td>\n",
       "      <td>english language : english language class 4</td>\n",
       "      <td>1</td>\n",
       "      <td>1800</td>\n",
       "      <td>1800</td>\n",
       "      <td>produit</td>\n",
       "    </tr>\n",
       "    <tr>\n",
       "      <th>1</th>\n",
       "      <td>119ab8cf28c3c3ec953f075e1acaba7d</td>\n",
       "      <td>Mr Serge</td>\n",
       "      <td>07/09/2022</td>\n",
       "      <td>BBS-406</td>\n",
       "      <td>None</td>\n",
       "      <td>Yaounde</td>\n",
       "      <td>b084</td>\n",
       "      <td>literature class 4: benjamin is not a little boy!</td>\n",
       "      <td>1</td>\n",
       "      <td>1000</td>\n",
       "      <td>1000</td>\n",
       "      <td>produit</td>\n",
       "    </tr>\n",
       "    <tr>\n",
       "      <th>2</th>\n",
       "      <td>119ab8cf28c3c3ec953f075e1acaba7d</td>\n",
       "      <td>Mr Serge</td>\n",
       "      <td>07/09/2022</td>\n",
       "      <td>BBS-406</td>\n",
       "      <td>None</td>\n",
       "      <td>Yaounde</td>\n",
       "      <td>b085</td>\n",
       "      <td>french language: french language class 4</td>\n",
       "      <td>1</td>\n",
       "      <td>1700</td>\n",
       "      <td>1700</td>\n",
       "      <td>produit</td>\n",
       "    </tr>\n",
       "    <tr>\n",
       "      <th>3</th>\n",
       "      <td>119ab8cf28c3c3ec953f075e1acaba7d</td>\n",
       "      <td>Mr Serge</td>\n",
       "      <td>07/09/2022</td>\n",
       "      <td>BBS-406</td>\n",
       "      <td>None</td>\n",
       "      <td>Yaounde</td>\n",
       "      <td>b086</td>\n",
       "      <td>mathematics : mathematics class 4</td>\n",
       "      <td>1</td>\n",
       "      <td>1800</td>\n",
       "      <td>1800</td>\n",
       "      <td>produit</td>\n",
       "    </tr>\n",
       "    <tr>\n",
       "      <th>4</th>\n",
       "      <td>119ab8cf28c3c3ec953f075e1acaba7d</td>\n",
       "      <td>Mr Serge</td>\n",
       "      <td>07/09/2022</td>\n",
       "      <td>BBS-406</td>\n",
       "      <td>None</td>\n",
       "      <td>Yaounde</td>\n",
       "      <td>b087</td>\n",
       "      <td>science and technology class 4</td>\n",
       "      <td>1</td>\n",
       "      <td>1600</td>\n",
       "      <td>1600</td>\n",
       "      <td>produit</td>\n",
       "    </tr>\n",
       "  </tbody>\n",
       "</table>\n",
       "</div>"
      ],
      "text/plain": [
       "                        proforma_id    client        date numero_facture  \\\n",
       "0  119ab8cf28c3c3ec953f075e1acaba7d  Mr Serge  07/09/2022        BBS-406   \n",
       "1  119ab8cf28c3c3ec953f075e1acaba7d  Mr Serge  07/09/2022        BBS-406   \n",
       "2  119ab8cf28c3c3ec953f075e1acaba7d  Mr Serge  07/09/2022        BBS-406   \n",
       "3  119ab8cf28c3c3ec953f075e1acaba7d  Mr Serge  07/09/2022        BBS-406   \n",
       "4  119ab8cf28c3c3ec953f075e1acaba7d  Mr Serge  07/09/2022        BBS-406   \n",
       "\n",
       "  telephone   agence code_article  \\\n",
       "0      None  Yaounde         b083   \n",
       "1      None  Yaounde         b084   \n",
       "2      None  Yaounde         b085   \n",
       "3      None  Yaounde         b086   \n",
       "4      None  Yaounde         b087   \n",
       "\n",
       "                                         designation  quantite  prix_unitaire  \\\n",
       "0        english language : english language class 4         1           1800   \n",
       "1  literature class 4: benjamin is not a little boy!         1           1000   \n",
       "2           french language: french language class 4         1           1700   \n",
       "3                  mathematics : mathematics class 4         1           1800   \n",
       "4                     science and technology class 4         1           1600   \n",
       "\n",
       "   total_ligne type_ligne  \n",
       "0         1800    produit  \n",
       "1         1000    produit  \n",
       "2         1700    produit  \n",
       "3         1800    produit  \n",
       "4         1600    produit  "
      ]
     },
     "execution_count": 13,
     "metadata": {},
     "output_type": "execute_result"
    }
   ],
   "source": [
    "# 2.4 Nettoyage profond du DataFrame\n",
    "def nettoyage_profond_proformas(df):\n",
    "    df = df.copy()\n",
    "\n",
    "    for col in [\"client\", \"agence\", \"code_article\", \"designation\"]:\n",
    "        df[col] = df[col].astype(str).str.strip().str.lower()\n",
    "\n",
    "    parasites_client = [\"\", \"ville livraison\", \"nom\", \"code\", \"téléphone\", \"--\"]\n",
    "    parasites_agence = [\"\", \"code\", \"ville livraison\", \"nom\", \"--\"]\n",
    "    parasites_designation = [\"\", \"livraison\", \"code\", \"ville livraison\"]\n",
    "\n",
    "    df = df[~df[\"client\"].isin(parasites_client)]\n",
    "    df = df[~df[\"agence\"].isin(parasites_agence)]\n",
    "    df = df[~df[\"designation\"].isin(parasites_designation)]\n",
    "    df = df[df[\"code_article\"].str.match(r\"^[a-zA-Z]\\d{3,5}$\", na=False)]\n",
    "\n",
    "    # Final cleanup\n",
    "    df[\"client\"] = df[\"client\"].str.title()\n",
    "    df[\"agence\"] = df[\"agence\"].str.capitalize()\n",
    "    df[\"designation\"] = df[\"designation\"].str.strip()\n",
    "    return df\n",
    "\n",
    "df_extrait = nettoyage_profond_proformas(df_extrait)\n",
    "\n",
    "# 2.5 Conversion des montants et export\n",
    "df_extrait[\"prix_unitaire\"] = df_extrait[\"prix_unitaire\"].astype(int)\n",
    "df_extrait[\"total_ligne\"] = df_extrait[\"total_ligne\"].astype(int)\n",
    "df_extrait.to_csv(PROCESSED_DIR / \"proformas.csv\", index=False)\n",
    "df_extrait.head()"
   ]
  },
  {
   "cell_type": "markdown",
   "id": "133a4500",
   "metadata": {},
   "source": [
    "## **3. Génération de la table clients**"
   ]
  },
  {
   "cell_type": "markdown",
   "id": "695c56fc",
   "metadata": {},
   "source": [
    "L’objectif de cette section est de générer une base clients propre et exploitable à partir des données des proformas. Elle consiste à nettoyer les noms en supprimant les titres et valeurs parasites, à valider les numéros de téléphone au format camerounais (obligatoires), à attribuer une ville (ou None si absente), et à regrouper les informations par numéro unique pour éviter les doublons. Des alias sont conservés uniquement si un même numéro est associé à plusieurs noms distincts. Le résultat est exporté sous forme de fichier clients.csv, avec en complément une visualisation claire de la répartition des clients par ville, incluant les cas sans adresse."
   ]
  },
  {
   "cell_type": "code",
   "execution_count": 14,
   "id": "2a014b78",
   "metadata": {},
   "outputs": [],
   "source": [
    "# 3.1 Nettoyage du nom\n",
    "def nettoyer_nom_client(nom):\n",
    "    if not isinstance(nom, str):\n",
    "        return \"Client\"\n",
    "    nom = nom.lower().strip()\n",
    "\n",
    "    # Supprimer les titres et erreurs\n",
    "    parasites = [\"mme\", \"mr\", \"m.\", \"dr\", \"m r\", \"prof\", \"--\"]\n",
    "    for p in parasites:\n",
    "        nom = nom.replace(p, \"\")\n",
    "\n",
    "    # Nettoyage spécifique\n",
    "    if \"code article\" in nom or \"designation\" in nom:\n",
    "        return \"Client\"\n",
    "    if nom.startswith(\". \"):\n",
    "        nom = nom[2:]\n",
    "    nom = re.sub(r\"\\s+\", \" \", nom).strip()\n",
    "\n",
    "    return nom.title() if nom else \"Client\""
   ]
  },
  {
   "cell_type": "code",
   "execution_count": 15,
   "id": "70f28b0c",
   "metadata": {},
   "outputs": [],
   "source": [
    "# 3.2 Nettoyage du numéro\n",
    "def nettoyer_numero(numero):\n",
    "    if not isinstance(numero, str):\n",
    "        numero = str(numero)\n",
    "    numero = re.sub(r\"[^\\d]\", \"\", numero)\n",
    "    if len(numero) == 9 and numero.startswith(\"6\"):\n",
    "        return numero\n",
    "    elif len(numero) == 10 and numero.startswith(\"6\") and numero.endswith(\"0\"):\n",
    "        return numero[:9]\n",
    "    return None"
   ]
  },
  {
   "cell_type": "code",
   "execution_count": 16,
   "id": "06d996b0",
   "metadata": {},
   "outputs": [],
   "source": [
    "# 3.3 Normalisation des villes\n",
    "def normaliser_ville(ville):\n",
    "    if not isinstance(ville, str):\n",
    "        return \"(None)\"\n",
    "    v = ville.lower().strip()\n",
    "    if v in [\"yaounde\", \"yaoundé\", \"yde\"]:\n",
    "        return \"Yaoundé\"\n",
    "    elif v == \"douala\":\n",
    "        return \"Douala\"\n",
    "    elif v in [\"bertoua\", \"limbe\", \"ngaoundere\"]:\n",
    "        return v.capitalize()\n",
    "    else:\n",
    "        return v.capitalize() if v else \"(None)\""
   ]
  },
  {
   "cell_type": "code",
   "execution_count": 17,
   "id": "94689103",
   "metadata": {},
   "outputs": [],
   "source": [
    "# 3.4 Construction de la base clients\n",
    "def construire_base_clients(df):\n",
    "    df = df.copy()\n",
    "\n",
    "    df[\"nom\"] = df[\"client\"].apply(nettoyer_nom_client)\n",
    "    df[\"numero\"] = df[\"telephone\"].apply(nettoyer_numero)\n",
    "    df[\"ville\"] = df[\"agence\"].apply(normaliser_ville)\n",
    "\n",
    "    # Filtrer les clients sans numéro\n",
    "    df = df[df[\"numero\"].notna() & (df[\"numero\"] != \"\")]\n",
    "\n",
    "    # Regroupement\n",
    "    clients = df.groupby(\"numero\").agg(\n",
    "        nom=(\"nom\", lambda noms: noms.mode().iloc[0] if not noms.mode().empty else \"Client\"),\n",
    "        alias=(\"nom\", lambda noms: list(set(noms)) if len(set(noms)) > 1 else []),\n",
    "        nb_proformas=(\"proforma_id\", \"nunique\"),\n",
    "        ville=(\"ville\", lambda villes: villes.mode().iloc[0] if not villes.mode().empty else \"(None)\")\n",
    "    ).reset_index()\n",
    "\n",
    "    # Gestion des noms vides\n",
    "    clients[\"nom\"] = clients.apply(\n",
    "        lambda row: row[\"alias\"][0] if row[\"nom\"] in [\"\", None] and row[\"alias\"] else (row[\"nom\"] or \"(None)\"),\n",
    "        axis=1\n",
    "    )\n",
    "\n",
    "    # ID unique\n",
    "    clients[\"client_id\"] = [\"CLT\" + str(i).zfill(4) for i in range(1, len(clients) + 1)]\n",
    "\n",
    "    # Ordonner par nom\n",
    "    clients = clients.sort_values(by=\"nom\")\n",
    "    clients = clients[[\"client_id\", \"nom\", \"numero\", \"nb_proformas\", \"ville\", \"alias\"]]\n",
    "\n",
    "    return clients"
   ]
  },
  {
   "cell_type": "code",
   "execution_count": 18,
   "id": "fe809423",
   "metadata": {},
   "outputs": [],
   "source": [
    "# 3.5 Visualisation stylisée\n",
    "def afficher_repartition_clients_par_ville(df_clients):\n",
    "    repartition = df_clients[\"ville\"].value_counts().sort_values(ascending=False)\n",
    "\n",
    "    plt.figure(figsize=(12, 6))\n",
    "    bars = sns.barplot(x=repartition.index, y=repartition.values, palette=\"tab10\")\n",
    "\n",
    "    plt.title(\"Répartition des clients par ville\")\n",
    "    plt.xlabel(\"Ville\")\n",
    "    plt.ylabel(\"Nombre de clients\")\n",
    "\n",
    "    # Ajouter les valeurs au-dessus des barres\n",
    "    for i, bar in enumerate(bars.patches):\n",
    "        height = bar.get_height()\n",
    "        plt.text(bar.get_x() + bar.get_width()/2., height + 0.5,\n",
    "                 f\"{int(height)}\", ha='center', va='bottom', fontsize=9)\n",
    "\n",
    "    plt.xticks(rotation=45, ha='right')\n",
    "    plt.tight_layout()\n",
    "    plt.show()\n"
   ]
  },
  {
   "cell_type": "code",
   "execution_count": 19,
   "id": "db059ab7",
   "metadata": {},
   "outputs": [
    {
     "name": "stderr",
     "output_type": "stream",
     "text": [
      "/var/folders/1n/d3tj9kpd549_ytmqz2cjc6rc0000gn/T/ipykernel_39234/2112666341.py:6: FutureWarning: \n",
      "\n",
      "Passing `palette` without assigning `hue` is deprecated and will be removed in v0.14.0. Assign the `x` variable to `hue` and set `legend=False` for the same effect.\n",
      "\n",
      "  bars = sns.barplot(x=repartition.index, y=repartition.values, palette=\"tab10\")\n"
     ]
    },
    {
     "data": {
      "image/png": "[encoded data removed]",
      "text/plain": [
       "<Figure size 1200x600 with 1 Axes>"
      ]
     },
     "metadata": {},
     "output_type": "display_data"
    }
   ],
   "source": [
    "# 3.6 Appliquer, exporter, visualiser\n",
    "df_clients = construire_base_clients(df_extrait)\n",
    "df_clients.to_csv(PROCESSED_DIR / \"clients(v1).csv\", index=False)\n",
    "afficher_repartition_clients_par_ville(df_clients)"
   ]
  },
  {
   "cell_type": "code",
   "execution_count": 20,
   "id": "df07e2dd",
   "metadata": {},
   "outputs": [
    {
     "name": "stdout",
     "output_type": "stream",
     "text": [
      "Aperçu du début du fichier :\n"
     ]
    },
    {
     "data": {
      "text/html": [
       "<div>\n",
       "<style scoped>\n",
       "    .dataframe tbody tr th:only-of-type {\n",
       "        vertical-align: middle;\n",
       "    }\n",
       "\n",
       "    .dataframe tbody tr th {\n",
       "        vertical-align: top;\n",
       "    }\n",
       "\n",
       "    .dataframe thead th {\n",
       "        text-align: right;\n",
       "    }\n",
       "</style>\n",
       "<table border=\"1\" class=\"dataframe\">\n",
       "  <thead>\n",
       "    <tr style=\"text-align: right;\">\n",
       "      <th></th>\n",
       "      <th>client_id</th>\n",
       "      <th>nom</th>\n",
       "      <th>numero</th>\n",
       "      <th>nb_proformas</th>\n",
       "      <th>ville</th>\n",
       "      <th>alias</th>\n",
       "    </tr>\n",
       "  </thead>\n",
       "  <tbody>\n",
       "    <tr>\n",
       "      <th>0</th>\n",
       "      <td>CLT0080</td>\n",
       "      <td>Abeng Joséphine</td>\n",
       "      <td>697252757</td>\n",
       "      <td>5</td>\n",
       "      <td>Yaoundé</td>\n",
       "      <td>[]</td>\n",
       "    </tr>\n",
       "    <tr>\n",
       "      <th>1</th>\n",
       "      <td>CLT0030</td>\n",
       "      <td>Akete Oyono Gladys</td>\n",
       "      <td>677428218</td>\n",
       "      <td>7</td>\n",
       "      <td>Yaoundé</td>\n",
       "      <td>['Akete Oyono Gladys', 'Akete Oyono Gladis']</td>\n",
       "    </tr>\n",
       "    <tr>\n",
       "      <th>2</th>\n",
       "      <td>CLT0089</td>\n",
       "      <td>Akono Martin</td>\n",
       "      <td>698989615</td>\n",
       "      <td>1</td>\n",
       "      <td>Yaoundé</td>\n",
       "      <td>[]</td>\n",
       "    </tr>\n",
       "    <tr>\n",
       "      <th>3</th>\n",
       "      <td>CLT0087</td>\n",
       "      <td>Amandjou Carine</td>\n",
       "      <td>697786306</td>\n",
       "      <td>2</td>\n",
       "      <td>Yaoundé</td>\n",
       "      <td>['Carine Amandjou', 'Amandjou Carine']</td>\n",
       "    </tr>\n",
       "    <tr>\n",
       "      <th>4</th>\n",
       "      <td>CLT0033</td>\n",
       "      <td>Ambassa</td>\n",
       "      <td>677877688</td>\n",
       "      <td>3</td>\n",
       "      <td>Yaoundé</td>\n",
       "      <td>[]</td>\n",
       "    </tr>\n",
       "  </tbody>\n",
       "</table>\n",
       "</div>"
      ],
      "text/plain": [
       "  client_id                 nom     numero  nb_proformas    ville  \\\n",
       "0   CLT0080     Abeng Joséphine  697252757             5  Yaoundé   \n",
       "1   CLT0030  Akete Oyono Gladys  677428218             7  Yaoundé   \n",
       "2   CLT0089        Akono Martin  698989615             1  Yaoundé   \n",
       "3   CLT0087     Amandjou Carine  697786306             2  Yaoundé   \n",
       "4   CLT0033             Ambassa  677877688             3  Yaoundé   \n",
       "\n",
       "                                          alias  \n",
       "0                                            []  \n",
       "1  ['Akete Oyono Gladys', 'Akete Oyono Gladis']  \n",
       "2                                            []  \n",
       "3        ['Carine Amandjou', 'Amandjou Carine']  \n",
       "4                                            []  "
      ]
     },
     "metadata": {},
     "output_type": "display_data"
    }
   ],
   "source": [
    "# Charger le fichier clients.csv\n",
    "df_clients = pd.read_csv(PROCESSED_DIR / \"clients(v1).csv\")\n",
    "\n",
    "# Afficher les premières lignes\n",
    "print(\"Aperçu du début du fichier :\")\n",
    "display(df_clients.head())"
   ]
  },
  {
   "cell_type": "code",
   "execution_count": 21,
   "id": "2d9cc7ab",
   "metadata": {},
   "outputs": [
    {
     "name": "stdout",
     "output_type": "stream",
     "text": [
      "\n",
      "Aperçu de la fin du fichier :\n"
     ]
    },
    {
     "data": {
      "text/html": [
       "<div>\n",
       "<style scoped>\n",
       "    .dataframe tbody tr th:only-of-type {\n",
       "        vertical-align: middle;\n",
       "    }\n",
       "\n",
       "    .dataframe tbody tr th {\n",
       "        vertical-align: top;\n",
       "    }\n",
       "\n",
       "    .dataframe thead th {\n",
       "        text-align: right;\n",
       "    }\n",
       "</style>\n",
       "<table border=\"1\" class=\"dataframe\">\n",
       "  <thead>\n",
       "    <tr style=\"text-align: right;\">\n",
       "      <th></th>\n",
       "      <th>client_id</th>\n",
       "      <th>nom</th>\n",
       "      <th>numero</th>\n",
       "      <th>nb_proformas</th>\n",
       "      <th>ville</th>\n",
       "      <th>alias</th>\n",
       "    </tr>\n",
       "  </thead>\n",
       "  <tbody>\n",
       "    <tr>\n",
       "      <th>96</th>\n",
       "      <td>CLT0007</td>\n",
       "      <td>Thomas Nkoum</td>\n",
       "      <td>652441138</td>\n",
       "      <td>8</td>\n",
       "      <td>Yaoundé</td>\n",
       "      <td>['Thomas Nkoum', 'Nkoum Lewis']</td>\n",
       "    </tr>\n",
       "    <tr>\n",
       "      <th>97</th>\n",
       "      <td>CLT0001</td>\n",
       "      <td>Yannick Eda</td>\n",
       "      <td>620002652</td>\n",
       "      <td>2</td>\n",
       "      <td>Yaoundé</td>\n",
       "      <td>[]</td>\n",
       "    </tr>\n",
       "    <tr>\n",
       "      <th>98</th>\n",
       "      <td>CLT0041</td>\n",
       "      <td>Yannick Ngalamo</td>\n",
       "      <td>679487231</td>\n",
       "      <td>9</td>\n",
       "      <td>NaN</td>\n",
       "      <td>[]</td>\n",
       "    </tr>\n",
       "    <tr>\n",
       "      <th>99</th>\n",
       "      <td>CLT0082</td>\n",
       "      <td>Yves Atangana</td>\n",
       "      <td>697349074</td>\n",
       "      <td>3</td>\n",
       "      <td>Yaoundé</td>\n",
       "      <td>[]</td>\n",
       "    </tr>\n",
       "    <tr>\n",
       "      <th>100</th>\n",
       "      <td>CLT0020</td>\n",
       "      <td>Zacharie Hotamie</td>\n",
       "      <td>674867186</td>\n",
       "      <td>8</td>\n",
       "      <td>Ngaoundere</td>\n",
       "      <td>['Zacharie Hotamie', 'Hotami Zacharie']</td>\n",
       "    </tr>\n",
       "  </tbody>\n",
       "</table>\n",
       "</div>"
      ],
      "text/plain": [
       "    client_id               nom     numero  nb_proformas       ville  \\\n",
       "96    CLT0007      Thomas Nkoum  652441138             8     Yaoundé   \n",
       "97    CLT0001       Yannick Eda  620002652             2     Yaoundé   \n",
       "98    CLT0041   Yannick Ngalamo  679487231             9         NaN   \n",
       "99    CLT0082     Yves Atangana  697349074             3     Yaoundé   \n",
       "100   CLT0020  Zacharie Hotamie  674867186             8  Ngaoundere   \n",
       "\n",
       "                                       alias  \n",
       "96           ['Thomas Nkoum', 'Nkoum Lewis']  \n",
       "97                                        []  \n",
       "98                                        []  \n",
       "99                                        []  \n",
       "100  ['Zacharie Hotamie', 'Hotami Zacharie']  "
      ]
     },
     "metadata": {},
     "output_type": "display_data"
    }
   ],
   "source": [
    "# Afficher les dernières lignes\n",
    "print(\"\\nAperçu de la fin du fichier :\")\n",
    "display(df_clients.tail())"
   ]
  },
  {
   "cell_type": "markdown",
   "id": "4717c47c",
   "metadata": {},
   "source": [
    "## **4. Analyse des ventes de 2023**"
   ]
  },
  {
   "cell_type": "markdown",
   "id": "e329965e",
   "metadata": {},
   "source": [
    "Dans cette étape, on charge et consolide les ventes 2023 à partir de plusieurs fichiers CSV, en uniformisant les noms, numéros et adresses pour produire un ventes_2023.csv propre et exploitable pour les analyses."
   ]
  },
  {
   "cell_type": "markdown",
   "id": "243d301d",
   "metadata": {},
   "source": [
    "### **4.1- Fusion des ventes de 2023**"
   ]
  },
  {
   "cell_type": "code",
   "execution_count": 22,
   "id": "9dad3672",
   "metadata": {},
   "outputs": [
    {
     "name": "stdout",
     "output_type": "stream",
     "text": [
      "🔥 DÉMARRAGE - CONSOLIDATION VENTES 2023\n",
      "📂 Répertoire source: ../data/raw/Ventes_2023\n",
      "📂 Répertoire sortie: ../data/processed\n"
     ]
    }
   ],
   "source": [
    "VENTES_2023_DIR = BASE_DIR / \"data\" / \"raw\" / \"Ventes_2023\"\n",
    "PROCESSED_DIR = BASE_DIR / \"data\" / \"processed\"\n",
    "\n",
    "# Colonnes standardisées pour la fusion finale\n",
    "COLUMNS = [\"nom\", \"telephone\", \"commande\", \"montant\", \"adresse\", \"frais_livraison\", \"bon_fidelite\", \"ville\"]\n",
    "\n",
    "print(\"🔥 DÉMARRAGE - CONSOLIDATION VENTES 2023\")\n",
    "print(f\"📂 Répertoire source: {VENTES_2023_DIR}\")\n",
    "print(f\"📂 Répertoire sortie: {PROCESSED_DIR}\")\n"
   ]
  },
  {
   "cell_type": "code",
   "execution_count": 23,
   "id": "c7b4633a",
   "metadata": {},
   "outputs": [],
   "source": [
    "# Vérifier que le répertoire source existe\n",
    "if not VENTES_2023_DIR.exists():\n",
    "    print(f\"❌ ERREUR: Le répertoire {VENTES_2023_DIR} n'existe pas!\")\n",
    "\n",
    "# Fonctions utilitaires de nettoyage\n",
    "def clean_name(nom):\n",
    "    if pd.isna(nom) or str(nom).strip().lower() in [\"\", \"nan\", \"/\", \"--\"]:\n",
    "        return \"(None)\"\n",
    "    nom = re.sub(r\"(mme\\.?|mr\\.?|m\\.?|mlle\\.?)\", \"\", str(nom), flags=re.IGNORECASE)\n",
    "    nom = re.sub(r\"[^\\w\\s\\-àâäéèêëîïôöùûüÿñç]\", \"\", nom).strip().title()\n",
    "    return nom if nom else \"(None)\"\n",
    "\n",
    "def clean_phone(phone):\n",
    "    if pd.isna(phone) or str(phone).strip().lower() in [\"\", \"nan\", \"/\", \"--\"]:\n",
    "        return \"(None)\"\n",
    "    return str(phone).strip()\n",
    "\n",
    "def clean_money(val):\n",
    "    if pd.isna(val):\n",
    "        return \"0\"\n",
    "    val_str = re.sub(r\"[^\\d]\", \"\", str(val))\n",
    "    return val_str if val_str else \"0\"\n",
    "\n",
    "def clean_text_field(val):\n",
    "    if pd.isna(val) or str(val).strip().lower() in [\"\", \"nan\", \"/\", \"--\"]:\n",
    "        return \"(None)\"\n",
    "    return str(val).strip()\n",
    "\n",
    "def detect_ville_from_address(adresse_str, source_file):\n",
    "    adresse_lower = str(adresse_str).strip().lower()\n",
    "    source_lower = source_file.lower().replace('.csv', '')\n",
    "    if any(ville in adresse_lower for ville in [\"douala\", \"nanga\", \"tonga\"]):\n",
    "        for ville in [\"douala\", \"nanga\", \"tonga\"]:\n",
    "            if ville in adresse_lower:\n",
    "                return ville.title(), \"(None)\"\n",
    "    if source_lower == \"boutique\":\n",
    "        return \"Yaoundé\", \"Efoulan\"\n",
    "    elif source_lower in [\"associations\", \"partenaires\", \"livre seconde main\"]:\n",
    "        return \"Yaoundé\", adresse_str\n",
    "    return \"Yaoundé\", adresse_str"
   ]
  },
  {
   "cell_type": "code",
   "execution_count": 24,
   "id": "0f98df43",
   "metadata": {},
   "outputs": [
    {
     "name": "stdout",
     "output_type": "stream",
     "text": [
      "📋 Fichiers trouvés: ['Partenaires.csv', 'livre seconde main.csv', 'Associations.csv', 'Boutique.csv', 'BOPACE SARL.csv', 'Yaoundé.csv']\n",
      "\n"
     ]
    }
   ],
   "source": [
    "# Liste pour stocker tous les DataFrames\n",
    "all_ventes = []\n",
    "\n",
    "csv_files = list(VENTES_2023_DIR.glob(\"*.csv\"))\n",
    "\n",
    "if not csv_files:\n",
    "    print(f\"❌ ERREUR: Aucun fichier CSV trouvé dans {VENTES_2023_DIR}\")\n",
    "\n",
    "print(f\"📋 Fichiers trouvés: {[f.name for f in csv_files]}\\n\")"
   ]
  },
  {
   "cell_type": "code",
   "execution_count": 25,
   "id": "8efb3d45",
   "metadata": {},
   "outputs": [
    {
     "name": "stdout",
     "output_type": "stream",
     "text": [
      "Traitement: Partenaires.csv\n",
      "   Lignes lues: 5\n",
      "   Colonnes: ['N°', 'NOM', 'TELEPHONE', 'COMMANDE/CLASSE', 'SOMME PERCUE', 'LIEU DE LIVRAISON', 'FRAIS DE LIVRAISON']\n",
      "   ✅ Succès: 5 lignes standardisées\n",
      "   Villes détectées: {'Douala': np.int64(4), 'Yaoundé': np.int64(1)}\n",
      "\n",
      "Traitement: livre seconde main.csv\n",
      "   Lignes lues: 10\n",
      "   Colonnes: ['NOM', 'TELEPHONE', 'COMMANDE/CLASSE', 'SOMME PERCUE', 'LIEU DE LIVRAISON', 'FRAIS DE LIVRAISON']\n",
      "   ✅ Succès: 10 lignes standardisées\n",
      "   Villes détectées: {'Yaoundé': np.int64(10)}\n",
      "\n",
      "Traitement: Associations.csv\n",
      "   Lignes lues: 2\n",
      "   Colonnes: ['NOM', 'TELEPHONE', 'COMMANDE/CLASSE', 'SOMME PERCUE', 'LIEU DE LIVRAISON', 'FRAIS DE LIVRAISON']\n",
      "   ✅ Succès: 2 lignes standardisées\n",
      "   Villes détectées: {'Nanga': np.int64(1), 'Tonga': np.int64(1)}\n",
      "\n",
      "Traitement: Boutique.csv\n",
      "   Lignes lues: 75\n",
      "   Colonnes: ['NOM', 'TELEPHONE', 'COMMANDE/CLASSE', 'SOMME PERCUE', 'LIEU DE LIVRAISON', 'FRAIS DE LIVRAISON']\n",
      "   ✅ Succès: 75 lignes standardisées\n",
      "   Villes détectées: {'Yaoundé': np.int64(75)}\n",
      "\n",
      "Traitement: BOPACE SARL.csv\n",
      "   Lignes lues: 2\n",
      "   Colonnes: ['NET A PAYER', '435\\u202f340']\n",
      "   ❌ Erreur avec BOPACE SARL.csv: 'str' object has no attribute 'apply'\n",
      "Traitement: Yaoundé.csv\n",
      "   Lignes lues: 215\n",
      "   Colonnes: ['NOM', 'TELEPHONE', 'COMMANDE/CLASSE', 'SOMME PERCUE', 'LIEU DE LIVRAISON', 'FRAIS DE LIVRAISON', 'BON DE FIDELITE']\n",
      "   ✅ Succès: 215 lignes standardisées\n",
      "   Villes détectées: {'Yaoundé': np.int64(215)}\n",
      "\n",
      "- FUSION FINALE\n",
      "- Fichiers traités avec succès: 5\n",
      "\n"
     ]
    }
   ],
   "source": [
    "for path in csv_files:\n",
    "    try:\n",
    "        print(f\"Traitement: {path.name}\")\n",
    "        df = pd.read_csv(path, sep=None, engine=\"python\", encoding='utf-8')\n",
    "        if df.empty:\n",
    "            print(f\"⚠️  Fichier vide: {path.name}\")\n",
    "            continue\n",
    "\n",
    "        print(f\"   Lignes lues: {len(df)}\")\n",
    "        print(f\"   Colonnes: {list(df.columns)}\")\n",
    "\n",
    "        df.columns = [col.strip().lower() for col in df.columns]\n",
    "        df_std = pd.DataFrame()\n",
    "\n",
    "        if \"nom\" in df.columns:\n",
    "            df_std[\"nom\"] = df[\"nom\"].apply(clean_name)\n",
    "        else:\n",
    "            df_std[\"nom\"] = \"(None)\"\n",
    "\n",
    "        if \"telephone\" in df.columns:\n",
    "            df_std[\"telephone\"] = df[\"telephone\"].apply(clean_phone)\n",
    "        else:\n",
    "            df_std[\"telephone\"] = \"(None)\"\n",
    "\n",
    "        if \"commande/classe\" in df.columns:\n",
    "            df_std[\"commande\"] = df[\"commande/classe\"].apply(clean_text_field)\n",
    "        else:\n",
    "            df_std[\"commande\"] = \"(None)\"\n",
    "\n",
    "        if \"somme percue\" in df.columns:\n",
    "            df_std[\"montant\"] = df[\"somme percue\"].apply(clean_money)\n",
    "        else:\n",
    "            df_std[\"montant\"] = \"0\"\n",
    "\n",
    "        if \"lieu de livraison\" in df.columns:\n",
    "            adresse_brute = df[\"lieu de livraison\"].apply(clean_text_field)\n",
    "        else:\n",
    "            adresse_brute = \"(None)\"\n",
    "\n",
    "        if \"frais de livraison\" in df.columns:\n",
    "            df_std[\"frais_livraison\"] = df[\"frais de livraison\"].apply(clean_money)\n",
    "        else:\n",
    "            df_std[\"frais_livraison\"] = \"0\"\n",
    "\n",
    "        if \"bon de fidelite\" in df.columns:\n",
    "            df_std[\"bon_fidelite\"] = df[\"bon de fidelite\"].apply(clean_money)\n",
    "        else:\n",
    "            df_std[\"bon_fidelite\"] = \"0\"\n",
    "\n",
    "        ville_adresse = adresse_brute.apply(lambda x: detect_ville_from_address(x, path.name))\n",
    "        df_std[\"ville\"] = ville_adresse.apply(lambda x: x[0])\n",
    "        df_std[\"adresse\"] = ville_adresse.apply(lambda x: x[1])\n",
    "        df_std[\"ville\"] = df_std[\"ville\"].replace(\"(None)\", \"Yaoundé\")\n",
    "\n",
    "        for col in COLUMNS:\n",
    "            if col not in df_std.columns:\n",
    "                df_std[col] = \"(None)\" if col not in [\"montant\", \"frais_livraison\", \"bon_fidelite\"] else \"0\"\n",
    "\n",
    "        df_final = df_std[COLUMNS].copy()\n",
    "        all_ventes.append(df_final)\n",
    "        print(f\"   ✅ Succès: {len(df_final)} lignes standardisées\")\n",
    "        villes_detectees = df_final[\"ville\"].value_counts()\n",
    "        print(f\"   Villes détectées: {dict(villes_detectees)}\\n\")\n",
    "\n",
    "    except Exception as e:\n",
    "        print(f\"   ❌ Erreur avec {path.name}: {str(e)}\")\n",
    "\n",
    "print(f\"- FUSION FINALE\")\n",
    "print(f\"- Fichiers traités avec succès: {len(all_ventes)}\\n\")"
   ]
  },
  {
   "cell_type": "code",
   "execution_count": 26,
   "id": "de0640d2",
   "metadata": {},
   "outputs": [
    {
     "name": "stdout",
     "output_type": "stream",
     "text": [
      "- RÉSUMÉ FINAL:\n",
      "   • Total lignes: 307\n",
      "   • Colonnes: ['nom', 'telephone', 'commande', 'montant', 'adresse', 'frais_livraison', 'bon_fidelite', 'ville']\n",
      "   • Villes uniques: ['Douala', 'Nanga', 'Tonga', 'Yaoundé']\n"
     ]
    }
   ],
   "source": [
    "ventes_2023 = pd.concat(all_ventes, ignore_index=True)\n",
    "ventes_2023[\"ville\"] = ventes_2023[\"ville\"].replace(\"(None)\", \"Yaoundé\")\n",
    "\n",
    "print(f\"- RÉSUMÉ FINAL:\")\n",
    "print(f\"   • Total lignes: {len(ventes_2023)}\")\n",
    "print(f\"   • Colonnes: {list(ventes_2023.columns)}\")\n",
    "print(f\"   • Villes uniques: {sorted(ventes_2023['ville'].unique())}\")"
   ]
  },
  {
   "cell_type": "code",
   "execution_count": 27,
   "id": "a865faad",
   "metadata": {},
   "outputs": [
    {
     "name": "stdout",
     "output_type": "stream",
     "text": [
      "   • Villes avec valeur '(None)': 0 \n"
     ]
    }
   ],
   "source": [
    "none_count = (ventes_2023[\"ville\"] == \"(None)\").sum()\n",
    "print(f\"   • Villes avec valeur '(None)': {none_count} \")"
   ]
  },
  {
   "cell_type": "code",
   "execution_count": 28,
   "id": "43bedebe",
   "metadata": {},
   "outputs": [
    {
     "name": "stdout",
     "output_type": "stream",
     "text": [
      "\n",
      "- RÉPARTITION PAR VILLE:\n",
      "   • Yaoundé: 301 ventes\n",
      "   • Douala: 4 ventes\n",
      "   • Nanga: 1 ventes\n",
      "   • Tonga: 1 ventes\n"
     ]
    }
   ],
   "source": [
    "print(f\"\\n- RÉPARTITION PAR VILLE:\")\n",
    "ville_counts = ventes_2023[\"ville\"].value_counts()\n",
    "for ville, count in ville_counts.items():\n",
    "    print(f\"   • {ville}: {count} ventes\")"
   ]
  },
  {
   "cell_type": "code",
   "execution_count": 29,
   "id": "453491cf",
   "metadata": {},
   "outputs": [
    {
     "name": "stdout",
     "output_type": "stream",
     "text": [
      "                nom           telephone              commande montant adresse frais_livraison bon_fidelite   ville\n",
      "Socarrea Ettraba Sa 679538330/675270413                (None)  547330  (None)               0            0  Douala\n",
      "             Adforc           656929292                (None)  394250  (None)               0            0  Douala\n",
      "             Adforc           656929292                (None)  576000  (None)               0            0  Douala\n",
      "              Upoca              (None) Livres et fournitures 1059852  (None)               0            0  Douala\n",
      "          The Seeds              (None)      Livres africains  293000 Yaoundé               0            0 Yaoundé\n"
     ]
    }
   ],
   "source": [
    "print(ventes_2023.head().to_string(index=False)) # en tête du dataframe"
   ]
  },
  {
   "cell_type": "code",
   "execution_count": 30,
   "id": "12eed1a1",
   "metadata": {},
   "outputs": [
    {
     "name": "stdout",
     "output_type": "stream",
     "text": [
      "           nom telephone   commande montant          adresse frais_livraison bon_fidelite   ville\n",
      "        Ndongo    (None) Uppersixth    5000          Efoualn               0            0 Yaoundé\n",
      " Olive Issekin 674281111        CM1    4500 Montée des sœurs               0            0 Yaoundé\n",
      "     Yvan Ngue 654274610     Form 4    4000          Efoulan               0            0 Yaoundé\n",
      "Ebanda Vincent 656141983         CP    6500          Efoulan               0            0 Yaoundé\n",
      "          Babi 694433700     Form 3   20000          Efoulan               0            0 Yaoundé\n"
     ]
    }
   ],
   "source": [
    "print(ventes_2023.tail().to_string(index=False))  # pied du dataframe"
   ]
  },
  {
   "cell_type": "code",
   "execution_count": 31,
   "id": "e2776f54",
   "metadata": {},
   "outputs": [
    {
     "name": "stdout",
     "output_type": "stream",
     "text": [
      "\n",
      "✅ SUCCÈS: Fichier sauvegardé → ../data/processed/ventes_2023.csv\n"
     ]
    }
   ],
   "source": [
    "output_path = PROCESSED_DIR / \"ventes_2023.csv\"\n",
    "ventes_2023.to_csv(output_path, index=False, encoding='utf-8')\n",
    "print(f\"\\n✅ SUCCÈS: Fichier sauvegardé → {output_path}\")"
   ]
  },
  {
   "cell_type": "code",
   "execution_count": 32,
   "id": "5f9b675b",
   "metadata": {},
   "outputs": [
    {
     "name": "stdout",
     "output_type": "stream",
     "text": [
      "\n",
      "VÉRIFICATION DU FICHIER FINAL:\n",
      "   • Lignes dans le fichier: 307\n",
      "   • Villes présentes: ['Douala', 'Nanga', 'Tonga', 'Yaoundé']\n",
      "   • Villes avec '(None)' dans le fichier final: 0\n"
     ]
    }
   ],
   "source": [
    "print(f\"\\nVÉRIFICATION DU FICHIER FINAL:\")\n",
    "df_check = pd.read_csv(output_path)\n",
    "print(f\"   • Lignes dans le fichier: {len(df_check)}\")\n",
    "print(f\"   • Villes présentes: {sorted(df_check['ville'].unique())}\")\n",
    "\n",
    "none_final = (df_check[\"ville\"] == \"(None)\").sum()\n",
    "print(f\"   • Villes avec '(None)' dans le fichier final: {none_final}\")"
   ]
  },
  {
   "cell_type": "markdown",
   "id": "39c4e955",
   "metadata": {},
   "source": [
    "### **4.2 - Construction de la base clients (clients_2023.csv)**"
   ]
  },
  {
   "cell_type": "code",
   "execution_count": 33,
   "id": "a1c6b7b4",
   "metadata": {},
   "outputs": [
    {
     "name": "stdout",
     "output_type": "stream",
     "text": [
      "Chargement du fichier ventes_2023.csv...\n",
      "✅ 307 lignes chargées\n"
     ]
    }
   ],
   "source": [
    "VENTES_2023_PATH = PROCESSED_DIR / \"ventes_2023.csv\"\n",
    "CLIENTS_2023_PATH = PROCESSED_DIR / \"clients_2023.csv\"\n",
    "\n",
    "print(\"Chargement du fichier ventes_2023.csv...\")\n",
    "ventes_df = pd.read_csv(VENTES_2023_PATH)\n",
    "print(f\"✅ {len(ventes_df)} lignes chargées\")"
   ]
  },
  {
   "cell_type": "code",
   "execution_count": 34,
   "id": "0e36b835",
   "metadata": {},
   "outputs": [],
   "source": [
    "# Extraire les téléphones secondaires (séparateurs / ou -)\n",
    "def split_telephones(telephone):\n",
    "    if pd.isna(telephone):\n",
    "        return telephone, None\n",
    "    parts = re.split(r\"[\\-/]\", str(telephone))\n",
    "    parts = [p.strip() for p in parts if p.strip() and p.strip().lower() != \"none\"]\n",
    "    if len(parts) == 1:\n",
    "        return parts[0], None\n",
    "    return parts[0], parts[1]\n",
    "ventes_df[[\"telephone_principal\", \"telephone_secondaire\"]] = ventes_df.apply(\n",
    "    lambda row: pd.Series(split_telephones(row[\"telephone\"])), axis=1\n",
    ")"
   ]
  },
  {
   "cell_type": "code",
   "execution_count": 35,
   "id": "bf69fe9d",
   "metadata": {},
   "outputs": [],
   "source": [
    "# Filtrer les lignes avec un numéro valide\n",
    "ventes_df = ventes_df[ventes_df[\"telephone_principal\"].notna() & (ventes_df[\"telephone_principal\"] != \"(None)\")]"
   ]
  },
  {
   "cell_type": "code",
   "execution_count": 36,
   "id": "059fdabe",
   "metadata": {},
   "outputs": [
    {
     "name": "stdout",
     "output_type": "stream",
     "text": [
      "👥 Construction de la base clients...\n"
     ]
    }
   ],
   "source": [
    "# Grouper les clients par téléphone principal\n",
    "print(\"👥 Construction de la base clients...\")\n",
    "clients_df = ventes_df.groupby(\"telephone_principal\").agg({\n",
    "    \"nom\": lambda x: sorted(set(x)),\n",
    "    \"telephone_secondaire\": lambda x: next((v for v in x if pd.notna(v)), None),\n",
    "    \"commande\": lambda x: \", \".join(sorted(set(x.dropna()))),\n",
    "    \"adresse\": lambda x: next((v for v in x if pd.notna(v) and v != \"(None)\"), \"(None)\"),\n",
    "    \"ville\": lambda x: next((v for v in x if pd.notna(v) and v != \"(None)\"), \"(None)\"),\n",
    "    \"telephone_principal\": \"count\"\n",
    "}).rename(columns={\n",
    "    \"nom\": \"alias\",\n",
    "    \"telephone_secondaire\": \"telephone_secondaire\",\n",
    "    \"commande\": \"commande\",\n",
    "    \"adresse\": \"adresse\",\n",
    "    \"ville\": \"ville\",\n",
    "    \"telephone_principal\": \"nb_commandes\"\n",
    "}).reset_index().rename(columns={\"telephone_principal\": \"telephone\"})"
   ]
  },
  {
   "cell_type": "code",
   "execution_count": 37,
   "id": "302702d5",
   "metadata": {},
   "outputs": [],
   "source": [
    "# Créer la colonne nom principal (premier alias trié hors nom principal)\n",
    "clients_df[\"nom\"] = clients_df[\"alias\"].apply(lambda x: x[0] if isinstance(x, list) and x else \"\")\n",
    "clients_df[\"alias\"] = clients_df.apply(lambda row: \", \".join([a for a in row[\"alias\"] if a != row[\"nom\"]]), axis=1)\n",
    "\n",
    "# Réorganiser et trier les colonnes avec alias inclus\n",
    "clients_df = clients_df[[\"nom\", \"alias\", \"telephone\", \"telephone_secondaire\", \"commande\", \"adresse\", \"ville\", \"nb_commandes\"]]\n",
    "clients_df = clients_df.sort_values(\"nom\")"
   ]
  },
  {
   "cell_type": "code",
   "execution_count": 38,
   "id": "74612c46",
   "metadata": {},
   "outputs": [
    {
     "name": "stdout",
     "output_type": "stream",
     "text": [
      "180 clients extraits\n",
      "ÉCHANTILLON :\n",
      "       nom alias telephone telephone_secondaire         commande         adresse   ville  nb_commandes\n",
      "    Abassa       698068565                 None     6ème, Form 2 Carrefour Warda Yaoundé             1\n",
      "  Abessolo       652338356                 None Maternelle 1 & 2        Mimboman Yaoundé             2\n",
      "    Abongo       653661379                 None          Class 4         Efoulan Yaoundé             1\n",
      "Addja Inna       699970603                 None              CEI      Biyem-assi Yaoundé             1\n",
      "    Adforc       656929292                 None           (None)          (None)  Douala             2\n"
     ]
    }
   ],
   "source": [
    "print(f\"{len(clients_df)} clients extraits\")\n",
    "print(\"ÉCHANTILLON :\")\n",
    "print(clients_df.head().to_string(index=False))"
   ]
  },
  {
   "cell_type": "code",
   "execution_count": 39,
   "id": "c8bd47df",
   "metadata": {},
   "outputs": [
    {
     "name": "stdout",
     "output_type": "stream",
     "text": [
      "📁 Fichier sauvegardé → ../data/processed/clients_2023.csv\n"
     ]
    }
   ],
   "source": [
    "# Sauvegarde du fichier\n",
    "clients_df.to_csv(CLIENTS_2023_PATH, index=False, encoding='utf-8')\n",
    "print(f\"📁 Fichier sauvegardé → {CLIENTS_2023_PATH}\")"
   ]
  },
  {
   "cell_type": "markdown",
   "id": "f8cc3e6b",
   "metadata": {},
   "source": [
    "### **4.3 - Analyse des performances commerciales 2023**"
   ]
  },
  {
   "cell_type": "markdown",
   "id": "5ffaeece",
   "metadata": {},
   "source": [
    "Le chiffre d’affaires est la somme des ventes réalisées par une entreprise sur une période donnée. Il s’agit du montant total encaissé ou facturé, hors remises et hors taxes, pour les biens ou services vendus."
   ]
  },
  {
   "cell_type": "code",
   "execution_count": 40,
   "id": "441d3221",
   "metadata": {},
   "outputs": [
    {
     "name": "stdout",
     "output_type": "stream",
     "text": [
      "\n",
      "💰 Chiffre d'affaires total 2023 : 16,206,302 FCFA\n"
     ]
    }
   ],
   "source": [
    "# Nettoyage des colonnes nécessaires au calcul\n",
    "ventes_df[\"montant\"] = pd.to_numeric(ventes_df[\"montant\"], errors=\"coerce\").fillna(0).astype(int)\n",
    "ventes_df[\"frais_livraison\"] = pd.to_numeric(ventes_df[\"frais_livraison\"], errors=\"coerce\").fillna(0).astype(int)\n",
    "\n",
    "# Calcul du chiffre d'affaires total\n",
    "ventes_df[\"chiffre_affaire\"] = ventes_df[\"montant\"] + ventes_df[\"frais_livraison\"]\n",
    "ca_total = ventes_df[\"chiffre_affaire\"].sum()\n",
    "print(f\"\\n💰 Chiffre d'affaires total 2023 : {ca_total:,.0f} FCFA\")"
   ]
  },
  {
   "cell_type": "code",
   "execution_count": 41,
   "id": "670739ae",
   "metadata": {},
   "outputs": [
    {
     "name": "stderr",
     "output_type": "stream",
     "text": [
      "/var/folders/1n/d3tj9kpd549_ytmqz2cjc6rc0000gn/T/ipykernel_39234/3511896456.py:4: FutureWarning: \n",
      "\n",
      "Passing `palette` without assigning `hue` is deprecated and will be removed in v0.14.0. Assign the `x` variable to `hue` and set `legend=False` for the same effect.\n",
      "\n",
      "  ax = sns.barplot(x=top_clients.index, y=top_clients.values, palette=\"viridis\")\n"
     ]
    },
    {
     "data": {
      "image/png": "[encoded data removed]",
      "text/plain": [
       "<Figure size 2000x1000 with 1 Axes>"
      ]
     },
     "metadata": {},
     "output_type": "display_data"
    }
   ],
   "source": [
    "# Graphique 1 - Top 5 clients (nom sur l’axe x)\n",
    "top_clients = ventes_df.groupby(\"nom\")[\"chiffre_affaire\"].sum().sort_values(ascending=False).head(10)\n",
    "plt.figure(figsize=(20, 10))\n",
    "ax = sns.barplot(x=top_clients.index, y=top_clients.values, palette=\"viridis\")\n",
    "plt.title(\"Top 10 Clients par Chiffre d'Affaires\")\n",
    "plt.xlabel(\"Client\")\n",
    "plt.ylabel(\"Chiffre d'Affaires (FCFA)\")\n",
    "\n",
    "# Afficher les valeurs au-dessus des barres\n",
    "for i, value in enumerate(top_clients.values):\n",
    "    ax.text(i, value + 10000, f\"{value:,.0f}\", ha='center', va='bottom', fontsize=10, weight='bold')\n",
    "\n",
    "plt.xticks(rotation=45, ha='right')\n",
    "plt.tight_layout()\n",
    "plt.show()"
   ]
  },
  {
   "cell_type": "code",
   "execution_count": 42,
   "id": "58daff69",
   "metadata": {},
   "outputs": [
    {
     "name": "stderr",
     "output_type": "stream",
     "text": [
      "/var/folders/1n/d3tj9kpd549_ytmqz2cjc6rc0000gn/T/ipykernel_39234/35618397.py:4: FutureWarning: \n",
      "\n",
      "Passing `palette` without assigning `hue` is deprecated and will be removed in v0.14.0. Assign the `x` variable to `hue` and set `legend=False` for the same effect.\n",
      "\n",
      "  ax2 = sns.barplot(x=ca_par_ville.index, y=ca_par_ville.values, palette=\"colorblind\")\n"
     ]
    },
    {
     "data": {
      "image/png": "[encoded data removed]",
      "text/plain": [
       "<Figure size 1000x600 with 1 Axes>"
      ]
     },
     "metadata": {},
     "output_type": "display_data"
    }
   ],
   "source": [
    "# Graphique 2 - Répartition des ventes par ville\n",
    "ca_par_ville = ventes_df.groupby(\"ville\")[\"chiffre_affaire\"].sum().sort_values(ascending=False)\n",
    "plt.figure(figsize=(10, 6))\n",
    "ax2 = sns.barplot(x=ca_par_ville.index, y=ca_par_ville.values, palette=\"colorblind\")\n",
    "plt.title(\"Répartition du Chiffre d'Affaires par Ville\")\n",
    "plt.xlabel(\"Ville\")\n",
    "plt.ylabel(\"Chiffre d'Affaires (FCFA)\")\n",
    "\n",
    "# Valeurs au-dessus des barres\n",
    "for i, value in enumerate(ca_par_ville.values):\n",
    "    ax2.text(i, value + 10000, f\"{value:,.0f}\", ha='center', va='bottom', fontsize=10, weight='bold')\n",
    "\n",
    "plt.xticks(rotation=45)\n",
    "plt.tight_layout()\n",
    "plt.show()\n"
   ]
  },
  {
   "cell_type": "markdown",
   "id": "2cd5789e",
   "metadata": {},
   "source": [
    "## **5. Analyse des ventes de 2024**"
   ]
  },
  {
   "cell_type": "markdown",
   "id": "9dad6f68",
   "metadata": {},
   "source": [
    "Dans cette étape, on charge et consolide les ventes 2024 à partir de plusieurs fichiers CSV, en uniformisant les noms, numéros et adresses pour produire un ventes_2024.csv propre et exploitable pour les analyses."
   ]
  },
  {
   "cell_type": "markdown",
   "id": "27814cde",
   "metadata": {},
   "source": [
    "### **5.1- Fusion des ventes de 2024**"
   ]
  },
  {
   "cell_type": "code",
   "execution_count": 43,
   "id": "c8552660",
   "metadata": {},
   "outputs": [
    {
     "name": "stdout",
     "output_type": "stream",
     "text": [
      "🔥 DÉMARRAGE - CONSOLIDATION VENTES 2024 (VERSION CORRIGÉE)\n",
      "📂 Répertoire source: ../data/raw/Ventes_2024\n",
      "📂 Répertoire sortie: ../data/processed\n"
     ]
    }
   ],
   "source": [
    "VENTES_2024_DIR = BASE_DIR / \"data\" / \"raw\" / \"Ventes_2024\"\n",
    "PROCESSED_DIR = BASE_DIR / \"data\" / \"processed\"\n",
    "\n",
    "# Colonnes standardisées pour la fusion finale\n",
    "COLUMNS = [\"nom\", \"telephone\", \"commande\", \"montant\", \"adresse\", \"frais_livraison\", \"bon_fidelite\", \"ville\"]\n",
    "\n",
    "print(\"🔥 DÉMARRAGE - CONSOLIDATION VENTES 2024 (VERSION CORRIGÉE)\")\n",
    "print(f\"📂 Répertoire source: {VENTES_2024_DIR}\")\n",
    "print(f\"📂 Répertoire sortie: {PROCESSED_DIR}\")\n",
    "\n",
    "# Vérifier que le répertoire source existe\n",
    "if not VENTES_2024_DIR.exists():\n",
    "    print(f\"❌ ERREUR: Le répertoire {VENTES_2024_DIR} n'existe pas!\")\n",
    "    exit(1)"
   ]
  },
  {
   "cell_type": "code",
   "execution_count": 44,
   "id": "44152eb7",
   "metadata": {},
   "outputs": [],
   "source": [
    "# Mapping des filiales vers leurs villes\n",
    "FILIALES_VILLES = {\n",
    "    \"adforce\": \"Yaoundé\", \n",
    "    \"association alhonas\": \"Yaoundé\",\n",
    "    \"association famille keghie\": \"Yaoundé\", \n",
    "    \"bopace sarl\": \"Yaoundé\",\n",
    "    \"mutuelle feicom\": \"Yaoundé\",\n",
    "    \"petit ecolier\": \"Yaoundé\",\n",
    "    \"soneco sarl\": \"Yaoundé\",\n",
    "    \"soccarema\": \"Douala\",\n",
    "    \"prestataire eneo douala\": \"Douala\",\n",
    "    \"yaoundé\": \"Yaoundé\",\n",
    "    \"douala\": \"Douala\"\n",
    "}\n",
    "\n",
    "# Montants réels des filiales (extraits des fichiers)\n",
    "MONTANTS_FILIALES = {\n",
    "    \"adforce\": \"1269975\",  # ADFORCE : ASSOCIATION DES FEMMES D'ORANGE CAMEROUN\n",
    "    \"association alhonas\": \"3602310\",\n",
    "    \"association famille keghie\": \"419100\", \n",
    "    \"bopace sarl\": \"435340\",\n",
    "    \"mutuelle feicom\": \"4797450\",\n",
    "    \"petit ecolier\": \"2498850\",\n",
    "    \"soneco sarl\": \"640000\",\n",
    "    \"soccarema\": \"262105\",\n",
    "    \"prestataire eneo douala\": \"3320950\"\n",
    "}"
   ]
  },
  {
   "cell_type": "code",
   "execution_count": 45,
   "id": "d46d917b",
   "metadata": {},
   "outputs": [],
   "source": [
    "# Fonctions utilitaires de nettoyage\n",
    "def clean_name(nom):\n",
    "    \"\"\"Nettoie et standardise les noms de clients\"\"\"\n",
    "    if pd.isna(nom) or str(nom).strip().lower() in [\"\", \"nan\", \"/\", \"--\"]:\n",
    "        return \"(None)\"\n",
    "    \n",
    "    # Supprimer les titres civiques\n",
    "    nom = re.sub(r\"(mme\\.?|mr\\.?|m\\.?|mlle\\.?)\", \"\", str(nom), flags=re.IGNORECASE)\n",
    "    \n",
    "    # Garder seulement les caractères alphanumériques, espaces, tirets et accents français\n",
    "    nom = re.sub(r\"[^\\w\\s\\-àâäéèêëîïôöùûüÿñç]\", \"\", nom).strip().title()\n",
    "    \n",
    "    return nom if nom else \"(None)\"\n",
    "\n",
    "def clean_phone(phone):\n",
    "    \"\"\"Nettoie les numéros de téléphone\"\"\"\n",
    "    if pd.isna(phone) or str(phone).strip().lower() in [\"\", \"nan\", \"/\", \"--\"]:\n",
    "        return \"(None)\"\n",
    "    return str(phone).strip()\n",
    "\n",
    "def extract_amount(val):\n",
    "    \"\"\"Extrait le montant numérique d'une chaîne (ex: '1 269 975 FCFA' -> '1269975')\"\"\"\n",
    "    if pd.isna(val):\n",
    "        return \"0\"\n",
    "    \n",
    "    # Convertir en string et extraire tous les chiffres\n",
    "    val_str = str(val)\n",
    "    \n",
    "    # Supprimer tout ce qui n'est pas un chiffre\n",
    "    numbers_only = re.sub(r'[^\\d]', '', val_str)\n",
    "    \n",
    "    return numbers_only if numbers_only else \"0\"\n",
    "\n",
    "def clean_text_field(val):\n",
    "    \"\"\"Nettoie les champs texte génériques\"\"\"\n",
    "    if pd.isna(val) or str(val).strip().lower() in [\"\", \"nan\", \"/\", \"--\"]:\n",
    "        return \"(None)\"\n",
    "    return str(val).strip()\n",
    "\n",
    "def detect_ville_from_source(source_file):\n",
    "    \"\"\"Détermine la ville en fonction du nom du fichier source\"\"\"\n",
    "    source_clean = source_file.lower().replace('.csv', '')\n",
    "    \n",
    "    # Recherche directe dans le mapping\n",
    "    for key, ville in FILIALES_VILLES.items():\n",
    "        if key in source_clean:\n",
    "            return ville\n",
    "    \n",
    "    # Par défaut Yaoundé si non trouvé\n",
    "    return \"Yaoundé\"\n",
    "\n",
    "def get_filiale_key(filename):\n",
    "    \"\"\"Extrait la clé de filiale du nom de fichier\"\"\"\n",
    "    filename_clean = filename.lower().replace('.csv', '')\n",
    "    \n",
    "    # Recherche de correspondance dans les clés\n",
    "    for key in MONTANTS_FILIALES.keys():\n",
    "        if key in filename_clean:\n",
    "            return key\n",
    "    \n",
    "    return None\n",
    "\n",
    "def process_individual_file(path):\n",
    "    \"\"\"Traite un fichier CSV individuel\"\"\"\n",
    "    print(f\"📄 Traitement: {path.name}\")\n",
    "    \n",
    "    try:\n",
    "        # Lecture du fichier avec différents séparateurs possibles\n",
    "        df = pd.read_csv(path, sep=None, engine=\"python\", encoding='utf-8')\n",
    "        \n",
    "        if df.empty:\n",
    "            print(f\"⚠️  Fichier vide: {path.name}\")\n",
    "            return None\n",
    "            \n",
    "        print(f\"   📊 Lignes lues: {len(df)}\")\n",
    "        print(f\"   📋 Colonnes: {list(df.columns)}\")\n",
    "        \n",
    "        # Standardisation des noms de colonnes\n",
    "        df.columns = [col.strip().lower() for col in df.columns]\n",
    "        \n",
    "        # Détection de la ville basée sur le nom du fichier\n",
    "        ville_source = detect_ville_from_source(path.name)\n",
    "        print(f\"   🏙️  Ville détectée: {ville_source}\")\n",
    "        \n",
    "        # Traitement spécifique selon le type de fichier\n",
    "        if any(col in df.columns for col in [\"client\", \"nom\"]):\n",
    "            # Fichiers avec données clients détaillées (Yaoundé.csv, Douala.csv)\n",
    "            return process_client_file(df, ville_source, path.name)\n",
    "        else:\n",
    "            # Fichiers de filiales avec montants globaux\n",
    "            return process_filiale_file(df, ville_source, path.name)\n",
    "            \n",
    "    except Exception as e:\n",
    "        print(f\"   ❌ Erreur avec {path.name}: {str(e)}\")\n",
    "        return None\n",
    "\n",
    "def process_client_file(df, ville, filename):\n",
    "    \"\"\"Traite les fichiers avec données clients détaillées\"\"\"\n",
    "    df_std = pd.DataFrame()\n",
    "    \n",
    "    # Mapping des colonnes pour le nom\n",
    "    if \"client\" in df.columns:\n",
    "        df_std[\"nom\"] = df[\"client\"].apply(clean_name)\n",
    "    elif \"nom\" in df.columns:\n",
    "        df_std[\"nom\"] = df[\"nom\"].apply(clean_name)\n",
    "    else:\n",
    "        df_std[\"nom\"] = \"(None)\"\n",
    "    \n",
    "    # Téléphone\n",
    "    if \"telephone\" in df.columns:\n",
    "        df_std[\"telephone\"] = df[\"telephone\"].apply(clean_phone)\n",
    "    else:\n",
    "        df_std[\"telephone\"] = \"(None)\"\n",
    "    \n",
    "    # Commande/Classe\n",
    "    commande_cols = [\"commande/ classe\", \"commande/classe\", \"classe (concernée)\", \"commande\"]\n",
    "    commande_col = None\n",
    "    for col in commande_cols:\n",
    "        if col in df.columns:\n",
    "            commande_col = col\n",
    "            break\n",
    "    \n",
    "    if commande_col:\n",
    "        df_std[\"commande\"] = df[commande_col].apply(clean_text_field)\n",
    "    else:\n",
    "        df_std[\"commande\"] = \"(None)\"\n",
    "    \n",
    "    # Montant - recherche dans plusieurs colonnes possibles\n",
    "    montant_cols = [\"somme percue\", \"paiement recu\", \"montant percu\", \"montant\", \"somme perçue\", \"paiement reçu\", \"montant perçu\"]\n",
    "    montant_col = None\n",
    "    for col in montant_cols:\n",
    "        if col in df.columns:\n",
    "            montant_col = col\n",
    "            break\n",
    "    \n",
    "    if montant_col:\n",
    "        df_std[\"montant\"] = df[montant_col].apply(extract_amount)\n",
    "    else:\n",
    "        df_std[\"montant\"] = \"0\"\n",
    "    \n",
    "    # Adresse\n",
    "    adresse_cols = [\"lieu de livraison\", \"quartier (de résidence)\", \"adresse\"]\n",
    "    adresse_col = None\n",
    "    for col in adresse_cols:\n",
    "        if col in df.columns:\n",
    "            adresse_col = col\n",
    "            break\n",
    "    \n",
    "    if adresse_col:\n",
    "        df_std[\"adresse\"] = df[adresse_col].apply(clean_text_field)\n",
    "    else:\n",
    "        df_std[\"adresse\"] = \"(None)\"\n",
    "    \n",
    "    # Frais de livraison\n",
    "    if \"frais de livraison\" in df.columns:\n",
    "        df_std[\"frais_livraison\"] = df[\"frais de livraison\"].apply(extract_amount)\n",
    "    else:\n",
    "        df_std[\"frais_livraison\"] = \"0\"\n",
    "    \n",
    "    # Bon de fidélité\n",
    "    bon_cols = [\"bon de felite\", \"bon de fidelite\", \"bon de félité\"]\n",
    "    bon_col = None\n",
    "    for col in bon_cols:\n",
    "        if col in df.columns:\n",
    "            bon_col = col\n",
    "            break\n",
    "    \n",
    "    if bon_col:\n",
    "        df_std[\"bon_fidelite\"] = df[bon_col].apply(extract_amount)\n",
    "    else:\n",
    "        df_std[\"bon_fidelite\"] = \"0\"\n",
    "    \n",
    "    # Ville\n",
    "    df_std[\"ville\"] = ville\n",
    "    \n",
    "    return df_std[COLUMNS].copy()\n",
    "\n",
    "def process_filiale_file(df, ville, filename):\n",
    "    \"\"\"Traite les fichiers de filiales avec montants globaux\"\"\"\n",
    "    # Extraire le nom de la filiale du nom de fichier\n",
    "    nom_filiale = filename.replace('.csv', '').upper()\n",
    "    \n",
    "    # Obtenir la clé de filiale pour récupérer le montant\n",
    "    filiale_key = get_filiale_key(filename)\n",
    "    \n",
    "    # Utiliser le montant prédéfini ou essayer d'extraire du fichier\n",
    "    if filiale_key and filiale_key in MONTANTS_FILIALES:\n",
    "        montant_total = MONTANTS_FILIALES[filiale_key]\n",
    "        print(f\"   💰 Montant prédéfini utilisé: {montant_total} FCFA\")\n",
    "    else:\n",
    "        # Fallback : essayer d'extraire du fichier\n",
    "        montant_total = \"0\"\n",
    "        \n",
    "        # Recherche du montant dans différentes colonnes possibles\n",
    "        montant_cols = [\"net a payer\", \"montant percu\", \"montant perçu\", \"deja percu\", \"déjà perçu\"]\n",
    "        \n",
    "        print(f\"   🔍 Recherche de montant dans les colonnes: {list(df.columns)}\")\n",
    "        \n",
    "        for col in montant_cols:\n",
    "            if col in df.columns:\n",
    "                print(f\"   📊 Colonne trouvée: {col}\")\n",
    "                # Prendre la première valeur non nulle\n",
    "                for idx, val in df[col].items():\n",
    "                    if pd.notna(val) and str(val).strip() not in [\"\", \"/\", \"nan\"]:\n",
    "                        montant_total = extract_amount(val)\n",
    "                        print(f\"   💰 Montant extrait: {val} -> {montant_total}\")\n",
    "                        break\n",
    "                if montant_total != \"0\":\n",
    "                    break\n",
    "    \n",
    "    # Créer une ligne pour cette filiale\n",
    "    df_std = pd.DataFrame({\n",
    "        \"nom\": [nom_filiale],\n",
    "        \"telephone\": [\"(None)\"],\n",
    "        \"commande\": [\"VENTE FILIALE\"],\n",
    "        \"montant\": [montant_total],\n",
    "        \"adresse\": [f\"FILIALE {ville}\"],\n",
    "        \"frais_livraison\": [\"0\"],\n",
    "        \"bon_fidelite\": [\"0\"],\n",
    "        \"ville\": [ville]\n",
    "    })\n",
    "    \n",
    "    return df_std"
   ]
  },
  {
   "cell_type": "code",
   "execution_count": 46,
   "id": "82dfe8ce",
   "metadata": {},
   "outputs": [
    {
     "name": "stdout",
     "output_type": "stream",
     "text": [
      "📋 Fichiers trouvés: 11\n",
      "   • ASSOCIATION FAMILLE KEGHIE.csv\n",
      "   • PETIT ECOLIER.csv\n",
      "   • ADFORCE : ASSOCIATION DES FEMMES D'ORANGE CAMEROUN.csv\n",
      "   • ASSOCIATION ALHONAS.csv\n",
      "   • PRESTATAIRE ENEO DOUALA.csv\n",
      "   • SONECO SARL.csv\n",
      "   • SOCCAREMA.csv\n",
      "   • Douala.csv\n",
      "   • BOPACE SARL.csv\n",
      "   • Yaoundé.csv\n",
      "   • MUTUELLE FEICOM.csv\n",
      "\n"
     ]
    }
   ],
   "source": [
    "# Liste pour stocker tous les DataFrames\n",
    "all_ventes = []\n",
    "\n",
    "# Récupération de tous les fichiers CSV\n",
    "csv_files = list(VENTES_2024_DIR.glob(\"*.csv\"))\n",
    "\n",
    "if not csv_files:\n",
    "    print(f\"❌ ERREUR: Aucun fichier CSV trouvé dans {VENTES_2024_DIR}\")\n",
    "    exit(1)\n",
    "\n",
    "print(f\"📋 Fichiers trouvés: {len(csv_files)}\")\n",
    "for f in csv_files:\n",
    "    print(f\"   • {f.name}\")\n",
    "print()"
   ]
  },
  {
   "cell_type": "code",
   "execution_count": 47,
   "id": "311acf6f",
   "metadata": {},
   "outputs": [
    {
     "name": "stdout",
     "output_type": "stream",
     "text": [
      "📄 Traitement: ASSOCIATION FAMILLE KEGHIE.csv\n",
      "   📊 Lignes lues: 2\n",
      "   📋 Colonnes: ['NET A PAYER', '419\\u202f100']\n",
      "   🏙️  Ville détectée: Yaoundé\n",
      "   💰 Montant prédéfini utilisé: 419100 FCFA\n",
      "   ✅ Succès: 1 lignes standardisées\n",
      "   🏙️  Villes: {'Yaoundé': np.int64(1)}\n",
      "   💰 Montant fichier: 419,100 FCFA\n",
      "\n",
      "📄 Traitement: PETIT ECOLIER.csv\n",
      "   📊 Lignes lues: 1\n",
      "   📋 Colonnes: ['NET A PAYER', '2\\u202f498\\u202f850']\n",
      "   🏙️  Ville détectée: Yaoundé\n",
      "   💰 Montant prédéfini utilisé: 2498850 FCFA\n",
      "   ✅ Succès: 1 lignes standardisées\n",
      "   🏙️  Villes: {'Yaoundé': np.int64(1)}\n",
      "   💰 Montant fichier: 2,498,850 FCFA\n",
      "\n",
      "📄 Traitement: ADFORCE : ASSOCIATION DES FEMMES D'ORANGE CAMEROUN.csv\n",
      "   📊 Lignes lues: 2\n",
      "   📋 Colonnes: ['NET A PAYER', '1\\u202f269\\u202f975']\n",
      "   🏙️  Ville détectée: Yaoundé\n",
      "   💰 Montant prédéfini utilisé: 1269975 FCFA\n",
      "   ✅ Succès: 1 lignes standardisées\n",
      "   🏙️  Villes: {'Yaoundé': np.int64(1)}\n",
      "   💰 Montant fichier: 1,269,975 FCFA\n",
      "\n",
      "📄 Traitement: ASSOCIATION ALHONAS.csv\n",
      "   📊 Lignes lues: 2\n",
      "   📋 Colonnes: ['NET A PAYER', '3\\u202f602\\u202f310']\n",
      "   🏙️  Ville détectée: Yaoundé\n",
      "   💰 Montant prédéfini utilisé: 3602310 FCFA\n",
      "   ✅ Succès: 1 lignes standardisées\n",
      "   🏙️  Villes: {'Yaoundé': np.int64(1)}\n",
      "   💰 Montant fichier: 3,602,310 FCFA\n",
      "\n",
      "📄 Traitement: PRESTATAIRE ENEO DOUALA.csv\n",
      "   📊 Lignes lues: 2\n",
      "   📋 Colonnes: ['NET A PAYER', '3\\u202f320\\u202f950']\n",
      "   🏙️  Ville détectée: Douala\n",
      "   💰 Montant prédéfini utilisé: 3320950 FCFA\n",
      "   ✅ Succès: 1 lignes standardisées\n",
      "   🏙️  Villes: {'Douala': np.int64(1)}\n",
      "   💰 Montant fichier: 3,320,950 FCFA\n",
      "\n",
      "📄 Traitement: SONECO SARL.csv\n",
      "   📊 Lignes lues: 2\n",
      "   📋 Colonnes: ['NET A PAYER', '640\\u202f000']\n",
      "   🏙️  Ville détectée: Yaoundé\n",
      "   💰 Montant prédéfini utilisé: 640000 FCFA\n",
      "   ✅ Succès: 1 lignes standardisées\n",
      "   🏙️  Villes: {'Yaoundé': np.int64(1)}\n",
      "   💰 Montant fichier: 640,000 FCFA\n",
      "\n",
      "📄 Traitement: SOCCAREMA.csv\n",
      "   📊 Lignes lues: 2\n",
      "   📋 Colonnes: ['NET A PAYER', '262\\u202f105']\n",
      "   🏙️  Ville détectée: Douala\n",
      "   💰 Montant prédéfini utilisé: 262105 FCFA\n",
      "   ✅ Succès: 1 lignes standardisées\n",
      "   🏙️  Villes: {'Douala': np.int64(1)}\n",
      "   💰 Montant fichier: 262,105 FCFA\n",
      "\n",
      "📄 Traitement: Douala.csv\n",
      "   📊 Lignes lues: 44\n",
      "   📋 Colonnes: ['CLIENT', 'NOMBRE en articles)', 'CLASSE (concernée)', 'LIBRAIRIE (fournisseur)', 'QUARTIER (de résidence)', 'ETAT (de  la livraison)', 'MONTANT PROFORMA', 'PAIEMENT RECU']\n",
      "   🏙️  Ville détectée: Douala\n",
      "   ✅ Succès: 44 lignes standardisées\n",
      "   🏙️  Villes: {'Douala': np.int64(44)}\n",
      "   💰 Montant fichier: 1,283,140 FCFA\n",
      "\n",
      "📄 Traitement: BOPACE SARL.csv\n",
      "   📊 Lignes lues: 2\n",
      "   📋 Colonnes: ['NET A PAYER', '435\\u202f340']\n",
      "   🏙️  Ville détectée: Yaoundé\n",
      "   💰 Montant prédéfini utilisé: 435340 FCFA\n",
      "   ✅ Succès: 1 lignes standardisées\n",
      "   🏙️  Villes: {'Yaoundé': np.int64(1)}\n",
      "   💰 Montant fichier: 435,340 FCFA\n",
      "\n",
      "📄 Traitement: Yaoundé.csv\n",
      "   📊 Lignes lues: 187\n",
      "   📋 Colonnes: ['N°', 'NOM', 'TELEPHONE', 'COMMANDE/ CLASSE', 'SOMME PERCUE', 'LIEU DE LIVRAISON', 'FRAIS DE LIVRAISON', 'BON DE FELITE']\n",
      "   🏙️  Ville détectée: Yaoundé\n",
      "   ✅ Succès: 187 lignes standardisées\n",
      "   🏙️  Villes: {'Yaoundé': np.int64(187)}\n",
      "   💰 Montant fichier: 7,338,450 FCFA\n",
      "\n",
      "📄 Traitement: MUTUELLE FEICOM.csv\n",
      "   📊 Lignes lues: 2\n",
      "   📋 Colonnes: ['NET A PAYER', '4\\u202f797\\u202f450']\n",
      "   🏙️  Ville détectée: Yaoundé\n",
      "   💰 Montant prédéfini utilisé: 4797450 FCFA\n",
      "   ✅ Succès: 1 lignes standardisées\n",
      "   🏙️  Villes: {'Yaoundé': np.int64(1)}\n",
      "   💰 Montant fichier: 4,797,450 FCFA\n",
      "\n",
      "Fichiers traités avec succès: 11\n"
     ]
    }
   ],
   "source": [
    "# Traitement de chaque fichier\n",
    "for path in csv_files:\n",
    "    df_processed = process_individual_file(path)\n",
    "    \n",
    "    if df_processed is not None:\n",
    "        all_ventes.append(df_processed)\n",
    "        print(f\"   ✅ Succès: {len(df_processed)} lignes standardisées\")\n",
    "        \n",
    "        # Affichage des statistiques par ville\n",
    "        if len(df_processed) > 0:\n",
    "            villes_detectees = df_processed[\"ville\"].value_counts()\n",
    "            print(f\"   🏙️  Villes: {dict(villes_detectees)}\")\n",
    "            \n",
    "            # Affichage du montant total pour ce fichier\n",
    "            montant_fichier = df_processed[\"montant\"].apply(lambda x: int(x) if x.isdigit() else 0).sum()\n",
    "            print(f\"   💰 Montant fichier: {montant_fichier:,} FCFA\")\n",
    "    \n",
    "    print()\n",
    "\n",
    "\n",
    "print(f\"Fichiers traités avec succès: {len(all_ventes)}\")"
   ]
  },
  {
   "cell_type": "code",
   "execution_count": 48,
   "id": "de37a41f",
   "metadata": {},
   "outputs": [
    {
     "name": "stdout",
     "output_type": "stream",
     "text": [
      "\n",
      "RÉSUMÉ FINAL - VENTES 2024:\n",
      "   • Total lignes: 240\n",
      "   • Colonnes: ['nom', 'telephone', 'commande', 'montant', 'adresse', 'frais_livraison', 'bon_fidelite', 'ville']\n",
      "   • Villes uniques: ['Douala', 'Yaoundé']\n"
     ]
    }
   ],
   "source": [
    "if not all_ventes:\n",
    "    print(\"❌ ERREUR: Aucun fichier traité avec succès!\")\n",
    "    exit(1)\n",
    "\n",
    "# Fusion de tous les DataFrames\n",
    "ventes_2024 = pd.concat(all_ventes, ignore_index=True)\n",
    "\n",
    "# Nettoyage final\n",
    "ventes_2024[\"ville\"] = ventes_2024[\"ville\"].replace(\"(None)\", \"Yaoundé\")\n",
    "\n",
    "\n",
    "print(f\"\\nRÉSUMÉ FINAL - VENTES 2024:\")\n",
    "print(f\"   • Total lignes: {len(ventes_2024):,}\")\n",
    "print(f\"   • Colonnes: {list(ventes_2024.columns)}\")\n",
    "print(f\"   • Villes uniques: {sorted(ventes_2024['ville'].unique())}\")"
   ]
  },
  {
   "cell_type": "code",
   "execution_count": 49,
   "id": "e0fc08d9",
   "metadata": {},
   "outputs": [
    {
     "name": "stdout",
     "output_type": "stream",
     "text": [
      "   • Villes avec valeur '(None)': 0\n",
      "\n",
      "    RÉPARTITION PAR VILLE:\n",
      "   • Yaoundé: 194 ventes\n",
      "   • Douala: 46 ventes\n"
     ]
    }
   ],
   "source": [
    "# Vérification des valeurs manquantes\n",
    "none_count = (ventes_2024[\"ville\"] == \"(None)\").sum()\n",
    "print(f\"   • Villes avec valeur '(None)': {none_count}\")\n",
    "\n",
    "print(f\"\\n    RÉPARTITION PAR VILLE:\")\n",
    "ville_counts = ventes_2024[\"ville\"].value_counts()\n",
    "for ville, count in ville_counts.items():\n",
    "    print(f\"   • {ville}: {count:,} ventes\")"
   ]
  },
  {
   "cell_type": "code",
   "execution_count": 50,
   "id": "01d82b74",
   "metadata": {},
   "outputs": [
    {
     "name": "stdout",
     "output_type": "stream",
     "text": [
      "\n",
      "  MONTANTS PAR VILLE:\n",
      "   • Douala: 4,866,195 FCFA\n",
      "   • Yaoundé: 21,001,475 FCFA\n",
      "\n",
      "  MONTANT TOTAL 2024: 25,867,670 FCFA\n"
     ]
    }
   ],
   "source": [
    "# Calcul des montants totaux\n",
    "print(f\"\\n  MONTANTS PAR VILLE:\")\n",
    "montants_par_ville = {}\n",
    "for ville in sorted(ventes_2024[\"ville\"].unique()):\n",
    "    ville_data = ventes_2024[ventes_2024[\"ville\"] == ville]\n",
    "    montant_total = ville_data[\"montant\"].apply(lambda x: int(x) if x.isdigit() else 0).sum()\n",
    "    montants_par_ville[ville] = montant_total\n",
    "    print(f\"   • {ville}: {montant_total:,} FCFA\")\n",
    "\n",
    "# Montant total général\n",
    "montant_general = ventes_2024[\"montant\"].apply(lambda x: int(x) if x.isdigit() else 0).sum()\n",
    "print(f\"\\n  MONTANT TOTAL 2024: {montant_general:,} FCFA\")"
   ]
  },
  {
   "cell_type": "code",
   "execution_count": 51,
   "id": "6589705a",
   "metadata": {},
   "outputs": [
    {
     "name": "stdout",
     "output_type": "stream",
     "text": [
      "\n",
      "  DÉTAIL MONTANTS FILIALES:\n",
      "   • ADFORCE: 1,269,975 FCFA\n",
      "   • ASSOCIATION ALHONAS: 3,602,310 FCFA\n",
      "   • ASSOCIATION FAMILLE KEGHIE: 419,100 FCFA\n",
      "   • BOPACE SARL: 435,340 FCFA\n",
      "   • MUTUELLE FEICOM: 4,797,450 FCFA\n",
      "   • PETIT ECOLIER: 2,498,850 FCFA\n",
      "   • SONECO SARL: 640,000 FCFA\n",
      "   • SOCCAREMA: 262,105 FCFA\n",
      "   • PRESTATAIRE ENEO DOUALA: 3,320,950 FCFA\n"
     ]
    }
   ],
   "source": [
    "# Détail des montants de filiales\n",
    "print(f\"\\n  DÉTAIL MONTANTS FILIALES:\")\n",
    "for nom, montant in MONTANTS_FILIALES.items():\n",
    "    print(f\"   • {nom.upper()}: {int(montant):,} FCFA\")"
   ]
  },
  {
   "cell_type": "code",
   "execution_count": 52,
   "id": "5e1fdffa",
   "metadata": {},
   "outputs": [
    {
     "name": "stdout",
     "output_type": "stream",
     "text": [
      "\n",
      "  STATISTIQUES DÉTAILLÉES:\n",
      "   • Nombre de clients uniques: 181\n",
      "   • Nombre de commandes: 240\n",
      "   • Montant moyen par commande: 107,781 FCFA\n"
     ]
    }
   ],
   "source": [
    "# Statistiques détaillées\n",
    "print(f\"\\n  STATISTIQUES DÉTAILLÉES:\")\n",
    "print(f\"   • Nombre de clients uniques: {ventes_2024['nom'].nunique()}\")\n",
    "print(f\"   • Nombre de commandes: {len(ventes_2024)}\")\n",
    "if len(ventes_2024) > 0:\n",
    "    print(f\"   • Montant moyen par commande: {montant_general // len(ventes_2024):,} FCFA\")"
   ]
  },
  {
   "cell_type": "code",
   "execution_count": 53,
   "id": "4e87da80",
   "metadata": {},
   "outputs": [
    {
     "name": "stdout",
     "output_type": "stream",
     "text": [
      "\n",
      " TOP 10 CLIENTS PAR MONTANT:\n",
      "    1. MUTUELLE FEICOM: 4,797,450 FCFA\n",
      "    2. ASSOCIATION ALHONAS: 3,602,310 FCFA\n",
      "    3. PRESTATAIRE ENEO DOUALA: 3,320,950 FCFA\n",
      "    4. PETIT ECOLIER: 2,498,850 FCFA\n",
      "    5. ADFORCE : ASSOCIATION DES FEMMES D'ORANGE CAMEROUN: 1,269,975 FCFA\n",
      "    6. SONECO SARL: 640,000 FCFA\n",
      "    7. BOPACE SARL: 435,340 FCFA\n",
      "    8. ASSOCIATION FAMILLE KEGHIE: 419,100 FCFA\n",
      "    9. Ndjock: 359,000 FCFA\n",
      "   10. Kade: 295,000 FCFA\n"
     ]
    }
   ],
   "source": [
    "# Top 10 des clients par montant\n",
    "print(f\"\\n TOP 10 CLIENTS PAR MONTANT:\")\n",
    "top_clients = ventes_2024.copy()\n",
    "top_clients[\"montant_num\"] = top_clients[\"montant\"].apply(lambda x: int(x) if x.isdigit() else 0)\n",
    "top_clients_grouped = top_clients.groupby(\"nom\")[\"montant_num\"].sum().sort_values(ascending=False).head(10)\n",
    "\n",
    "for i, (nom, montant) in enumerate(top_clients_grouped.items(), 1):\n",
    "    print(f\"   {i:2d}. {nom}: {montant:,} FCFA\")"
   ]
  },
  {
   "cell_type": "code",
   "execution_count": 54,
   "id": "a43b672e",
   "metadata": {},
   "outputs": [
    {
     "name": "stdout",
     "output_type": "stream",
     "text": [
      "\n",
      "Fichier sauvegardé: ../data/processed/ventes_2024.csv\n"
     ]
    }
   ],
   "source": [
    "# Sauvegarde\n",
    "PROCESSED_DIR.mkdir(parents=True, exist_ok=True)\n",
    "output_path = PROCESSED_DIR / \"ventes_2024.csv\"\n",
    "ventes_2024.to_csv(output_path, index=False, encoding='utf-8')\n",
    "print(f\"\\nFichier sauvegardé: {output_path}\")"
   ]
  },
  {
   "cell_type": "markdown",
   "id": "a579ecc2",
   "metadata": {},
   "source": [
    "### **5.2 - Construction de la base clients (clients_2024.csv)**"
   ]
  },
  {
   "cell_type": "code",
   "execution_count": 55,
   "id": "1c01cc3b",
   "metadata": {},
   "outputs": [
    {
     "name": "stdout",
     "output_type": "stream",
     "text": [
      "Chargement du fichier ventes_2024.csv...\n",
      "✅ 240 lignes chargées\n"
     ]
    }
   ],
   "source": [
    "VENTES_2024_PATH = PROCESSED_DIR / \"ventes_2024.csv\"\n",
    "CLIENTS_2024_PATH = PROCESSED_DIR / \"clients_2024.csv\"\n",
    "\n",
    "print(\"Chargement du fichier ventes_2024.csv...\")\n",
    "ventes_df = pd.read_csv(VENTES_2024_PATH)\n",
    "print(f\"✅ {len(ventes_df)} lignes chargées\")"
   ]
  },
  {
   "cell_type": "code",
   "execution_count": 56,
   "id": "86b86743",
   "metadata": {},
   "outputs": [],
   "source": [
    "# Extraire les téléphones secondaires (séparateurs / ou -)\n",
    "def split_telephones(telephone):\n",
    "    if pd.isna(telephone):\n",
    "        return telephone, None\n",
    "    parts = re.split(r\"[\\-/]\", str(telephone))\n",
    "    parts = [p.strip() for p in parts if p.strip() and p.strip().lower() != \"none\"]\n",
    "    if len(parts) == 1:\n",
    "        return parts[0], None\n",
    "    return parts[0], parts[1]\n",
    "\n",
    "ventes_df[[\"telephone_principal\", \"telephone_secondaire\"]] = ventes_df.apply(\n",
    "    lambda row: pd.Series(split_telephones(row[\"telephone\"])), axis=1\n",
    ")\n",
    "\n",
    "# Filtrer les lignes avec un numéro valide\n",
    "ventes_df = ventes_df[ventes_df[\"telephone_principal\"].notna() & (ventes_df[\"telephone_principal\"] != \"(None)\")]"
   ]
  },
  {
   "cell_type": "code",
   "execution_count": 57,
   "id": "d49048a0",
   "metadata": {},
   "outputs": [
    {
     "name": "stdout",
     "output_type": "stream",
     "text": [
      "👥 Construction de la base clients 2024...\n"
     ]
    }
   ],
   "source": [
    "# Grouper les clients par téléphone principal\n",
    "print(\"👥 Construction de la base clients 2024...\")\n",
    "clients_df = ventes_df.groupby(\"telephone_principal\").agg({\n",
    "    \"nom\": lambda x: sorted(set(x)),\n",
    "    \"telephone_secondaire\": lambda x: next((v for v in x if pd.notna(v)), None),\n",
    "    \"commande\": lambda x: \", \".join(sorted(set(x.dropna()))),\n",
    "    \"adresse\": lambda x: next((v for v in x if pd.notna(v) and v != \"(None)\"), \"(None)\"),\n",
    "    \"ville\": lambda x: next((v for v in x if pd.notna(v) and v != \"(None)\"), \"(None)\"),\n",
    "    \"telephone_principal\": \"count\"\n",
    "}).rename(columns={\n",
    "    \"nom\": \"alias\",\n",
    "    \"telephone_secondaire\": \"telephone_secondaire\",\n",
    "    \"commande\": \"commande\",\n",
    "    \"adresse\": \"adresse\",\n",
    "    \"ville\": \"ville\",\n",
    "    \"telephone_principal\": \"nb_commandes\"\n",
    "}).reset_index().rename(columns={\"telephone_principal\": \"telephone\"})"
   ]
  },
  {
   "cell_type": "code",
   "execution_count": 58,
   "id": "cd1e042c",
   "metadata": {},
   "outputs": [
    {
     "name": "stdout",
     "output_type": "stream",
     "text": [
      "123 clients extraits\n",
      "ÉCHANTILLON :\n",
      "           nom        alias telephone telephone_secondaire                         commande adresse   ville  nb_commandes\n",
      "Aandjou Carine Carine Bibai 697786306                 None                      FOURNITURES  (None) Yaoundé             2\n",
      "    Abang Arie       Ndongo 658980041                 None              (None), FOURNITURES  (None) Yaoundé             2\n",
      "   Abena Yvana              697996592                 None CLASS1 / FORM1, FOURNITURES, SIL  (None) Yaoundé             3\n",
      "           Ada              695765640                 None                          CLASS 1  (None) Yaoundé             1\n",
      "  Aella Design              696385893                 None                               5e  (None) Yaoundé             1\n"
     ]
    }
   ],
   "source": [
    "# Créer la colonne nom principal (premier alias trié hors nom principal)\n",
    "clients_df[\"nom\"] = clients_df[\"alias\"].apply(lambda x: x[0] if isinstance(x, list) and x else \"\")\n",
    "clients_df[\"alias\"] = clients_df.apply(lambda row: \", \".join([a for a in row[\"alias\"] if a != row[\"nom\"]]), axis=1)\n",
    "\n",
    "# Réorganiser et trier les colonnes avec alias inclus\n",
    "clients_df = clients_df[[\"nom\", \"alias\", \"telephone\", \"telephone_secondaire\", \"commande\", \"adresse\", \"ville\", \"nb_commandes\"]]\n",
    "clients_df = clients_df.sort_values(\"nom\")\n",
    "\n",
    "print(f\"{len(clients_df)} clients extraits\")\n",
    "print(\"ÉCHANTILLON :\")\n",
    "print(clients_df.head().to_string(index=False))"
   ]
  },
  {
   "cell_type": "code",
   "execution_count": 59,
   "id": "e701a304",
   "metadata": {},
   "outputs": [
    {
     "name": "stdout",
     "output_type": "stream",
     "text": [
      "📁 Fichier sauvegardé → ../data/processed/clients_2024.csv\n"
     ]
    }
   ],
   "source": [
    "# Sauvegarde du fichier\n",
    "clients_df.to_csv(CLIENTS_2024_PATH, index=False, encoding='utf-8')\n",
    "print(f\"📁 Fichier sauvegardé → {CLIENTS_2024_PATH}\")"
   ]
  },
  {
   "cell_type": "markdown",
   "id": "ae302f6d",
   "metadata": {},
   "source": [
    "### **5.3 - Analyse des performances commerciales 2024**"
   ]
  },
  {
   "cell_type": "code",
   "execution_count": 60,
   "id": "ae2df9a2",
   "metadata": {},
   "outputs": [],
   "source": [
    "# 1. Chiffre d’affaires par ville\n",
    "ca_par_ville = ventes_2024.copy()\n",
    "ca_par_ville[\"montant\"] = ca_par_ville[\"montant\"].apply(lambda x: int(x) if str(x).isdigit() else 0)\n",
    "ca_par_ville[\"frais_livraison\"] = ca_par_ville[\"frais_livraison\"].apply(lambda x: int(x) if str(x).isdigit() else 0)\n",
    "ca_par_ville[\"chiffre_affaire\"] = ca_par_ville[\"montant\"] + ca_par_ville[\"frais_livraison\"]"
   ]
  },
  {
   "cell_type": "code",
   "execution_count": 61,
   "id": "9b59d2fb",
   "metadata": {},
   "outputs": [
    {
     "name": "stderr",
     "output_type": "stream",
     "text": [
      "/var/folders/1n/d3tj9kpd549_ytmqz2cjc6rc0000gn/T/ipykernel_39234/3875601928.py:4: FutureWarning: \n",
      "\n",
      "Passing `palette` without assigning `hue` is deprecated and will be removed in v0.14.0. Assign the `x` variable to `hue` and set `legend=False` for the same effect.\n",
      "\n",
      "  ax1 = sns.barplot(x=ca_by_ville.index, y=ca_by_ville.values, palette=\"viridis\")\n"
     ]
    },
    {
     "data": {
      "image/png": "[encoded data removed]",
      "text/plain": [
       "<Figure size 1000x600 with 1 Axes>"
      ]
     },
     "metadata": {},
     "output_type": "display_data"
    }
   ],
   "source": [
    "# Graphique 1 - Répartition du chiffre d'affaires par ville\n",
    "ca_by_ville = ca_par_ville.groupby(\"ville\")[\"chiffre_affaire\"].sum().sort_values(ascending=False)\n",
    "plt.figure(figsize=(10, 6))\n",
    "ax1 = sns.barplot(x=ca_by_ville.index, y=ca_by_ville.values, palette=\"viridis\")\n",
    "plt.title(\"Répartition du Chiffre d'Affaires par Ville (2024)\")\n",
    "plt.xlabel(\"Ville\")\n",
    "plt.ylabel(\"Chiffre d'Affaires (FCFA)\")\n",
    "\n",
    "for i, value in enumerate(ca_by_ville.values):\n",
    "    ax1.text(i, value + 5000, f\"{value:,.0f}\", ha='center', va='bottom', fontsize=10, weight='bold')\n",
    "\n",
    "plt.xticks(rotation=45)\n",
    "plt.tight_layout()\n",
    "plt.show()"
   ]
  },
  {
   "cell_type": "code",
   "execution_count": 62,
   "id": "77fca3a4",
   "metadata": {},
   "outputs": [
    {
     "name": "stderr",
     "output_type": "stream",
     "text": [
      "/var/folders/1n/d3tj9kpd549_ytmqz2cjc6rc0000gn/T/ipykernel_39234/3001518387.py:4: FutureWarning: \n",
      "\n",
      "Passing `palette` without assigning `hue` is deprecated and will be removed in v0.14.0. Assign the `x` variable to `hue` and set `legend=False` for the same effect.\n",
      "\n",
      "  ax2 = sns.barplot(x=top_clients.index, y=top_clients.values, palette=\"viridis\")\n"
     ]
    },
    {
     "data": {
      "image/png": "[encoded data removed]",
      "text/plain": [
       "<Figure size 3000x1200 with 1 Axes>"
      ]
     },
     "metadata": {},
     "output_type": "display_data"
    }
   ],
   "source": [
    "# 2. Top 10 clients par chiffre d'affaires\n",
    "top_clients = ca_par_ville.groupby(\"nom\")[\"chiffre_affaire\"].sum().sort_values(ascending=False).head(10)\n",
    "plt.figure(figsize=(30, 12))\n",
    "ax2 = sns.barplot(x=top_clients.index, y=top_clients.values, palette=\"viridis\")\n",
    "plt.title(\"Top 10 Clients 2024 par Chiffre d'Affaires\")\n",
    "plt.xlabel(\"Client\")\n",
    "plt.ylabel(\"Chiffre d'Affaires (FCFA)\")\n",
    "\n",
    "for i, value in enumerate(top_clients.values):\n",
    "    ax2.text(i, value + 5000, f\"{value:,.0f}\", ha='center', va='bottom', fontsize=10, weight='bold')\n",
    "\n",
    "plt.xticks(rotation=45, ha='right')\n",
    "plt.tight_layout()\n",
    "plt.show()"
   ]
  },
  {
   "cell_type": "code",
   "execution_count": 63,
   "id": "67a57fe8",
   "metadata": {},
   "outputs": [
    {
     "name": "stderr",
     "output_type": "stream",
     "text": [
      "/var/folders/1n/d3tj9kpd549_ytmqz2cjc6rc0000gn/T/ipykernel_39234/1899027507.py:4: FutureWarning: \n",
      "\n",
      "Passing `palette` without assigning `hue` is deprecated and will be removed in v0.14.0. Assign the `x` variable to `hue` and set `legend=False` for the same effect.\n",
      "\n",
      "  ax4 = sns.barplot(x=commandes_par_ville.index, y=commandes_par_ville.values, palette=\"viridis\")\n"
     ]
    },
    {
     "data": {
      "image/png": "[encoded data removed]",
      "text/plain": [
       "<Figure size 800x600 with 1 Axes>"
      ]
     },
     "metadata": {},
     "output_type": "display_data"
    }
   ],
   "source": [
    "# 3. Répartition du nombre de commandes par ville\n",
    "commandes_par_ville = ventes_2024[\"ville\"].value_counts()\n",
    "plt.figure(figsize=(8, 6))\n",
    "ax4 = sns.barplot(x=commandes_par_ville.index, y=commandes_par_ville.values, palette=\"viridis\")\n",
    "plt.title(\"Répartition des Commandes par Ville (2024)\")\n",
    "plt.xlabel(\"Ville\")\n",
    "plt.ylabel(\"Nombre de Commandes\")\n",
    "\n",
    "for i, value in enumerate(commandes_par_ville.values):\n",
    "    ax4.text(i, value + 1, f\"{value:,}\", ha='center', va='bottom', fontsize=10, weight='bold')\n",
    "\n",
    "plt.xticks(rotation=45)\n",
    "plt.tight_layout()\n",
    "plt.show()"
   ]
  },
  {
   "cell_type": "markdown",
   "id": "f5d32949",
   "metadata": {},
   "source": [
    "## **6. Analyse des ventes de Douala 2022**"
   ]
  },
  {
   "cell_type": "markdown",
   "id": "7001337c",
   "metadata": {},
   "source": [
    "Dans cette étape, on charge et consolide les ventes 2022 de Douala, en uniformisant les noms, numéros et adresses pour produire un ventes_2024.csv propre et exploitable pour les analyses."
   ]
  },
  {
   "cell_type": "markdown",
   "id": "75a21954",
   "metadata": {},
   "source": [
    "### **6.1- Fusion des ventes de 2022**"
   ]
  },
  {
   "cell_type": "code",
   "execution_count": 64,
   "id": "66f4e710",
   "metadata": {},
   "outputs": [],
   "source": [
    "# Configuration des chemins\n",
    "VENTES_2022_DIR = BASE_DIR / \"data\" / \"raw\" / \"Ventes_2022\"\n",
    "PROCESSED_DIR = BASE_DIR / \"data\" / \"processed\""
   ]
  },
  {
   "cell_type": "code",
   "execution_count": 65,
   "id": "ab37f631",
   "metadata": {},
   "outputs": [
    {
     "name": "stdout",
     "output_type": "stream",
     "text": [
      "🔥 DÉMARRAGE - CONSOLIDATION VENTES 2022\n",
      "📂 Répertoire source: ../data/raw/Ventes_2022\n",
      "📂 Répertoire sortie: ../data/processed\n"
     ]
    }
   ],
   "source": [
    "# Colonnes standardisées pour la fusion finale 2022\n",
    "COLUMNS_2022 = [\"nom\", \"telephone\", \"commande\", \"montant\", \"adresse\", \"frais_livraison\", \"bon_fidelite\", \"ville\"]\n",
    "\n",
    "print(\"🔥 DÉMARRAGE - CONSOLIDATION VENTES 2022\")\n",
    "print(f\"📂 Répertoire source: {VENTES_2022_DIR}\")\n",
    "print(f\"📂 Répertoire sortie: {PROCESSED_DIR}\")"
   ]
  },
  {
   "cell_type": "code",
   "execution_count": 66,
   "id": "0df4a3b6",
   "metadata": {},
   "outputs": [],
   "source": [
    "# Vérifier que le répertoire source existe\n",
    "if not VENTES_2022_DIR.exists():\n",
    "    print(f\"❌ ERREUR: Le répertoire {VENTES_2022_DIR} n'existe pas!\")\n",
    "    exit(1)"
   ]
  },
  {
   "cell_type": "code",
   "execution_count": 67,
   "id": "36462beb",
   "metadata": {},
   "outputs": [],
   "source": [
    "# Mapping des filiales vers leurs villes pour 2022\n",
    "FILIALES_VILLES_2022 = {\n",
    "    \"soneco sarl\": \"Yaoundé\",\n",
    "    \"soccarema\": \"Douala\", \n",
    "    \"prestataire eneo douala\": \"Douala\",\n",
    "    \"petit ecolier\": \"Yaoundé\",\n",
    "    \"mutuelle feicom\": \"Yaoundé\",\n",
    "    \"adforce\": \"Yaoundé\",  # Association des femmes d'Orange Cameroun\n",
    "    \"association alhonas\": \"Yaoundé\",\n",
    "    \"association famille keghie\": \"Yaoundé\", \n",
    "    \"bopace sarl\": \"Yaoundé\",\n",
    "    \"yaoundé\": \"Yaoundé\",\n",
    "    \"douala\": \"Douala\",\n",
    "    \"ventes_2022_douala\": \"Douala\"  # Pour le fichier existant\n",
    "}"
   ]
  },
  {
   "cell_type": "code",
   "execution_count": 68,
   "id": "01b72e62",
   "metadata": {},
   "outputs": [],
   "source": [
    "# Fonctions utilitaires de nettoyage \n",
    "\n",
    "def clean_name(nom):\n",
    "    \"\"\"Nettoie et standardise les noms de clients\"\"\"\n",
    "    if pd.isna(nom) or str(nom).strip().lower() in [\"\", \"nan\", \"/\", \"--\", \"-\"]:\n",
    "        return \"(None)\"\n",
    "    \n",
    "    # Supprimer les titres civiques\n",
    "    nom = re.sub(r\"(mme\\.?|mr\\.?|m\\.?|mlle\\.?)\", \"\", str(nom), flags=re.IGNORECASE)\n",
    "    \n",
    "    # Garder seulement les caractères alphanumériques, espaces, tirets et accents français\n",
    "    nom = re.sub(r\"[^\\w\\s\\-àâäéèêëîïôöùûüÿñç]\", \"\", nom).strip().title()\n",
    "    \n",
    "    return nom if nom else \"(None)\"\n",
    "\n",
    "def clean_phone(phone):\n",
    "    \"\"\"Nettoie les numéros de téléphone (supprime le .0 si besoin)\"\"\"\n",
    "    if pd.isna(phone) or str(phone).strip() in [\"\", \"nan\", \"/\", \"--\", \"-\"]:\n",
    "        return \"(None)\"\n",
    "    \n",
    "    phone_str = str(phone).strip()\n",
    "    try:\n",
    "        return str(int(float(phone_str))) if phone_str.replace('.', '', 1).isdigit() else phone_str\n",
    "    except:\n",
    "        return \"(None)\"\n",
    "\n",
    "def clean_money(val):\n",
    "    \"\"\"Nettoie et extrait les montants numériques\"\"\"\n",
    "    if pd.isna(val):\n",
    "        return \"0\"\n",
    "    \n",
    "    # Extraire seulement les chiffres\n",
    "    val_str = re.sub(r\"[^\\d]\", \"\", str(val))\n",
    "    return val_str if val_str else \"0\"\n",
    "\n",
    "def clean_text_field(val):\n",
    "    \"\"\"Nettoie les champs texte génériques (adresse, commande, etc.)\"\"\"\n",
    "    if pd.isna(val):\n",
    "        return \"(None)\"\n",
    "    val = str(val).strip()\n",
    "    return \"(None)\" if val.lower() in [\"\", \"nan\", \"/\", \"--\", \"-\"] else val\n",
    "\n",
    "def detect_ville_from_source_2022(source_file):\n",
    "    \"\"\"Détermine la ville en fonction du nom du fichier source pour 2022\"\"\"\n",
    "    source_clean = source_file.lower().replace('.csv', '')\n",
    "    \n",
    "    # Recherche directe dans le mapping\n",
    "    for key, ville in FILIALES_VILLES_2022.items():\n",
    "        if key in source_clean:\n",
    "            return ville\n",
    "    \n",
    "    # Par défaut Yaoundé si non trouvé\n",
    "    return \"Yaoundé\"\n",
    "\n",
    "\n",
    "def process_douala_2022_file(df, ville, filename):\n",
    "    \"\"\"Traite spécifiquement le fichier Ventes_2022_Douala.csv avec ses colonnes particulières\"\"\"\n",
    "    df_std = pd.DataFrame()\n",
    "    \n",
    "    # Mapping spécifique pour le fichier 2022 Douala\n",
    "    # Colonnes disponibles: DATE, NOM, TELEPHONE, LIEU DE LIVRAISON, COMMANDE, \n",
    "    # LIBRAIRIE F.SSEUR, FACTURE F.SSEUR, FACTURE BBS, MONTANT ENCAISSE, BENEFICES BBS\n",
    "    \n",
    "    # Nom\n",
    "    if \"NOM\" in df.columns:\n",
    "        df_std[\"nom\"] = df[\"NOM\"].apply(clean_name)\n",
    "    else:\n",
    "        df_std[\"nom\"] = \"(None)\"\n",
    "    \n",
    "    # Téléphone\n",
    "    if \"TELEPHONE\" in df.columns:\n",
    "        df_std[\"telephone\"] = df[\"TELEPHONE\"].apply(clean_phone)\n",
    "    else:\n",
    "        df_std[\"telephone\"] = \"(None)\"\n",
    "    \n",
    "    # Commande\n",
    "    if \"COMMANDE\" in df.columns:\n",
    "        df_std[\"commande\"] = df[\"COMMANDE\"].apply(clean_text_field)\n",
    "    else:\n",
    "        df_std[\"commande\"] = \"(None)\"\n",
    "    \n",
    "    # Montant - utiliser MONTANT ENCAISSE ou FACTURE BBS\n",
    "    montant_col = None\n",
    "    if \"MONTANT ENCAISSE\" in df.columns:\n",
    "        montant_col = \"MONTANT ENCAISSE\"\n",
    "    elif \"FACTURE BBS\" in df.columns:\n",
    "        montant_col = \"FACTURE BBS\"\n",
    "    \n",
    "    if montant_col:\n",
    "        df_std[\"montant\"] = df[montant_col].apply(clean_money)\n",
    "    else:\n",
    "        df_std[\"montant\"] = \"0\"\n",
    "    \n",
    "    # Adresse - utiliser LIEU DE LIVRAISON\n",
    "    if \"LIEU DE LIVRAISON\" in df.columns:\n",
    "        df_std[\"adresse\"] = df[\"LIEU DE LIVRAISON\"].apply(clean_text_field)\n",
    "    else:\n",
    "        df_std[\"adresse\"] = \"(None)\"\n",
    "    \n",
    "    # Frais de livraison - pas présent dans ce format\n",
    "    df_std[\"frais_livraison\"] = \"0\"\n",
    "    \n",
    "    # Bon de fidélité - pas présent dans ce format\n",
    "    df_std[\"bon_fidelite\"] = \"0\"\n",
    "    \n",
    "    # Ville\n",
    "    df_std[\"ville\"] = ville\n",
    "    \n",
    "    return df_std[COLUMNS_2022].copy()\n",
    "\n",
    "def process_individual_file_2022(path):\n",
    "    \"\"\"Traite un fichier CSV individuel pour 2022\"\"\"\n",
    "    print(f\"  Traitement: {path.name}\")\n",
    "    \n",
    "    try:\n",
    "        # Lecture du fichier avec différents séparateurs possibles\n",
    "        df = pd.read_csv(path, sep=None, engine=\"python\", encoding='utf-8')\n",
    "        \n",
    "        if df.empty:\n",
    "            print(f\"⚠️  Fichier vide: {path.name}\")\n",
    "            return None\n",
    "            \n",
    "        print(f\"     Lignes lues: {len(df)}\")\n",
    "        print(f\"     Colonnes: {list(df.columns)}\")\n",
    "        \n",
    "        # Standardisation des noms de colonnes\n",
    "        df.columns = [col.strip() for col in df.columns]\n",
    "        \n",
    "        # Détection de la ville basée sur le nom du fichier\n",
    "        ville_source = detect_ville_from_source_2022(path.name)\n",
    "        print(f\"      Ville détectée: {ville_source}\")\n",
    "        \n",
    "        # Traitement spécifique selon le type de fichier\n",
    "        if \"ventes_2022_douala\" in path.name.lower() or (\"NOM\" in df.columns and \"TELEPHONE\" in df.columns):\n",
    "            # Fichier avec données clients détaillées (format 2022)\n",
    "            return process_douala_2022_file(df, ville_source, path.name)\n",
    "        else:\n",
    "            # Fichiers de filiales avec montants globaux (comme en 2024)\n",
    "            return process_filiale_file_2022(df, ville_source, path.name)\n",
    "            \n",
    "    except Exception as e:\n",
    "        print(f\"   ❌ Erreur avec {path.name}: {str(e)}\")\n",
    "        return None\n",
    "\n",
    "def process_filiale_file_2022(df, ville, filename):\n",
    "    \"\"\"Traite les fichiers de filiales 2022 avec montants globaux\"\"\"\n",
    "    df_std = pd.DataFrame()\n",
    "    \n",
    "    # Extraire le nom de la filiale du nom de fichier\n",
    "    nom_filiale = filename.replace('.csv', '').upper()\n",
    "    \n",
    "    # Pour les filiales, on crée une seule ligne avec le montant total\n",
    "    montant_total = \"0\"\n",
    "    \n",
    "    # Recherche du montant dans différentes colonnes possibles\n",
    "    montant_cols = [\"net a payer\", \"montant percu\", \"deja percu\", \"montant\", \"total\"]\n",
    "    for col in montant_cols:\n",
    "        col_lower = col.lower()\n",
    "        matching_cols = [c for c in df.columns if col_lower in c.lower()]\n",
    "        if matching_cols:\n",
    "            # Prendre la première valeur non nulle\n",
    "            for val in df[matching_cols[0]]:\n",
    "                if pd.notna(val) and str(val).strip() not in [\"\", \"/\", \"nan\"]:\n",
    "                    montant_total = clean_money(val)\n",
    "                    break\n",
    "            break\n",
    "    \n",
    "    # Créer une ligne pour cette filiale\n",
    "    df_std = pd.DataFrame({\n",
    "        \"nom\": [nom_filiale],\n",
    "        \"telephone\": [\"(None)\"],\n",
    "        \"commande\": [\"VENTE FILIALE\"],\n",
    "        \"montant\": [montant_total],\n",
    "        \"adresse\": [f\"FILIALE {ville}\"],\n",
    "        \"frais_livraison\": [\"0\"],\n",
    "        \"bon_fidelite\": [\"0\"],\n",
    "        \"ville\": [ville]\n",
    "    })\n",
    "    \n",
    "    return df_std"
   ]
  },
  {
   "cell_type": "code",
   "execution_count": 69,
   "id": "f1d0cb45",
   "metadata": {},
   "outputs": [
    {
     "name": "stdout",
     "output_type": "stream",
     "text": [
      "📋 Fichiers trouvés: 1\n",
      "   • Douala.csv\n",
      "\n"
     ]
    }
   ],
   "source": [
    "# Liste pour stocker tous les DataFrames\n",
    "all_ventes_2022 = []\n",
    "\n",
    "# Récupération de tous les fichiers CSV\n",
    "csv_files_2022 = list(VENTES_2022_DIR.glob(\"*.csv\"))\n",
    "\n",
    "if not csv_files_2022:\n",
    "    print(f\"❌ ERREUR: Aucun fichier CSV trouvé dans {VENTES_2022_DIR}\")\n",
    "    exit(1)\n",
    "\n",
    "print(f\"📋 Fichiers trouvés: {len(csv_files_2022)}\")\n",
    "for f in csv_files_2022:\n",
    "    print(f\"   • {f.name}\")\n",
    "    \n",
    "print()"
   ]
  },
  {
   "cell_type": "code",
   "execution_count": 70,
   "id": "13672c36",
   "metadata": {},
   "outputs": [
    {
     "name": "stdout",
     "output_type": "stream",
     "text": [
      "  Traitement: Douala.csv\n",
      "     Lignes lues: 102\n",
      "     Colonnes: ['DATE', 'NOM', 'TELEPHONE', 'LIEU DE LIVRAISON', 'COMMANDE', 'LIBRAIRIE F.SSEUR', 'FACTURE F.SSEUR', 'FACTURE BBS', 'MONTANT ENCAISSE', 'BENEFICES\\n']\n",
      "      Ville détectée: Douala\n",
      "      Succès: 102 lignes standardisées\n",
      "  Villes: {'Douala': np.int64(102)}\n",
      "\n"
     ]
    }
   ],
   "source": [
    "# Traitement de chaque fichier\n",
    "for path in csv_files_2022:\n",
    "    df_processed = process_individual_file_2022(path)\n",
    "    \n",
    "    if df_processed is not None:\n",
    "        all_ventes_2022.append(df_processed)\n",
    "        print(f\"      Succès: {len(df_processed)} lignes standardisées\")\n",
    "        \n",
    "        # Affichage des statistiques par ville\n",
    "        if len(df_processed) > 0:\n",
    "            villes_detectees = df_processed[\"ville\"].value_counts()\n",
    "            print(f\"  Villes: {dict(villes_detectees)}\")\n",
    "    \n",
    "    print()"
   ]
  },
  {
   "cell_type": "code",
   "execution_count": 71,
   "id": "ea42be03",
   "metadata": {},
   "outputs": [
    {
     "name": "stdout",
     "output_type": "stream",
     "text": [
      "Fichiers traités avec succès: 1\n"
     ]
    }
   ],
   "source": [
    "print(f\"Fichiers traités avec succès: {len(all_ventes_2022)}\")\n",
    "\n",
    "if not all_ventes_2022:\n",
    "    print(\"❌ ERREUR: Aucun fichier traité avec succès!\")\n",
    "    exit(1)\n",
    "\n",
    "# Fusion de tous les DataFrames\n",
    "ventes_2022 = pd.concat(all_ventes_2022, ignore_index=True)"
   ]
  },
  {
   "cell_type": "code",
   "execution_count": 72,
   "id": "acb11e4b",
   "metadata": {},
   "outputs": [
    {
     "name": "stdout",
     "output_type": "stream",
     "text": [
      "\n",
      " RÉSUMÉ FINAL - VENTES 2022:\n",
      "   \n",
      "• Total lignes: 102\n",
      "   \n",
      "• Colonnes: ['nom', 'telephone', 'commande', 'montant', 'adresse', 'frais_livraison', 'bon_fidelite', 'ville']\n",
      "   \n",
      "• Villes uniques: ['Douala']\n"
     ]
    }
   ],
   "source": [
    "# === RÉSUMÉ FINAL 2022 ===\n",
    "\n",
    "print(f\"\\n RÉSUMÉ FINAL - VENTES 2022:\")\n",
    "print(f\"   \\n• Total lignes: {len(ventes_2022):,}\")\n",
    "print(f\"   \\n• Colonnes: {list(ventes_2022.columns)}\")\n",
    "print(f\"   \\n• Villes uniques: {sorted(ventes_2022['ville'].unique())}\")"
   ]
  },
  {
   "cell_type": "code",
   "execution_count": 73,
   "id": "66272623",
   "metadata": {},
   "outputs": [
    {
     "name": "stdout",
     "output_type": "stream",
     "text": [
      "   • Villes avec valeur '(None)': 0\n"
     ]
    }
   ],
   "source": [
    "# Vérification des valeurs manquantes\n",
    "none_count = (ventes_2022[\"ville\"] == \"(None)\").sum()\n",
    "print(f\"   • Villes avec valeur '(None)': {none_count}\")"
   ]
  },
  {
   "cell_type": "code",
   "execution_count": 74,
   "id": "f02261ae",
   "metadata": {},
   "outputs": [
    {
     "name": "stdout",
     "output_type": "stream",
     "text": [
      "\n",
      "  RÉPARTITION PAR VILLE:\n",
      "   • Douala: 102 ventes\n"
     ]
    }
   ],
   "source": [
    "print(f\"\\n  RÉPARTITION PAR VILLE:\")\n",
    "ville_counts = ventes_2022[\"ville\"].value_counts()\n",
    "for ville, count in ville_counts.items():\n",
    "    print(f\"   • {ville}: {count:,} ventes\")"
   ]
  },
  {
   "cell_type": "code",
   "execution_count": 75,
   "id": "65331818",
   "metadata": {},
   "outputs": [
    {
     "name": "stdout",
     "output_type": "stream",
     "text": [
      "\n",
      "  MONTANT TOTAL 2022: 3,540,800 FCFA\n"
     ]
    }
   ],
   "source": [
    "# Montant total général\n",
    "montant_general = ventes_2022[\"montant\"].apply(lambda x: int(x) if x.isdigit() else 0).sum()\n",
    "print(f\"\\n  MONTANT TOTAL 2022: {montant_general:,} FCFA\")"
   ]
  },
  {
   "cell_type": "code",
   "execution_count": 76,
   "id": "c4d39767",
   "metadata": {},
   "outputs": [
    {
     "name": "stdout",
     "output_type": "stream",
     "text": [
      "\n",
      "  Fichier sauvegardé: ../data/processed/ventes_2022.csv\n",
      "\n",
      "🎉 CONSOLIDATION 2022 TERMINÉE AVEC SUCCÈS!\n"
     ]
    }
   ],
   "source": [
    "# Sauvegarde\n",
    "PROCESSED_DIR.mkdir(parents=True, exist_ok=True)\n",
    "output_path_2022 = PROCESSED_DIR / \"ventes_2022.csv\"\n",
    "ventes_2022.to_csv(output_path_2022, index=False, encoding='utf-8')\n",
    "print(f\"\\n  Fichier sauvegardé: {output_path_2022}\")\n",
    "\n",
    "print(\"\\n🎉 CONSOLIDATION 2022 TERMINÉE AVEC SUCCÈS!\")"
   ]
  },
  {
   "cell_type": "markdown",
   "id": "77d00be1",
   "metadata": {},
   "source": [
    "### **6.2 - EXTRACTION DE LA BASE CLIENTS 2022**\n"
   ]
  },
  {
   "cell_type": "code",
   "execution_count": 77,
   "id": "dafbef90",
   "metadata": {},
   "outputs": [
    {
     "name": "stdout",
     "output_type": "stream",
     "text": [
      "✅ 102 lignes chargées\n"
     ]
    }
   ],
   "source": [
    "VENTES_2022_PATH = PROCESSED_DIR / \"ventes_2022.csv\"\n",
    "CLIENTS_2022_PATH = PROCESSED_DIR / \"clients_2022.csv\"\n",
    "\n",
    "ventes_2022_df = pd.read_csv(VENTES_2022_PATH) # Chargement du fichier ventes_2022.csv\n",
    "print(f\"✅ {len(ventes_2022_df)} lignes chargées\")"
   ]
  },
  {
   "cell_type": "code",
   "execution_count": 78,
   "id": "eb31ae0f",
   "metadata": {},
   "outputs": [],
   "source": [
    "# Extraction des téléphones secondaires\n",
    "def split_telephones(telephone):\n",
    "    if pd.isna(telephone):\n",
    "        return telephone, None\n",
    "    parts = re.split(r\"[\\-/]\", str(telephone))\n",
    "    parts = [p.strip() for p in parts if p.strip() and p.strip().lower() != \"none\"]\n",
    "    if len(parts) == 1:\n",
    "        return parts[0], None\n",
    "    return parts[0], parts[1]\n",
    "\n",
    "ventes_2022_df[[\"telephone_principal\", \"telephone_secondaire\"]] = ventes_2022_df.apply(\n",
    "    lambda row: pd.Series(split_telephones(row[\"telephone\"])), axis=1\n",
    ")\n",
    "\n",
    "# Filtrer uniquement les lignes avec numéro principal valide\n",
    "ventes_2022_df = ventes_2022_df[\n",
    "    ventes_2022_df[\"telephone_principal\"].notna() &\n",
    "    (ventes_2022_df[\"telephone_principal\"] != \"(None)\")\n",
    "]"
   ]
  },
  {
   "cell_type": "code",
   "execution_count": 79,
   "id": "2621056b",
   "metadata": {},
   "outputs": [
    {
     "name": "stdout",
     "output_type": "stream",
     "text": [
      "👥 Construction de la base clients 2022...\n"
     ]
    }
   ],
   "source": [
    "# Grouper les clients par téléphone principal\n",
    "print(\"👥 Construction de la base clients 2022...\")\n",
    "clients_2022_df = ventes_2022_df.groupby(\"telephone_principal\").agg({\n",
    "    \"nom\": lambda x: sorted(set(x)),\n",
    "    \"telephone_secondaire\": lambda x: next((v for v in x if pd.notna(v)), None),\n",
    "    \"commande\": lambda x: \", \".join(sorted(set(x.dropna()))),\n",
    "    \"adresse\": lambda x: next((v for v in x if pd.notna(v) and v != \"(None)\"), \"(None)\"),\n",
    "    \"ville\": lambda x: next((v for v in x if pd.notna(v) and v != \"(None)\"), \"(None)\"),\n",
    "    \"telephone_principal\": \"count\"\n",
    "}).rename(columns={\n",
    "    \"nom\": \"alias\",\n",
    "    \"telephone_secondaire\": \"telephone_secondaire\",\n",
    "    \"commande\": \"commande\",\n",
    "    \"adresse\": \"adresse\",\n",
    "    \"ville\": \"ville\",\n",
    "    \"telephone_principal\": \"nb_commandes\"\n",
    "}).reset_index().rename(columns={\"telephone_principal\": \"telephone\"})"
   ]
  },
  {
   "cell_type": "code",
   "execution_count": 80,
   "id": "768a6262",
   "metadata": {},
   "outputs": [],
   "source": [
    "# Définir le nom principal comme le premier alias\n",
    "clients_2022_df[\"nom\"] = clients_2022_df[\"alias\"].apply(lambda x: x[0] if isinstance(x, list) and x else \"\")\n",
    "clients_2022_df[\"alias\"] = clients_2022_df.apply(\n",
    "    lambda row: \", \".join([a for a in row[\"alias\"] if a != row[\"nom\"]]),\n",
    "    axis=1\n",
    ")\n",
    "\n",
    "# Réorganiser les colonnes\n",
    "clients_2022_df = clients_2022_df[[\n",
    "    \"nom\", \"alias\", \"telephone\", \"telephone_secondaire\",\n",
    "    \"commande\", \"adresse\", \"ville\", \"nb_commandes\"\n",
    "]].sort_values(\"nom\")"
   ]
  },
  {
   "cell_type": "code",
   "execution_count": 81,
   "id": "061ab9f3",
   "metadata": {},
   "outputs": [
    {
     "name": "stdout",
     "output_type": "stream",
     "text": [
      "📁 Fichier sauvegardé → ../data/processed/clients_2022.csv\n"
     ]
    }
   ],
   "source": [
    "# Sauvegarde du fichier\n",
    "clients_2022_df.to_csv(CLIENTS_2022_PATH, index=False, encoding='utf-8')\n",
    "print(f\"📁 Fichier sauvegardé → {CLIENTS_2022_PATH}\")"
   ]
  },
  {
   "cell_type": "code",
   "execution_count": 82,
   "id": "2a638d16",
   "metadata": {},
   "outputs": [
    {
     "name": "stdout",
     "output_type": "stream",
     "text": [
      "✅ 84 clients extraits\n",
      "\n",
      "📌  ÉCHANTILLON :\n",
      "       nom alias telephone telephone_secondaire             commande      adresse  ville  nb_commandes\n",
      "Ada Carole       677769841                 None   CE1, CM1 & Class 6     Bonabéri Douala             1\n",
      "      Affo       678935877                 None          Fournitures    Bonapriso Douala             1\n",
      "  Anderson       690501397                 None              CP, SIL      Bonanjo Douala             2\n",
      "     Annie       677495411                 None Class 1,4, SIL & CE2       Makèpe Douala             1\n",
      "     Arcel       694851306                 None   Class 1, Nursery 2 Bonamoussadi Douala             2\n"
     ]
    }
   ],
   "source": [
    "print(f\"✅ {len(clients_2022_df)} clients extraits\")\n",
    "print(\"\\n📌  ÉCHANTILLON :\")\n",
    "print(clients_2022_df.head().to_string(index=False))"
   ]
  },
  {
   "cell_type": "code",
   "execution_count": 83,
   "id": "c67faf82",
   "metadata": {},
   "outputs": [
    {
     "name": "stdout",
     "output_type": "stream",
     "text": [
      "💾 Fichier sauvegardé → ../data/processed/clients_2022.csv\n"
     ]
    }
   ],
   "source": [
    "# Sauvegarde\n",
    "clients_2022_df.to_csv(CLIENTS_2022_PATH, index=False, encoding='utf-8')\n",
    "print(f\"💾 Fichier sauvegardé → {CLIENTS_2022_PATH}\")"
   ]
  },
  {
   "cell_type": "markdown",
   "id": "acb7f43f",
   "metadata": {},
   "source": [
    "### **6.3 - Analyse des performances commerciales 2022**"
   ]
  },
  {
   "cell_type": "code",
   "execution_count": 84,
   "id": "eb0e07eb",
   "metadata": {},
   "outputs": [],
   "source": [
    "# Configuration des graphiques\n",
    "plt.style.use('default')\n",
    "sns.set_palette(\"viridis\")\n",
    "\n",
    "# Préparation des données pour l'analyse\n",
    "ca_par_ville_2022 = ventes_2022.copy()\n",
    "ca_par_ville_2022[\"montant\"] = ca_par_ville_2022[\"montant\"].apply(lambda x: int(x) if str(x).isdigit() else 0)\n",
    "ca_par_ville_2022[\"frais_livraison\"] = ca_par_ville_2022[\"frais_livraison\"].apply(lambda x: int(x) if str(x).isdigit() else 0)\n",
    "ca_par_ville_2022[\"chiffre_affaire\"] = ca_par_ville_2022[\"montant\"] + ca_par_ville_2022[\"frais_livraison\"]"
   ]
  },
  {
   "cell_type": "code",
   "execution_count": 85,
   "id": "afc86bf9",
   "metadata": {},
   "outputs": [
    {
     "name": "stderr",
     "output_type": "stream",
     "text": [
      "/var/folders/1n/d3tj9kpd549_ytmqz2cjc6rc0000gn/T/ipykernel_39234/3702559618.py:4: FutureWarning: \n",
      "\n",
      "Passing `palette` without assigning `hue` is deprecated and will be removed in v0.14.0. Assign the `x` variable to `hue` and set `legend=False` for the same effect.\n",
      "\n",
      "  ax1 = sns.barplot(x=ca_by_ville_2022.index, y=ca_by_ville_2022.values, palette=\"viridis\")\n"
     ]
    },
    {
     "data": {
      "image/png": "[encoded data removed]",
      "text/plain": [
       "<Figure size 1000x600 with 1 Axes>"
      ]
     },
     "metadata": {},
     "output_type": "display_data"
    }
   ],
   "source": [
    "# Graphique 1 - Répartition du chiffre d'affaires par ville 2022\n",
    "ca_by_ville_2022 = ca_par_ville_2022.groupby(\"ville\")[\"chiffre_affaire\"].sum().sort_values(ascending=False)\n",
    "plt.figure(figsize=(10, 6))\n",
    "ax1 = sns.barplot(x=ca_by_ville_2022.index, y=ca_by_ville_2022.values, palette=\"viridis\")\n",
    "plt.title(\"Répartition du Chiffre d'Affaires par Ville (2022)\")\n",
    "plt.xlabel(\"Ville\")\n",
    "plt.ylabel(\"Chiffre d'Affaires (FCFA)\")\n",
    "\n",
    "for i, value in enumerate(ca_by_ville_2022.values):\n",
    "    ax1.text(i, value + 5000, f\"{value:,.0f}\", ha='center', va='bottom', fontsize=10, weight='bold')\n",
    "\n",
    "plt.xticks(rotation=45)\n",
    "plt.tight_layout()\n",
    "plt.show()"
   ]
  },
  {
   "cell_type": "code",
   "execution_count": 86,
   "id": "0c6c469b",
   "metadata": {},
   "outputs": [
    {
     "name": "stderr",
     "output_type": "stream",
     "text": [
      "/var/folders/1n/d3tj9kpd549_ytmqz2cjc6rc0000gn/T/ipykernel_39234/177298246.py:4: FutureWarning: \n",
      "\n",
      "Passing `palette` without assigning `hue` is deprecated and will be removed in v0.14.0. Assign the `x` variable to `hue` and set `legend=False` for the same effect.\n",
      "\n",
      "  ax2 = sns.barplot(x=top_clients_2022.index, y=top_clients_2022.values, palette=\"viridis\")\n"
     ]
    },
    {
     "data": {
      "image/png": "[encoded data removed]",
      "text/plain": [
       "<Figure size 1500x800 with 1 Axes>"
      ]
     },
     "metadata": {},
     "output_type": "display_data"
    }
   ],
   "source": [
    "# Graphique 2 - Top 10 clients par chiffre d'affaires 2022\n",
    "top_clients_2022 = ca_par_ville_2022.groupby(\"nom\")[\"chiffre_affaire\"].sum().sort_values(ascending=False).head(10)\n",
    "plt.figure(figsize=(15, 8))\n",
    "ax2 = sns.barplot(x=top_clients_2022.index, y=top_clients_2022.values, palette=\"viridis\")\n",
    "plt.title(\"Top 10 Clients 2022 par Chiffre d'Affaires\")\n",
    "plt.xlabel(\"Client\")\n",
    "plt.ylabel(\"Chiffre d'Affaires (FCFA)\")\n",
    "\n",
    "for i, value in enumerate(top_clients_2022.values):\n",
    "    ax2.text(i, value + 1000, f\"{value:,.0f}\", ha='center', va='bottom', fontsize=9, weight='bold')\n",
    "\n",
    "plt.xticks(rotation=45, ha='right')\n",
    "plt.tight_layout()\n",
    "plt.show()"
   ]
  },
  {
   "cell_type": "code",
   "execution_count": 87,
   "id": "ab1361e0",
   "metadata": {},
   "outputs": [
    {
     "name": "stderr",
     "output_type": "stream",
     "text": [
      "/var/folders/1n/d3tj9kpd549_ytmqz2cjc6rc0000gn/T/ipykernel_39234/568607342.py:4: FutureWarning: \n",
      "\n",
      "Passing `palette` without assigning `hue` is deprecated and will be removed in v0.14.0. Assign the `x` variable to `hue` and set `legend=False` for the same effect.\n",
      "\n",
      "  ax3 = sns.barplot(x=commandes_par_ville_2022.index, y=commandes_par_ville_2022.values, palette=\"viridis\")\n"
     ]
    },
    {
     "data": {
      "image/png": "[encoded data removed]",
      "text/plain": [
       "<Figure size 800x600 with 1 Axes>"
      ]
     },
     "metadata": {},
     "output_type": "display_data"
    }
   ],
   "source": [
    "# Graphique 3 - Répartition du nombre de commandes par ville 2022\n",
    "commandes_par_ville_2022 = ventes_2022[\"ville\"].value_counts()\n",
    "plt.figure(figsize=(8, 6))\n",
    "ax3 = sns.barplot(x=commandes_par_ville_2022.index, y=commandes_par_ville_2022.values, palette=\"viridis\")\n",
    "plt.title(\"Répartition des Commandes par Ville (2022)\")\n",
    "plt.xlabel(\"Ville\")\n",
    "plt.ylabel(\"Nombre de Commandes\")\n",
    "\n",
    "for i, value in enumerate(commandes_par_ville_2022.values):\n",
    "    ax3.text(i, value + 1, f\"{value:,}\", ha='center', va='bottom', fontsize=10, weight='bold')\n",
    "\n",
    "plt.xticks(rotation=45)\n",
    "plt.tight_layout()\n",
    "plt.show()"
   ]
  },
  {
   "cell_type": "code",
   "execution_count": 88,
   "id": "3c950855",
   "metadata": {},
   "outputs": [
    {
     "name": "stdout",
     "output_type": "stream",
     "text": [
      "\n",
      "📈 STATISTIQUES FINALES 2022:\n",
      "   \n",
      "• Nombre total de ventes: 102\n",
      "   \n",
      "• Nombre de clients uniques: 84\n",
      "   \n",
      "• Chiffre d'affaires total: 3,540,800 FCFA\n",
      "   \n",
      "• Chiffre d'affaires moyen par vente: 34,714 FCFA\n",
      "   \n",
      "• Ville principale: Douala (3,540,800 FCFA)\n"
     ]
    }
   ],
   "source": [
    "# Statistiques finales\n",
    "print(f\"\\n📈 STATISTIQUES FINALES 2022:\")\n",
    "print(f\"   \\n• Nombre total de ventes: {len(ventes_2022):,}\")\n",
    "print(f\"   \\n• Nombre de clients uniques: {len(clients_2022_df):,}\")\n",
    "print(f\"   \\n• Chiffre d'affaires total: {ca_by_ville_2022.sum():,} FCFA\")\n",
    "print(f\"   \\n• Chiffre d'affaires moyen par vente: {ca_by_ville_2022.sum() / len(ventes_2022):,.0f} FCFA\")\n",
    "print(f\"   \\n• Ville principale: {ca_by_ville_2022.index[0]} ({ca_by_ville_2022.iloc[0]:,} FCFA)\")"
   ]
  }
 ],
 "metadata": {
  "kernelspec": {
   "display_name": ".venv",
   "language": "python",
   "name": "python3"
  },
  "language_info": {
   "codemirror_mode": {
    "name": "ipython",
    "version": 3
   },
   "file_extension": ".py",
   "mimetype": "text/x-python",
   "name": "python",
   "nbconvert_exporter": "python",
   "pygments_lexer": "ipython3",
   "version": "3.9.20"
  }
 },
 "nbformat": 4,
 "nbformat_minor": 5
}
